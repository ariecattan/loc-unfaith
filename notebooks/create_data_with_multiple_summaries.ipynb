{
 "cells": [
  {
   "cell_type": "code",
   "execution_count": 3,
   "metadata": {},
   "outputs": [],
   "source": [
    "import json \n",
    "import os "
   ]
  },
  {
   "cell_type": "code",
   "execution_count": 4,
   "metadata": {},
   "outputs": [],
   "source": [
    "dir_path = \"../src/data/cliff_flan_t5_xl_5_epochs_with_source_ids\""
   ]
  },
  {
   "cell_type": "code",
   "execution_count": 5,
   "metadata": {},
   "outputs": [],
   "source": [
    "source_ids = [8, 17, 20, 118]\n",
    "systems = [\"bart\", \"pegasus\"]"
   ]
  },
  {
   "cell_type": "code",
   "execution_count": 6,
   "metadata": {},
   "outputs": [],
   "source": [
    "source_id = source_ids[0]"
   ]
  },
  {
   "cell_type": "code",
   "execution_count": 7,
   "metadata": {},
   "outputs": [],
   "source": [
    "data = []\n",
    "for system in systems:\n",
    "    path = os.path.join(dir_path, f\"{source_id}_{system}_xsum.json\")\n",
    "    with open(path, \"r\") as f:\n",
    "        data.append(json.load(f))"
   ]
  },
  {
   "cell_type": "code",
   "execution_count": 8,
   "metadata": {},
   "outputs": [
    {
     "data": {
      "text/plain": [
       "dict_keys(['source', 'summary', 'spans', 'qas', 'datasource', 'summaryId', 'aggrefactId', 'label', 'dataset'])"
      ]
     },
     "execution_count": 8,
     "metadata": {},
     "output_type": "execute_result"
    }
   ],
   "source": [
    "data[0].keys()"
   ]
  },
  {
   "cell_type": "code",
   "execution_count": 9,
   "metadata": {},
   "outputs": [
    {
     "data": {
      "text/plain": [
       "'cliff'"
      ]
     },
     "execution_count": 9,
     "metadata": {},
     "output_type": "execute_result"
    }
   ],
   "source": [
    "data[0][\"dataset\"]"
   ]
  },
  {
   "cell_type": "code",
   "execution_count": 10,
   "metadata": {},
   "outputs": [],
   "source": [
    "new_data = {\n",
    "    \"source\": data[0][\"source\"],\n",
    "    \"summaries\": [\n",
    "        {\n",
    "            \"tokens\": data[0][\"summary\"],\n",
    "            \"spans\": data[0][\"spans\"],\n",
    "            \"qas\": data[0][\"qas\"],\n",
    "            \"label\": data[0][\"label\"]\n",
    "        },\n",
    "        {\n",
    "            \"tokens\": data[1][\"summary\"],\n",
    "            \"spans\": data[1][\"spans\"],\n",
    "            \"qas\": data[1][\"qas\"],\n",
    "            \"label\": data[1][\"label\"]\n",
    "        }\n",
    "    ],\n",
    "    \"datasource\": data[0][\"datasource\"],\n",
    "    \"sourceId\": source_id,\n",
    "    \"dataset\": data[0][\"dataset\"]\n",
    "}\n"
   ]
  },
  {
   "cell_type": "code",
   "execution_count": 11,
   "metadata": {},
   "outputs": [],
   "source": [
    "with open(f\"../src/data/multiple_summaries/{source_id}_xsum.json\", \"w\") as f:\n",
    "    json.dump(new_data, f, indent=4)"
   ]
  },
  {
   "cell_type": "code",
   "execution_count": null,
   "metadata": {},
   "outputs": [],
   "source": []
  }
 ],
 "metadata": {
  "kernelspec": {
   "display_name": "loc-unfaith",
   "language": "python",
   "name": "python3"
  },
  "language_info": {
   "codemirror_mode": {
    "name": "ipython",
    "version": 3
   },
   "file_extension": ".py",
   "mimetype": "text/x-python",
   "name": "python",
   "nbconvert_exporter": "python",
   "pygments_lexer": "ipython3",
   "version": "3.8.13"
  }
 },
 "nbformat": 4,
 "nbformat_minor": 2
}
