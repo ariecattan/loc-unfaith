{
 "cells": [
  {
   "cell_type": "code",
   "execution_count": 102,
   "metadata": {},
   "outputs": [],
   "source": [
    "import os \n",
    "import json \n",
    "import pandas as pd \n",
    "from tqdm import tqdm \n",
    "from collections import Counter"
   ]
  },
  {
   "cell_type": "code",
   "execution_count": 69,
   "metadata": {},
   "outputs": [],
   "source": [
    "dir_path = \"../src/data/verifiability\""
   ]
  },
  {
   "cell_type": "code",
   "execution_count": 70,
   "metadata": {},
   "outputs": [
    {
     "name": "stderr",
     "output_type": "stream",
     "text": [
      "100%|██████████| 626/626 [00:32<00:00, 19.55it/s]\n"
     ]
    }
   ],
   "source": [
    "data = {}\n",
    "for file in tqdm(os.listdir(dir_path)):\n",
    "    path = os.path.join(dir_path, file)\n",
    "    if not path.endswith(\".json\"):\n",
    "        continue\n",
    "    with open(path, \"r\") as f:\n",
    "        topic = json.load(f)\n",
    "    data[file] = topic "
   ]
  },
  {
   "cell_type": "code",
   "execution_count": 71,
   "metadata": {},
   "outputs": [
    {
     "data": {
      "text/plain": [
       "(626, 5)"
      ]
     },
     "execution_count": 71,
     "metadata": {},
     "output_type": "execute_result"
    }
   ],
   "source": [
    "df = pd.DataFrame(data).T\n",
    "df.shape"
   ]
  },
  {
   "cell_type": "code",
   "execution_count": 72,
   "metadata": {},
   "outputs": [
    {
     "data": {
      "text/html": [
       "<div>\n",
       "<style scoped>\n",
       "    .dataframe tbody tr th:only-of-type {\n",
       "        vertical-align: middle;\n",
       "    }\n",
       "\n",
       "    .dataframe tbody tr th {\n",
       "        vertical-align: top;\n",
       "    }\n",
       "\n",
       "    .dataframe thead th {\n",
       "        text-align: right;\n",
       "    }\n",
       "</style>\n",
       "<table border=\"1\" class=\"dataframe\">\n",
       "  <thead>\n",
       "    <tr style=\"text-align: right;\">\n",
       "      <th></th>\n",
       "      <th>source</th>\n",
       "      <th>summaries</th>\n",
       "      <th>sourceId</th>\n",
       "      <th>datasource</th>\n",
       "      <th>dataset</th>\n",
       "      <th>origin_id</th>\n",
       "    </tr>\n",
       "  </thead>\n",
       "  <tbody>\n",
       "    <tr>\n",
       "      <th>4c86c19f87ab9fb1bdfd841b8e31a1b45ab37578409ec82eabebf5bb5644e3ab-perplexity.json</th>\n",
       "      <td>[[{'id': 0, 'text': 'Here', 'lemma': 'here'}, ...</td>\n",
       "      <td>[{'tokens': [{'id': 0, 'sent_id': 0, 'text': '...</td>\n",
       "      <td>4c86c19f87ab9fb1bdfd841b8e31a1b45ab37578409ec8...</td>\n",
       "      <td>davinci_debate</td>\n",
       "      <td>verifiability</td>\n",
       "      <td>4c86c19f87ab9fb1bdfd841b8e31a1b45ab37578409ec8...</td>\n",
       "    </tr>\n",
       "    <tr>\n",
       "      <th>f71880c1058ad17c25bc75e2f80737f5a92429f97db8ef0da9583dc50a28208a-perplexity.json</th>\n",
       "      <td>[[{'id': 0, 'text': 'Annotation', 'lemma': 'an...</td>\n",
       "      <td>[{'tokens': [{'id': 0, 'sent_id': 0, 'text': '...</td>\n",
       "      <td>f71880c1058ad17c25bc75e2f80737f5a92429f97db8ef...</td>\n",
       "      <td>eli5_live</td>\n",
       "      <td>verifiability</td>\n",
       "      <td>f71880c1058ad17c25bc75e2f80737f5a92429f97db8ef...</td>\n",
       "    </tr>\n",
       "    <tr>\n",
       "      <th>49364587115ac904a3b1690fe11cb5ac15b19e1a71e950f3647c97972edda35c-neeva.json</th>\n",
       "      <td>[[{'id': 0, 'text': '00:00', 'lemma': '00:00'}...</td>\n",
       "      <td>[{'tokens': [{'id': 0, 'sent_id': 0, 'text': '...</td>\n",
       "      <td>49364587115ac904a3b1690fe11cb5ac15b19e1a71e950...</td>\n",
       "      <td>nq_table_without_short_answer</td>\n",
       "      <td>verifiability</td>\n",
       "      <td>49364587115ac904a3b1690fe11cb5ac15b19e1a71e950...</td>\n",
       "    </tr>\n",
       "    <tr>\n",
       "      <th>37ebe00cf860c934f5576ef6d7e892fb2244493f5d68c0cedd9ec3f74dc5cda1-perplexity.json</th>\n",
       "      <td>[[{'id': 0, 'text': 'Site', 'lemma': 'site'}, ...</td>\n",
       "      <td>[{'tokens': [{'id': 0, 'sent_id': 0, 'text': '...</td>\n",
       "      <td>37ebe00cf860c934f5576ef6d7e892fb2244493f5d68c0...</td>\n",
       "      <td>nq_paragraph_without_short_answer</td>\n",
       "      <td>verifiability</td>\n",
       "      <td>37ebe00cf860c934f5576ef6d7e892fb2244493f5d68c0...</td>\n",
       "    </tr>\n",
       "    <tr>\n",
       "      <th>03a077f9b62a4694a784fa650c7e51584b78c84fa5edca23298414d2a4669142-neeva.json</th>\n",
       "      <td>[[{'id': 0, 'text': 'From', 'lemma': 'from'}, ...</td>\n",
       "      <td>[{'tokens': [{'id': 0, 'sent_id': 0, 'text': '...</td>\n",
       "      <td>03a077f9b62a4694a784fa650c7e51584b78c84fa5edca...</td>\n",
       "      <td>nq_paragraph_with_short_answer</td>\n",
       "      <td>verifiability</td>\n",
       "      <td>03a077f9b62a4694a784fa650c7e51584b78c84fa5edca...</td>\n",
       "    </tr>\n",
       "  </tbody>\n",
       "</table>\n",
       "</div>"
      ],
      "text/plain": [
       "                                                                                               source  \\\n",
       "4c86c19f87ab9fb1bdfd841b8e31a1b45ab37578409ec82...  [[{'id': 0, 'text': 'Here', 'lemma': 'here'}, ...   \n",
       "f71880c1058ad17c25bc75e2f80737f5a92429f97db8ef0...  [[{'id': 0, 'text': 'Annotation', 'lemma': 'an...   \n",
       "49364587115ac904a3b1690fe11cb5ac15b19e1a71e950f...  [[{'id': 0, 'text': '00:00', 'lemma': '00:00'}...   \n",
       "37ebe00cf860c934f5576ef6d7e892fb2244493f5d68c0c...  [[{'id': 0, 'text': 'Site', 'lemma': 'site'}, ...   \n",
       "03a077f9b62a4694a784fa650c7e51584b78c84fa5edca2...  [[{'id': 0, 'text': 'From', 'lemma': 'from'}, ...   \n",
       "\n",
       "                                                                                            summaries  \\\n",
       "4c86c19f87ab9fb1bdfd841b8e31a1b45ab37578409ec82...  [{'tokens': [{'id': 0, 'sent_id': 0, 'text': '...   \n",
       "f71880c1058ad17c25bc75e2f80737f5a92429f97db8ef0...  [{'tokens': [{'id': 0, 'sent_id': 0, 'text': '...   \n",
       "49364587115ac904a3b1690fe11cb5ac15b19e1a71e950f...  [{'tokens': [{'id': 0, 'sent_id': 0, 'text': '...   \n",
       "37ebe00cf860c934f5576ef6d7e892fb2244493f5d68c0c...  [{'tokens': [{'id': 0, 'sent_id': 0, 'text': '...   \n",
       "03a077f9b62a4694a784fa650c7e51584b78c84fa5edca2...  [{'tokens': [{'id': 0, 'sent_id': 0, 'text': '...   \n",
       "\n",
       "                                                                                             sourceId  \\\n",
       "4c86c19f87ab9fb1bdfd841b8e31a1b45ab37578409ec82...  4c86c19f87ab9fb1bdfd841b8e31a1b45ab37578409ec8...   \n",
       "f71880c1058ad17c25bc75e2f80737f5a92429f97db8ef0...  f71880c1058ad17c25bc75e2f80737f5a92429f97db8ef...   \n",
       "49364587115ac904a3b1690fe11cb5ac15b19e1a71e950f...  49364587115ac904a3b1690fe11cb5ac15b19e1a71e950...   \n",
       "37ebe00cf860c934f5576ef6d7e892fb2244493f5d68c0c...  37ebe00cf860c934f5576ef6d7e892fb2244493f5d68c0...   \n",
       "03a077f9b62a4694a784fa650c7e51584b78c84fa5edca2...  03a077f9b62a4694a784fa650c7e51584b78c84fa5edca...   \n",
       "\n",
       "                                                                           datasource  \\\n",
       "4c86c19f87ab9fb1bdfd841b8e31a1b45ab37578409ec82...                     davinci_debate   \n",
       "f71880c1058ad17c25bc75e2f80737f5a92429f97db8ef0...                          eli5_live   \n",
       "49364587115ac904a3b1690fe11cb5ac15b19e1a71e950f...      nq_table_without_short_answer   \n",
       "37ebe00cf860c934f5576ef6d7e892fb2244493f5d68c0c...  nq_paragraph_without_short_answer   \n",
       "03a077f9b62a4694a784fa650c7e51584b78c84fa5edca2...     nq_paragraph_with_short_answer   \n",
       "\n",
       "                                                          dataset  \\\n",
       "4c86c19f87ab9fb1bdfd841b8e31a1b45ab37578409ec82...  verifiability   \n",
       "f71880c1058ad17c25bc75e2f80737f5a92429f97db8ef0...  verifiability   \n",
       "49364587115ac904a3b1690fe11cb5ac15b19e1a71e950f...  verifiability   \n",
       "37ebe00cf860c934f5576ef6d7e892fb2244493f5d68c0c...  verifiability   \n",
       "03a077f9b62a4694a784fa650c7e51584b78c84fa5edca2...  verifiability   \n",
       "\n",
       "                                                                                            origin_id  \n",
       "4c86c19f87ab9fb1bdfd841b8e31a1b45ab37578409ec82...  4c86c19f87ab9fb1bdfd841b8e31a1b45ab37578409ec8...  \n",
       "f71880c1058ad17c25bc75e2f80737f5a92429f97db8ef0...  f71880c1058ad17c25bc75e2f80737f5a92429f97db8ef...  \n",
       "49364587115ac904a3b1690fe11cb5ac15b19e1a71e950f...  49364587115ac904a3b1690fe11cb5ac15b19e1a71e950...  \n",
       "37ebe00cf860c934f5576ef6d7e892fb2244493f5d68c0c...  37ebe00cf860c934f5576ef6d7e892fb2244493f5d68c0...  \n",
       "03a077f9b62a4694a784fa650c7e51584b78c84fa5edca2...  03a077f9b62a4694a784fa650c7e51584b78c84fa5edca...  "
      ]
     },
     "execution_count": 72,
     "metadata": {},
     "output_type": "execute_result"
    }
   ],
   "source": [
    "df = pd.DataFrame(data).T\n",
    "df = df[~df[\"sourceId\"].isna()].copy()\n",
    "df[\"origin_id\"] = df[\"sourceId\"].apply(lambda s: s.split(\"-\")[0])\n",
    "df.head()"
   ]
  },
  {
   "cell_type": "code",
   "execution_count": 73,
   "metadata": {},
   "outputs": [],
   "source": [
    "interesting_labels = {\n",
    "    \"Citation Completely Supports but Also Refutes Statement\",\n",
    "    \"Citation Partially Supports Statement\",\n",
    "    \"Citation Provides No Support for Statement\"\n",
    "}"
   ]
  },
  {
   "cell_type": "code",
   "execution_count": 74,
   "metadata": {},
   "outputs": [
    {
     "data": {
      "text/plain": [
       "dict_keys(['tokens', 'spans', 'qas', 'predicates', 'label', 'summary_id'])"
      ]
     },
     "execution_count": 74,
     "metadata": {},
     "output_type": "execute_result"
    }
   ],
   "source": [
    "df.iloc[0][\"summaries\"][0].keys()"
   ]
  },
  {
   "cell_type": "code",
   "execution_count": 75,
   "metadata": {},
   "outputs": [],
   "source": [
    "df[\"len\"] = df[\"summaries\"].apply(len)\n",
    "df[\"interesting\"] = df[\"summaries\"].apply(lambda lst: sum(1 for x in lst if x[\"label\"] in interesting_labels))"
   ]
  },
  {
   "cell_type": "code",
   "execution_count": 82,
   "metadata": {},
   "outputs": [
    {
     "data": {
      "text/plain": [
       "1    219\n",
       "2    153\n",
       "3    116\n",
       "4     66\n",
       "5     11\n",
       "6      3\n",
       "9      1\n",
       "7      1\n",
       "Name: interesting, dtype: int64"
      ]
     },
     "execution_count": 82,
     "metadata": {},
     "output_type": "execute_result"
    }
   ],
   "source": [
    "df[\"interesting\"].value_counts()"
   ]
  },
  {
   "cell_type": "code",
   "execution_count": 89,
   "metadata": {},
   "outputs": [
    {
     "data": {
      "text/html": [
       "<div>\n",
       "<style scoped>\n",
       "    .dataframe tbody tr th:only-of-type {\n",
       "        vertical-align: middle;\n",
       "    }\n",
       "\n",
       "    .dataframe tbody tr th {\n",
       "        vertical-align: top;\n",
       "    }\n",
       "\n",
       "    .dataframe thead th {\n",
       "        text-align: right;\n",
       "    }\n",
       "</style>\n",
       "<table border=\"1\" class=\"dataframe\">\n",
       "  <thead>\n",
       "    <tr style=\"text-align: right;\">\n",
       "      <th></th>\n",
       "      <th>source</th>\n",
       "      <th>summaries</th>\n",
       "      <th>sourceId</th>\n",
       "      <th>datasource</th>\n",
       "      <th>dataset</th>\n",
       "      <th>origin_id</th>\n",
       "      <th>len</th>\n",
       "      <th>interesting</th>\n",
       "    </tr>\n",
       "  </thead>\n",
       "  <tbody>\n",
       "    <tr>\n",
       "      <th>4c86c19f87ab9fb1bdfd841b8e31a1b45ab37578409ec82eabebf5bb5644e3ab-perplexity.json</th>\n",
       "      <td>[[{'id': 0, 'text': 'Here', 'lemma': 'here'}, ...</td>\n",
       "      <td>[{'tokens': [{'id': 0, 'sent_id': 0, 'text': '...</td>\n",
       "      <td>4c86c19f87ab9fb1bdfd841b8e31a1b45ab37578409ec8...</td>\n",
       "      <td>davinci_debate</td>\n",
       "      <td>verifiability</td>\n",
       "      <td>4c86c19f87ab9fb1bdfd841b8e31a1b45ab37578409ec8...</td>\n",
       "      <td>4</td>\n",
       "      <td>2</td>\n",
       "    </tr>\n",
       "    <tr>\n",
       "      <th>f71880c1058ad17c25bc75e2f80737f5a92429f97db8ef0da9583dc50a28208a-perplexity.json</th>\n",
       "      <td>[[{'id': 0, 'text': 'Annotation', 'lemma': 'an...</td>\n",
       "      <td>[{'tokens': [{'id': 0, 'sent_id': 0, 'text': '...</td>\n",
       "      <td>f71880c1058ad17c25bc75e2f80737f5a92429f97db8ef...</td>\n",
       "      <td>eli5_live</td>\n",
       "      <td>verifiability</td>\n",
       "      <td>f71880c1058ad17c25bc75e2f80737f5a92429f97db8ef...</td>\n",
       "      <td>4</td>\n",
       "      <td>1</td>\n",
       "    </tr>\n",
       "    <tr>\n",
       "      <th>49364587115ac904a3b1690fe11cb5ac15b19e1a71e950f3647c97972edda35c-neeva.json</th>\n",
       "      <td>[[{'id': 0, 'text': '00:00', 'lemma': '00:00'}...</td>\n",
       "      <td>[{'tokens': [{'id': 0, 'sent_id': 0, 'text': '...</td>\n",
       "      <td>49364587115ac904a3b1690fe11cb5ac15b19e1a71e950...</td>\n",
       "      <td>nq_table_without_short_answer</td>\n",
       "      <td>verifiability</td>\n",
       "      <td>49364587115ac904a3b1690fe11cb5ac15b19e1a71e950...</td>\n",
       "      <td>4</td>\n",
       "      <td>1</td>\n",
       "    </tr>\n",
       "    <tr>\n",
       "      <th>37ebe00cf860c934f5576ef6d7e892fb2244493f5d68c0cedd9ec3f74dc5cda1-perplexity.json</th>\n",
       "      <td>[[{'id': 0, 'text': 'Site', 'lemma': 'site'}, ...</td>\n",
       "      <td>[{'tokens': [{'id': 0, 'sent_id': 0, 'text': '...</td>\n",
       "      <td>37ebe00cf860c934f5576ef6d7e892fb2244493f5d68c0...</td>\n",
       "      <td>nq_paragraph_without_short_answer</td>\n",
       "      <td>verifiability</td>\n",
       "      <td>37ebe00cf860c934f5576ef6d7e892fb2244493f5d68c0...</td>\n",
       "      <td>4</td>\n",
       "      <td>1</td>\n",
       "    </tr>\n",
       "    <tr>\n",
       "      <th>03a077f9b62a4694a784fa650c7e51584b78c84fa5edca23298414d2a4669142-neeva.json</th>\n",
       "      <td>[[{'id': 0, 'text': 'From', 'lemma': 'from'}, ...</td>\n",
       "      <td>[{'tokens': [{'id': 0, 'sent_id': 0, 'text': '...</td>\n",
       "      <td>03a077f9b62a4694a784fa650c7e51584b78c84fa5edca...</td>\n",
       "      <td>nq_paragraph_with_short_answer</td>\n",
       "      <td>verifiability</td>\n",
       "      <td>03a077f9b62a4694a784fa650c7e51584b78c84fa5edca...</td>\n",
       "      <td>5</td>\n",
       "      <td>2</td>\n",
       "    </tr>\n",
       "  </tbody>\n",
       "</table>\n",
       "</div>"
      ],
      "text/plain": [
       "                                                                                               source  \\\n",
       "4c86c19f87ab9fb1bdfd841b8e31a1b45ab37578409ec82...  [[{'id': 0, 'text': 'Here', 'lemma': 'here'}, ...   \n",
       "f71880c1058ad17c25bc75e2f80737f5a92429f97db8ef0...  [[{'id': 0, 'text': 'Annotation', 'lemma': 'an...   \n",
       "49364587115ac904a3b1690fe11cb5ac15b19e1a71e950f...  [[{'id': 0, 'text': '00:00', 'lemma': '00:00'}...   \n",
       "37ebe00cf860c934f5576ef6d7e892fb2244493f5d68c0c...  [[{'id': 0, 'text': 'Site', 'lemma': 'site'}, ...   \n",
       "03a077f9b62a4694a784fa650c7e51584b78c84fa5edca2...  [[{'id': 0, 'text': 'From', 'lemma': 'from'}, ...   \n",
       "\n",
       "                                                                                            summaries  \\\n",
       "4c86c19f87ab9fb1bdfd841b8e31a1b45ab37578409ec82...  [{'tokens': [{'id': 0, 'sent_id': 0, 'text': '...   \n",
       "f71880c1058ad17c25bc75e2f80737f5a92429f97db8ef0...  [{'tokens': [{'id': 0, 'sent_id': 0, 'text': '...   \n",
       "49364587115ac904a3b1690fe11cb5ac15b19e1a71e950f...  [{'tokens': [{'id': 0, 'sent_id': 0, 'text': '...   \n",
       "37ebe00cf860c934f5576ef6d7e892fb2244493f5d68c0c...  [{'tokens': [{'id': 0, 'sent_id': 0, 'text': '...   \n",
       "03a077f9b62a4694a784fa650c7e51584b78c84fa5edca2...  [{'tokens': [{'id': 0, 'sent_id': 0, 'text': '...   \n",
       "\n",
       "                                                                                             sourceId  \\\n",
       "4c86c19f87ab9fb1bdfd841b8e31a1b45ab37578409ec82...  4c86c19f87ab9fb1bdfd841b8e31a1b45ab37578409ec8...   \n",
       "f71880c1058ad17c25bc75e2f80737f5a92429f97db8ef0...  f71880c1058ad17c25bc75e2f80737f5a92429f97db8ef...   \n",
       "49364587115ac904a3b1690fe11cb5ac15b19e1a71e950f...  49364587115ac904a3b1690fe11cb5ac15b19e1a71e950...   \n",
       "37ebe00cf860c934f5576ef6d7e892fb2244493f5d68c0c...  37ebe00cf860c934f5576ef6d7e892fb2244493f5d68c0...   \n",
       "03a077f9b62a4694a784fa650c7e51584b78c84fa5edca2...  03a077f9b62a4694a784fa650c7e51584b78c84fa5edca...   \n",
       "\n",
       "                                                                           datasource  \\\n",
       "4c86c19f87ab9fb1bdfd841b8e31a1b45ab37578409ec82...                     davinci_debate   \n",
       "f71880c1058ad17c25bc75e2f80737f5a92429f97db8ef0...                          eli5_live   \n",
       "49364587115ac904a3b1690fe11cb5ac15b19e1a71e950f...      nq_table_without_short_answer   \n",
       "37ebe00cf860c934f5576ef6d7e892fb2244493f5d68c0c...  nq_paragraph_without_short_answer   \n",
       "03a077f9b62a4694a784fa650c7e51584b78c84fa5edca2...     nq_paragraph_with_short_answer   \n",
       "\n",
       "                                                          dataset  \\\n",
       "4c86c19f87ab9fb1bdfd841b8e31a1b45ab37578409ec82...  verifiability   \n",
       "f71880c1058ad17c25bc75e2f80737f5a92429f97db8ef0...  verifiability   \n",
       "49364587115ac904a3b1690fe11cb5ac15b19e1a71e950f...  verifiability   \n",
       "37ebe00cf860c934f5576ef6d7e892fb2244493f5d68c0c...  verifiability   \n",
       "03a077f9b62a4694a784fa650c7e51584b78c84fa5edca2...  verifiability   \n",
       "\n",
       "                                                                                            origin_id  \\\n",
       "4c86c19f87ab9fb1bdfd841b8e31a1b45ab37578409ec82...  4c86c19f87ab9fb1bdfd841b8e31a1b45ab37578409ec8...   \n",
       "f71880c1058ad17c25bc75e2f80737f5a92429f97db8ef0...  f71880c1058ad17c25bc75e2f80737f5a92429f97db8ef...   \n",
       "49364587115ac904a3b1690fe11cb5ac15b19e1a71e950f...  49364587115ac904a3b1690fe11cb5ac15b19e1a71e950...   \n",
       "37ebe00cf860c934f5576ef6d7e892fb2244493f5d68c0c...  37ebe00cf860c934f5576ef6d7e892fb2244493f5d68c0...   \n",
       "03a077f9b62a4694a784fa650c7e51584b78c84fa5edca2...  03a077f9b62a4694a784fa650c7e51584b78c84fa5edca...   \n",
       "\n",
       "                                                    len  interesting  \n",
       "4c86c19f87ab9fb1bdfd841b8e31a1b45ab37578409ec82...    4            2  \n",
       "f71880c1058ad17c25bc75e2f80737f5a92429f97db8ef0...    4            1  \n",
       "49364587115ac904a3b1690fe11cb5ac15b19e1a71e950f...    4            1  \n",
       "37ebe00cf860c934f5576ef6d7e892fb2244493f5d68c0c...    4            1  \n",
       "03a077f9b62a4694a784fa650c7e51584b78c84fa5edca2...    5            2  "
      ]
     },
     "execution_count": 89,
     "metadata": {},
     "output_type": "execute_result"
    }
   ],
   "source": [
    "df.head()"
   ]
  },
  {
   "cell_type": "code",
   "execution_count": 98,
   "metadata": {},
   "outputs": [],
   "source": [
    "def count_qas(topics):\n",
    "    count_sum, count_qas = 0, 0\n",
    "    for topic in topics:\n",
    "        topic_row = df.loc[f\"{topic}.json\"]\n",
    "        count_sum += len(topic_row[\"summaries\"])\n",
    "        count_qas += sum([len(summary[\"qas\"]) for summary in topic_row[\"summaries\"]])\n",
    "    return count_sum, count_qas"
   ]
  },
  {
   "cell_type": "code",
   "execution_count": 106,
   "metadata": {},
   "outputs": [
    {
     "data": {
      "text/plain": [
       "['5493fecb3b55649c32e719484cf5290c9cc8de4b009e012e95005dfee2717acf-perplexity',\n",
       " '584551f86b8670a8f8d4ee66ce93c2c067d0f9eba578a5ec8c3050848f1a3556-neeva',\n",
       " '946f2a5000033b54e28772f2a26b9116785f4f2e447b8d1d5cfc1d808d22d74b-neeva',\n",
       " '009b80f3d3f2422c54b929ca27062e7f34ee4f82a9c2397880d61b0446082273-neeva',\n",
       " 'ac6abf47dd60e35f6c0c2833afa0a572eba1969210576d29119758c652c2fdd1-perplexity',\n",
       " 'd1ad3895b68dc7b6ef730336d3e3ca9a5395d291ebfe19d63c1b9921bf561830-perplexity',\n",
       " 'a135f8aee02665d0c34ffe0d2a639a2e7c50caece89353927cf666694a02e9cc-neeva',\n",
       " '62f2ad142d7bdf639b54c36a2c78cb9f5502fce8fc3fd0639c2831a4cab9d3c0-neeva',\n",
       " 'dc07e5370d5ea81a4a5d0b39a1ea416f49e8b5e975ee8f94eeef9378b5577771-perplexity',\n",
       " 'a163a2cf218524637e4f88ef868f88d34219822b0edcea866bbee1b0c3308587-neeva']"
      ]
     },
     "execution_count": 106,
     "metadata": {},
     "output_type": "execute_result"
    }
   ],
   "source": [
    "chosen_topics = df[\"sourceId\"].sample(10).tolist()\n",
    "chosen_topics"
   ]
  },
  {
   "cell_type": "code",
   "execution_count": 107,
   "metadata": {},
   "outputs": [
    {
     "data": {
      "text/plain": [
       "(54, 619)"
      ]
     },
     "execution_count": 107,
     "metadata": {},
     "output_type": "execute_result"
    }
   ],
   "source": [
    "count_qas(chosen_topics)"
   ]
  },
  {
   "cell_type": "code",
   "execution_count": 112,
   "metadata": {},
   "outputs": [],
   "source": [
    "labels = []\n",
    "for topic in chosen_topics:\n",
    "    topic_row = df.loc[f\"{topic}.json\"]\n",
    "    labels.extend([summary[\"label\"] for summary in topic_row[\"summaries\"]])\n"
   ]
  },
  {
   "cell_type": "code",
   "execution_count": 113,
   "metadata": {},
   "outputs": [
    {
     "data": {
      "text/plain": [
       "Counter({'Citation Partially Supports Statement': 14,\n",
       "         'Citation Completely Supports Statement': 34,\n",
       "         'Citation Provides No Support for Statement': 2})"
      ]
     },
     "execution_count": 113,
     "metadata": {},
     "output_type": "execute_result"
    }
   ],
   "source": [
    "Counter(labels)"
   ]
  },
  {
   "cell_type": "code",
   "execution_count": 111,
   "metadata": {},
   "outputs": [],
   "source": [
    "chosen_topics = ['608ef52ca6dc3ea33dfd78c2014987a7efd23785a6b87363ffb7c4dbccfe5b75-perplexity',\n",
    "                 '608ef52ca6dc3ea33dfd78c2014987a7efd23785a6b87363ffb7c4dbccfe5b75-neeva'\n",
    " '5f70135447f685d2cfb0b6e41b00f2ac787f50611adfde29dd60e9d10a1df831-perplexity',\n",
    " '9befc3bbc7fe5614a69a577553195d42cb7f9468e74d996337a4e67993effa44-perplexity',\n",
    " '9befc3bbc7fe5614a69a577553195d42cb7f9468e74d996337a4e67993effa44-neeva',\n",
    " 'b4f9e9e26e0fd56b0bd5899ce85c75299d6dc5a89c8ce4878bab2c98e752376f-perplexity',\n",
    " 'b4f9e9e26e0fd56b0bd5899ce85c75299d6dc5a89c8ce4878bab2c98e752376f-neeva',\n",
    " 'deae1a7412a8eb9c480322daaed12652bdb50d789d09a393a93348350a4febc1-perplexity',\n",
    " 'ebb3be87f4929f116372109e6e2f166d5ce21d378f61eee6db33e8b306a96ff5-neeva',\n",
    " '308bc8aafa9e96c8ef2c67a01024067171ef6ba93e6479c0d2caaabf50a0fc4b-perplexity',\n",
    " 'affec3fdd0e64a10e1ebf080072586eb4ab38b6f1449502ebf4ba839fd434429-neeva',\n",
    " '1dfb92efea40d15b76af074cf37b9b990d50feb10efdaac6636d788f2b0b0e6b-neeva',\n",
    " 'afa4a5de3563cabb30e68722419064cf4ce932e0cb5024d2bb96b3991f2399f9-perplexity',\n",
    "'67247a4db1b0891fc049618dee77f53ebf388b9b97aacaa9bfd41864de874853-perplexity']"
   ]
  },
  {
   "cell_type": "code",
   "execution_count": 127,
   "metadata": {},
   "outputs": [
    {
     "data": {
      "text/html": [
       "<div>\n",
       "<style scoped>\n",
       "    .dataframe tbody tr th:only-of-type {\n",
       "        vertical-align: middle;\n",
       "    }\n",
       "\n",
       "    .dataframe tbody tr th {\n",
       "        vertical-align: top;\n",
       "    }\n",
       "\n",
       "    .dataframe thead th {\n",
       "        text-align: right;\n",
       "    }\n",
       "</style>\n",
       "<table border=\"1\" class=\"dataframe\">\n",
       "  <thead>\n",
       "    <tr style=\"text-align: right;\">\n",
       "      <th></th>\n",
       "      <th>source</th>\n",
       "      <th>summaries</th>\n",
       "      <th>sourceId</th>\n",
       "      <th>datasource</th>\n",
       "      <th>dataset</th>\n",
       "      <th>origin_id</th>\n",
       "      <th>len</th>\n",
       "      <th>interesting</th>\n",
       "    </tr>\n",
       "  </thead>\n",
       "  <tbody>\n",
       "    <tr>\n",
       "      <th>67247a4db1b0891fc049618dee77f53ebf388b9b97aacaa9bfd41864de874853-perplexity.json</th>\n",
       "      <td>[[{'id': 0, 'text': 'Eye', 'lemma': 'eye'}, {'...</td>\n",
       "      <td>[{'tokens': [{'id': 0, 'sent_id': 0, 'text': '...</td>\n",
       "      <td>67247a4db1b0891fc049618dee77f53ebf388b9b97aaca...</td>\n",
       "      <td>wikihow_keywords</td>\n",
       "      <td>verifiability</td>\n",
       "      <td>67247a4db1b0891fc049618dee77f53ebf388b9b97aaca...</td>\n",
       "      <td>4</td>\n",
       "      <td>1</td>\n",
       "    </tr>\n",
       "  </tbody>\n",
       "</table>\n",
       "</div>"
      ],
      "text/plain": [
       "                                                                                               source  \\\n",
       "67247a4db1b0891fc049618dee77f53ebf388b9b97aacaa...  [[{'id': 0, 'text': 'Eye', 'lemma': 'eye'}, {'...   \n",
       "\n",
       "                                                                                            summaries  \\\n",
       "67247a4db1b0891fc049618dee77f53ebf388b9b97aacaa...  [{'tokens': [{'id': 0, 'sent_id': 0, 'text': '...   \n",
       "\n",
       "                                                                                             sourceId  \\\n",
       "67247a4db1b0891fc049618dee77f53ebf388b9b97aacaa...  67247a4db1b0891fc049618dee77f53ebf388b9b97aaca...   \n",
       "\n",
       "                                                          datasource  \\\n",
       "67247a4db1b0891fc049618dee77f53ebf388b9b97aacaa...  wikihow_keywords   \n",
       "\n",
       "                                                          dataset  \\\n",
       "67247a4db1b0891fc049618dee77f53ebf388b9b97aacaa...  verifiability   \n",
       "\n",
       "                                                                                            origin_id  \\\n",
       "67247a4db1b0891fc049618dee77f53ebf388b9b97aacaa...  67247a4db1b0891fc049618dee77f53ebf388b9b97aaca...   \n",
       "\n",
       "                                                    len  interesting  \n",
       "67247a4db1b0891fc049618dee77f53ebf388b9b97aacaa...    4            1  "
      ]
     },
     "execution_count": 127,
     "metadata": {},
     "output_type": "execute_result"
    }
   ],
   "source": [
    "df[df[\"origin_id\"] == \"67247a4db1b0891fc049618dee77f53ebf388b9b97aacaa9bfd41864de874853\"]"
   ]
  },
  {
   "cell_type": "code",
   "execution_count": null,
   "metadata": {},
   "outputs": [],
   "source": []
  },
  {
   "cell_type": "code",
   "execution_count": null,
   "metadata": {},
   "outputs": [],
   "source": []
  },
  {
   "cell_type": "code",
   "execution_count": null,
   "metadata": {},
   "outputs": [],
   "source": [
    "# next level\n",
    "['5493fecb3b55649c32e719484cf5290c9cc8de4b009e012e95005dfee2717acf-perplexity',\n",
    " '584551f86b8670a8f8d4ee66ce93c2c067d0f9eba578a5ec8c3050848f1a3556-neeva',\n",
    " '946f2a5000033b54e28772f2a26b9116785f4f2e447b8d1d5cfc1d808d22d74b-neeva',\n",
    " '009b80f3d3f2422c54b929ca27062e7f34ee4f82a9c2397880d61b0446082273-neeva',\n",
    " 'ac6abf47dd60e35f6c0c2833afa0a572eba1969210576d29119758c652c2fdd1-perplexity',\n",
    " 'd1ad3895b68dc7b6ef730336d3e3ca9a5395d291ebfe19d63c1b9921bf561830-perplexity',\n",
    " 'a135f8aee02665d0c34ffe0d2a639a2e7c50caece89353927cf666694a02e9cc-neeva',\n",
    " '62f2ad142d7bdf639b54c36a2c78cb9f5502fce8fc3fd0639c2831a4cab9d3c0-neeva',\n",
    " 'dc07e5370d5ea81a4a5d0b39a1ea416f49e8b5e975ee8f94eeef9378b5577771-perplexity',\n",
    " 'a163a2cf218524637e4f88ef868f88d34219822b0edcea866bbee1b0c3308587-neeva']"
   ]
  }
 ],
 "metadata": {
  "kernelspec": {
   "display_name": "loc-unfaith",
   "language": "python",
   "name": "python3"
  },
  "language_info": {
   "codemirror_mode": {
    "name": "ipython",
    "version": 3
   },
   "file_extension": ".py",
   "mimetype": "text/x-python",
   "name": "python",
   "nbconvert_exporter": "python",
   "pygments_lexer": "ipython3",
   "version": "3.8.13"
  }
 },
 "nbformat": 4,
 "nbformat_minor": 2
}
