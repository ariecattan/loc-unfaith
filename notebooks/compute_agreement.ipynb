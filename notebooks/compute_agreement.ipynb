{
 "cells": [
  {
   "cell_type": "code",
   "execution_count": 6,
   "metadata": {},
   "outputs": [],
   "source": [
    "import os \n",
    "import json \n",
    "import pandas as pd \n",
    "import functools\n",
    "from itertools import combinations\n",
    "import collections\n",
    "from sklearn.metrics import cohen_kappa_score\n",
    "import numpy as np \n",
    "import torch \n",
    "from statsmodels.stats import inter_rater as irr\n",
    "from itertools import chain "
   ]
  },
  {
   "cell_type": "code",
   "execution_count": 7,
   "metadata": {},
   "outputs": [],
   "source": [
    "parent_folder = \"../annotations/v1\"\n",
    "annotators = [\"arie\", \"paul\", \"shiyue\", \"david\"]\n",
    "# annotators = [\"arie\", \"paul\"]"
   ]
  },
  {
   "cell_type": "code",
   "execution_count": 8,
   "metadata": {},
   "outputs": [],
   "source": [
    "def process_annotation(path):\n",
    "    with open(path, \"r\") as f:\n",
    "        data = json.load(f)\n",
    "        \n",
    "    # take only spans for annotation (exclude predicate and include predicate)\n",
    "    df_spans = pd.DataFrame([x for x in data[\"spans\"] if \"label\" in x]) \n",
    "    df_spans[\"label\"] = df_spans[\"label\"].astype(int)\n",
    "    df_wrong_spans = df_spans[df_spans[\"label\"] == 0] # take spans with wrong spans\n",
    "    wrong_qas = set(df_wrong_spans.explode(\"qaIds\")[\"qaIds\"].unique())\n",
    "\n",
    "    # add other wrong QAs according to clusters\n",
    "    if \"positiveQAs\" in data:\n",
    "        for _, clusters in data[\"positiveQAs\"].items():\n",
    "            if len(clusters) == 1:\n",
    "                continue\n",
    "            for cluster in clusters:\n",
    "                wrong_qas.update(cluster)\n",
    "\n",
    "    df_qas = pd.DataFrame(data[\"qas\"])\n",
    "    # in qas 0 is correct, 1 is not correct and 2 is inadequate \n",
    "    df_qas.loc[df_qas[\"questionId\"].isin(wrong_qas), 'label'] = 1\n",
    "    df_qas[\"label\"] = df_qas[\"label\"].astype(int)\n",
    "\n",
    "    return df_spans, df_qas, data[\"notes\"]\n",
    "\n",
    "\n",
    "def get_qasem_score(df_qas):\n",
    "    df_relevant = df_qas[df_qas[\"label\"] != 2] # exclude inadequate \n",
    "    return 1 - df_relevant[\"label\"].mean()\n",
    "\n",
    "\n",
    "def get_disagreements(df_a1, df_a2):\n",
    "    df = df_a1.copy()\n",
    "    df.rename(columns={\"label\": \"label_a1\"}, inplace=True)\n",
    "    df[\"label_a2\"] = df_a2[\"label\"]\n",
    "    return df[df[\"label_a1\"] != df[\"label_a2\"]]"
   ]
  },
  {
   "cell_type": "code",
   "execution_count": 9,
   "metadata": {},
   "outputs": [
    {
     "name": "stdout",
     "output_type": "stream",
     "text": [
      "{'59_bart_xsum.json', '76_bart_xsum.json', '76_pegasus_xsum.json', '17_bart_xsum.json', '59_pegasus_xsum.json', '17_pegasus_xsum.json'}\n"
     ]
    }
   ],
   "source": [
    "# find intersection of annotated topics \n",
    "topic_per_annotator = {}\n",
    "for annotator_path in annotators:\n",
    "    topic_per_annotator[annotator_path] = set([x for x in os.listdir(os.path.join(parent_folder, annotator_path)) if x.endswith('json')])\n",
    "    \n",
    "intersection = functools.reduce(lambda x, y: x.intersection(y), topic_per_annotator.values())\n",
    "\n",
    "print(intersection)"
   ]
  },
  {
   "cell_type": "code",
   "execution_count": 10,
   "metadata": {},
   "outputs": [
    {
     "name": "stdout",
     "output_type": "stream",
     "text": [
      "arie-59_bart_xsum.json\n",
      "paul-59_bart_xsum.json\n",
      "shiyue-59_bart_xsum.json\n",
      "david-59_bart_xsum.json\n",
      "arie-76_bart_xsum.json\n",
      "paul-76_bart_xsum.json\n",
      "shiyue-76_bart_xsum.json\n",
      "david-76_bart_xsum.json\n",
      "arie-76_pegasus_xsum.json\n",
      "paul-76_pegasus_xsum.json\n",
      "shiyue-76_pegasus_xsum.json\n",
      "david-76_pegasus_xsum.json\n",
      "arie-17_bart_xsum.json\n",
      "paul-17_bart_xsum.json\n",
      "shiyue-17_bart_xsum.json\n",
      "david-17_bart_xsum.json\n",
      "arie-59_pegasus_xsum.json\n",
      "paul-59_pegasus_xsum.json\n",
      "shiyue-59_pegasus_xsum.json\n",
      "david-59_pegasus_xsum.json\n",
      "arie-17_pegasus_xsum.json\n",
      "paul-17_pegasus_xsum.json\n",
      "shiyue-17_pegasus_xsum.json\n",
      "david-17_pegasus_xsum.json\n"
     ]
    }
   ],
   "source": [
    "processed_files = collections.defaultdict(dict)\n",
    "for topic in intersection:\n",
    "    for annotator in annotators:\n",
    "        print(f'{annotator}-{topic}')\n",
    "        processed_file = process_annotation(os.path.join(parent_folder, annotator, topic))\n",
    "        processed_files[annotator][topic] = processed_file"
   ]
  },
  {
   "cell_type": "code",
   "execution_count": 11,
   "metadata": {},
   "outputs": [
    {
     "name": "stdout",
     "output_type": "stream",
     "text": [
      "0.6458897922312561\n"
     ]
    }
   ],
   "source": [
    "# compute fleiss kappa on all annotators\n",
    "\n",
    "# concatenate QAs predictions for all topics\n",
    "vectors = {\n",
    "    k: list(chain.from_iterable([topic[1][\"label\"].tolist() for _, topic in v.items()]))\n",
    "    for k, v in processed_files.items()\n",
    "}\n",
    "\n",
    "\n",
    "giro = np.array(list(vectors.values())).transpose() # data points should be transposed for computing fleiss\n",
    "\n",
    "fleiss = irr.fleiss_kappa(irr.aggregate_raters(giro)[0], method='fleiss')\n",
    "\n",
    "print(fleiss)"
   ]
  },
  {
   "cell_type": "code",
   "execution_count": 266,
   "metadata": {},
   "outputs": [
    {
     "data": {
      "text/plain": [
       "0.9226190476190477"
      ]
     },
     "execution_count": 266,
     "metadata": {},
     "output_type": "execute_result"
    }
   ],
   "source": [
    "most_common_values = np.apply_along_axis(lambda x: np.bincount(x).argmax(), axis=1, arr=giro)\n",
    "np.average(np.equal(giro, most_common_values[:, np.newaxis]))"
   ]
  },
  {
   "cell_type": "code",
   "execution_count": null,
   "metadata": {},
   "outputs": [],
   "source": []
  },
  {
   "cell_type": "code",
   "execution_count": 267,
   "metadata": {},
   "outputs": [
    {
     "name": "stdout",
     "output_type": "stream",
     "text": [
      "76_pegasus_xsum.json\n",
      "59_pegasus_xsum.json\n",
      "76_bart_xsum.json\n",
      "17_pegasus_xsum.json\n",
      "59_bart_xsum.json\n",
      "17_bart_xsum.json\n"
     ]
    },
    {
     "data": {
      "text/html": [
       "<div>\n",
       "<style scoped>\n",
       "    .dataframe tbody tr th:only-of-type {\n",
       "        vertical-align: middle;\n",
       "    }\n",
       "\n",
       "    .dataframe tbody tr th {\n",
       "        vertical-align: top;\n",
       "    }\n",
       "\n",
       "    .dataframe thead th {\n",
       "        text-align: right;\n",
       "    }\n",
       "</style>\n",
       "<table border=\"1\" class=\"dataframe\">\n",
       "  <thead>\n",
       "    <tr style=\"text-align: right;\">\n",
       "      <th></th>\n",
       "      <th>arie-paul</th>\n",
       "      <th>arie-A1BKFNR313IWRC</th>\n",
       "      <th>arie-A222G1E6051ZV8</th>\n",
       "      <th>paul-A1BKFNR313IWRC</th>\n",
       "      <th>paul-A222G1E6051ZV8</th>\n",
       "      <th>A1BKFNR313IWRC-A222G1E6051ZV8</th>\n",
       "    </tr>\n",
       "  </thead>\n",
       "  <tbody>\n",
       "    <tr>\n",
       "      <th>76_pegasus_xsum.json</th>\n",
       "      <td>(0.6666666666666666, 1.0)</td>\n",
       "      <td>(0.6666666666666666, 1.0)</td>\n",
       "      <td>(1.0, 1.0)</td>\n",
       "      <td>(1.0, 1.0)</td>\n",
       "      <td>(0.6666666666666666, 1.0)</td>\n",
       "      <td>(0.6666666666666666, 1.0)</td>\n",
       "    </tr>\n",
       "    <tr>\n",
       "      <th>59_pegasus_xsum.json</th>\n",
       "      <td>(1.0, 1.0)</td>\n",
       "      <td>(1.0, 1.0)</td>\n",
       "      <td>(1.0, 1.0)</td>\n",
       "      <td>(1.0, 1.0)</td>\n",
       "      <td>(1.0, 1.0)</td>\n",
       "      <td>(1.0, 1.0)</td>\n",
       "    </tr>\n",
       "    <tr>\n",
       "      <th>76_bart_xsum.json</th>\n",
       "      <td>(0.8333333333333334, 0.9166666666666666)</td>\n",
       "      <td>(0.8333333333333334, 0.75)</td>\n",
       "      <td>(0.8333333333333334, 0.9166666666666666)</td>\n",
       "      <td>(0.6666666666666666, 0.6666666666666666)</td>\n",
       "      <td>(1.0, 1.0)</td>\n",
       "      <td>(0.6666666666666666, 0.6666666666666666)</td>\n",
       "    </tr>\n",
       "    <tr>\n",
       "      <th>17_pegasus_xsum.json</th>\n",
       "      <td>(1.0, 1.0)</td>\n",
       "      <td>(1.0, 1.0)</td>\n",
       "      <td>(1.0, 1.0)</td>\n",
       "      <td>(1.0, 1.0)</td>\n",
       "      <td>(1.0, 1.0)</td>\n",
       "      <td>(1.0, 1.0)</td>\n",
       "    </tr>\n",
       "    <tr>\n",
       "      <th>59_bart_xsum.json</th>\n",
       "      <td>(0.75, 1.0)</td>\n",
       "      <td>(0.75, 0.8333333333333334)</td>\n",
       "      <td>(0.5, 0.8333333333333334)</td>\n",
       "      <td>(1.0, 0.8333333333333334)</td>\n",
       "      <td>(0.75, 0.8333333333333334)</td>\n",
       "      <td>(0.75, 0.6666666666666666)</td>\n",
       "    </tr>\n",
       "    <tr>\n",
       "      <th>17_bart_xsum.json</th>\n",
       "      <td>(1.0, 0.9166666666666666)</td>\n",
       "      <td>(0.8333333333333334, 0.6666666666666666)</td>\n",
       "      <td>(1.0, 0.75)</td>\n",
       "      <td>(0.8333333333333334, 0.75)</td>\n",
       "      <td>(1.0, 0.8333333333333334)</td>\n",
       "      <td>(0.8333333333333334, 0.75)</td>\n",
       "    </tr>\n",
       "  </tbody>\n",
       "</table>\n",
       "</div>"
      ],
      "text/plain": [
       "                                                     arie-paul  \\\n",
       "76_pegasus_xsum.json                 (0.6666666666666666, 1.0)   \n",
       "59_pegasus_xsum.json                                (1.0, 1.0)   \n",
       "76_bart_xsum.json     (0.8333333333333334, 0.9166666666666666)   \n",
       "17_pegasus_xsum.json                                (1.0, 1.0)   \n",
       "59_bart_xsum.json                                  (0.75, 1.0)   \n",
       "17_bart_xsum.json                    (1.0, 0.9166666666666666)   \n",
       "\n",
       "                                           arie-A1BKFNR313IWRC  \\\n",
       "76_pegasus_xsum.json                 (0.6666666666666666, 1.0)   \n",
       "59_pegasus_xsum.json                                (1.0, 1.0)   \n",
       "76_bart_xsum.json                   (0.8333333333333334, 0.75)   \n",
       "17_pegasus_xsum.json                                (1.0, 1.0)   \n",
       "59_bart_xsum.json                   (0.75, 0.8333333333333334)   \n",
       "17_bart_xsum.json     (0.8333333333333334, 0.6666666666666666)   \n",
       "\n",
       "                                           arie-A222G1E6051ZV8  \\\n",
       "76_pegasus_xsum.json                                (1.0, 1.0)   \n",
       "59_pegasus_xsum.json                                (1.0, 1.0)   \n",
       "76_bart_xsum.json     (0.8333333333333334, 0.9166666666666666)   \n",
       "17_pegasus_xsum.json                                (1.0, 1.0)   \n",
       "59_bart_xsum.json                    (0.5, 0.8333333333333334)   \n",
       "17_bart_xsum.json                                  (1.0, 0.75)   \n",
       "\n",
       "                                           paul-A1BKFNR313IWRC  \\\n",
       "76_pegasus_xsum.json                                (1.0, 1.0)   \n",
       "59_pegasus_xsum.json                                (1.0, 1.0)   \n",
       "76_bart_xsum.json     (0.6666666666666666, 0.6666666666666666)   \n",
       "17_pegasus_xsum.json                                (1.0, 1.0)   \n",
       "59_bart_xsum.json                    (1.0, 0.8333333333333334)   \n",
       "17_bart_xsum.json                   (0.8333333333333334, 0.75)   \n",
       "\n",
       "                             paul-A222G1E6051ZV8  \\\n",
       "76_pegasus_xsum.json   (0.6666666666666666, 1.0)   \n",
       "59_pegasus_xsum.json                  (1.0, 1.0)   \n",
       "76_bart_xsum.json                     (1.0, 1.0)   \n",
       "17_pegasus_xsum.json                  (1.0, 1.0)   \n",
       "59_bart_xsum.json     (0.75, 0.8333333333333334)   \n",
       "17_bart_xsum.json      (1.0, 0.8333333333333334)   \n",
       "\n",
       "                                 A1BKFNR313IWRC-A222G1E6051ZV8  \n",
       "76_pegasus_xsum.json                 (0.6666666666666666, 1.0)  \n",
       "59_pegasus_xsum.json                                (1.0, 1.0)  \n",
       "76_bart_xsum.json     (0.6666666666666666, 0.6666666666666666)  \n",
       "17_pegasus_xsum.json                                (1.0, 1.0)  \n",
       "59_bart_xsum.json                   (0.75, 0.6666666666666666)  \n",
       "17_bart_xsum.json                   (0.8333333333333334, 0.75)  "
      ]
     },
     "execution_count": 267,
     "metadata": {},
     "output_type": "execute_result"
    }
   ],
   "source": [
    "# cohen-kappa IAA for every pair\n",
    "\n",
    "pairwise_agreement = collections.defaultdict(dict)\n",
    "for topic in intersection:\n",
    "    print(topic)\n",
    "    for annotator_pair in combinations(annotators, r=2):\n",
    "        first, second = annotator_pair\n",
    "        df_spans_a1, df_qas_a1, _ = processed_files[first][topic]\n",
    "        df_spans_a2, df_qas_a2, _ = processed_files[second][topic]\n",
    "        pairwise_agreement[topic][f'{annotator_pair[0]}-{annotator_pair[1]}'] = (\n",
    "            # cohen_kappa_score(df_qas_a1[\"label\"], df_qas_a2[\"label\"]), \n",
    "            (df_spans_a1[\"label\"] == df_spans_a2[\"label\"]).mean(), # accuracy on spans\n",
    "            (df_qas_a1[\"label\"] == df_qas_a2[\"label\"]).mean(), # accuracy on QAs\n",
    "        )\n",
    "\n",
    "pd.DataFrame.from_dict(pairwise_agreement).T"
   ]
  },
  {
   "cell_type": "markdown",
   "metadata": {},
   "source": [
    "# Playground -- Analyze disagreements"
   ]
  },
  {
   "cell_type": "code",
   "execution_count": 224,
   "metadata": {},
   "outputs": [],
   "source": [
    "a1 = \"A1BKFNR313IWRC\"\n",
    "a2 = \"A222G1E6051ZV8\"\n",
    "topic = \"17_bart_xsum.json\""
   ]
  },
  {
   "cell_type": "code",
   "execution_count": 225,
   "metadata": {},
   "outputs": [],
   "source": [
    "df_spans_a1, df_qas_a1, notes_a1 = processed_files[a1][topic]\n",
    "df_spans_a2, df_qas_a2, notes_a2 = processed_files[a2][topic]"
   ]
  },
  {
   "cell_type": "code",
   "execution_count": 226,
   "metadata": {},
   "outputs": [
    {
     "data": {
      "text/html": [
       "<div>\n",
       "<style scoped>\n",
       "    .dataframe tbody tr th:only-of-type {\n",
       "        vertical-align: middle;\n",
       "    }\n",
       "\n",
       "    .dataframe tbody tr th {\n",
       "        vertical-align: top;\n",
       "    }\n",
       "\n",
       "    .dataframe thead th {\n",
       "        text-align: right;\n",
       "    }\n",
       "</style>\n",
       "<table border=\"1\" class=\"dataframe\">\n",
       "  <thead>\n",
       "    <tr style=\"text-align: right;\">\n",
       "      <th></th>\n",
       "      <th>start</th>\n",
       "      <th>end</th>\n",
       "      <th>qaIds</th>\n",
       "      <th>predicate</th>\n",
       "      <th>include_predicate</th>\n",
       "      <th>id</th>\n",
       "      <th>label_a1</th>\n",
       "      <th>label_a2</th>\n",
       "    </tr>\n",
       "  </thead>\n",
       "  <tbody>\n",
       "    <tr>\n",
       "      <th>2</th>\n",
       "      <td>7</td>\n",
       "      <td>8</td>\n",
       "      <td>[5]</td>\n",
       "      <td>False</td>\n",
       "      <td>False</td>\n",
       "      <td>6</td>\n",
       "      <td>1</td>\n",
       "      <td>0</td>\n",
       "    </tr>\n",
       "  </tbody>\n",
       "</table>\n",
       "</div>"
      ],
      "text/plain": [
       "   start  end qaIds  predicate  include_predicate  id  label_a1  label_a2\n",
       "2      7    8   [5]      False              False   6         1         0"
      ]
     },
     "execution_count": 226,
     "metadata": {},
     "output_type": "execute_result"
    }
   ],
   "source": [
    "get_disagreements(df_spans_a1, df_spans_a2)"
   ]
  },
  {
   "cell_type": "code",
   "execution_count": 227,
   "metadata": {},
   "outputs": [
    {
     "data": {
      "text/html": [
       "<div>\n",
       "<style scoped>\n",
       "    .dataframe tbody tr th:only-of-type {\n",
       "        vertical-align: middle;\n",
       "    }\n",
       "\n",
       "    .dataframe tbody tr th {\n",
       "        vertical-align: top;\n",
       "    }\n",
       "\n",
       "    .dataframe thead th {\n",
       "        text-align: right;\n",
       "    }\n",
       "</style>\n",
       "<table border=\"1\" class=\"dataframe\">\n",
       "  <thead>\n",
       "    <tr style=\"text-align: right;\">\n",
       "      <th></th>\n",
       "      <th>sentId</th>\n",
       "      <th>predicateId</th>\n",
       "      <th>predicate</th>\n",
       "      <th>predicateType</th>\n",
       "      <th>question</th>\n",
       "      <th>answer</th>\n",
       "      <th>answerStartToken</th>\n",
       "      <th>answerEndToken</th>\n",
       "      <th>answerId</th>\n",
       "      <th>questionId</th>\n",
       "      <th>label_a1</th>\n",
       "      <th>label_a2</th>\n",
       "    </tr>\n",
       "  </thead>\n",
       "  <tbody>\n",
       "    <tr>\n",
       "      <th>4</th>\n",
       "      <td>34</td>\n",
       "      <td>6-7</td>\n",
       "      <td>changed</td>\n",
       "      <td>verbal</td>\n",
       "      <td>what has changed?</td>\n",
       "      <td>The way we buy things</td>\n",
       "      <td>[0]</td>\n",
       "      <td>[5]</td>\n",
       "      <td>0-5</td>\n",
       "      <td>4</td>\n",
       "      <td>0</td>\n",
       "      <td>1</td>\n",
       "    </tr>\n",
       "    <tr>\n",
       "      <th>5</th>\n",
       "      <td>34</td>\n",
       "      <td>6-7</td>\n",
       "      <td>changed</td>\n",
       "      <td>verbal</td>\n",
       "      <td>how has something changed?</td>\n",
       "      <td>dramatically</td>\n",
       "      <td>[7]</td>\n",
       "      <td>[8]</td>\n",
       "      <td>7-8</td>\n",
       "      <td>5</td>\n",
       "      <td>0</td>\n",
       "      <td>1</td>\n",
       "    </tr>\n",
       "    <tr>\n",
       "      <th>8</th>\n",
       "      <td>34</td>\n",
       "      <td>17-18</td>\n",
       "      <td>according</td>\n",
       "      <td>verbal</td>\n",
       "      <td>what is according to something?</td>\n",
       "      <td>The way we buy things has changed dramatically...</td>\n",
       "      <td>[0]</td>\n",
       "      <td>[16]</td>\n",
       "      <td>0-16</td>\n",
       "      <td>8</td>\n",
       "      <td>0</td>\n",
       "      <td>1</td>\n",
       "    </tr>\n",
       "  </tbody>\n",
       "</table>\n",
       "</div>"
      ],
      "text/plain": [
       "   sentId predicateId  predicate predicateType  \\\n",
       "4      34         6-7    changed        verbal   \n",
       "5      34         6-7    changed        verbal   \n",
       "8      34       17-18  according        verbal   \n",
       "\n",
       "                          question  \\\n",
       "4                what has changed?   \n",
       "5       how has something changed?   \n",
       "8  what is according to something?   \n",
       "\n",
       "                                              answer answerStartToken  \\\n",
       "4                              The way we buy things              [0]   \n",
       "5                                       dramatically              [7]   \n",
       "8  The way we buy things has changed dramatically...              [0]   \n",
       "\n",
       "  answerEndToken answerId  questionId  label_a1  label_a2  \n",
       "4            [5]      0-5           4         0         1  \n",
       "5            [8]      7-8           5         0         1  \n",
       "8           [16]     0-16           8         0         1  "
      ]
     },
     "execution_count": 227,
     "metadata": {},
     "output_type": "execute_result"
    }
   ],
   "source": [
    "get_disagreements(df_qas_a1, df_qas_a2)"
   ]
  },
  {
   "cell_type": "code",
   "execution_count": 229,
   "metadata": {},
   "outputs": [
    {
     "name": "stdout",
     "output_type": "stream",
     "text": [
      "Thi first part misses \"research\". Here I am a little confused on the implicit action again. Research is not explicitly mentioned but I guess it can be generally thought that the company did the reasearch?\n"
     ]
    }
   ],
   "source": [
    "print(notes_a1)"
   ]
  },
  {
   "cell_type": "code",
   "execution_count": 228,
   "metadata": {},
   "outputs": [
    {
     "name": "stdout",
     "output_type": "stream",
     "text": [
      "not sure about \"things\". \n",
      "\n",
      "the green + button never works for me (am I missing something?)\n"
     ]
    }
   ],
   "source": [
    "print(notes_a2)"
   ]
  },
  {
   "cell_type": "code",
   "execution_count": null,
   "metadata": {},
   "outputs": [],
   "source": []
  },
  {
   "cell_type": "code",
   "execution_count": null,
   "metadata": {},
   "outputs": [],
   "source": []
  },
  {
   "cell_type": "code",
   "execution_count": null,
   "metadata": {},
   "outputs": [],
   "source": []
  }
 ],
 "metadata": {
  "kernelspec": {
   "display_name": "loc-unfaith",
   "language": "python",
   "name": "python3"
  },
  "language_info": {
   "codemirror_mode": {
    "name": "ipython",
    "version": 3
   },
   "file_extension": ".py",
   "mimetype": "text/x-python",
   "name": "python",
   "nbconvert_exporter": "python",
   "pygments_lexer": "ipython3",
   "version": "3.8.13"
  }
 },
 "nbformat": 4,
 "nbformat_minor": 2
}
