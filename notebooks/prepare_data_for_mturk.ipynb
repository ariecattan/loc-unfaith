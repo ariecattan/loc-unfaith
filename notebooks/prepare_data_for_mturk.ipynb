{
 "cells": [
  {
   "cell_type": "code",
   "execution_count": 1,
   "metadata": {},
   "outputs": [],
   "source": [
    "import pandas as pd \n",
    "import html \n",
    "import json \n",
    "import os "
   ]
  },
  {
   "cell_type": "code",
   "execution_count": 2,
   "metadata": {},
   "outputs": [],
   "source": [
    "keys = [\n",
    "    \"59_bart_xsum\",\n",
    "    \"59_pegasus_xsum\",\n",
    "    \"17_bart_xsum\",\n",
    "    \"17_pegasus_xsum\",\n",
    "    \"76_bart_xsum\",\n",
    "    \"76_pegasus_xsum\"\n",
    "]\n"
   ]
  },
  {
   "cell_type": "code",
   "execution_count": 6,
   "metadata": {},
   "outputs": [],
   "source": [
    "keys = [8, 20, 118, 120]\n",
    "sources = [\"bart\", \"pegasus\"]"
   ]
  },
  {
   "cell_type": "code",
   "execution_count": 7,
   "metadata": {},
   "outputs": [],
   "source": [
    "for key in keys:\n",
    "    data = []\n",
    "    for source in sources:\n",
    "        path = f\"../src/data/cliff_flan_t5_xl_5_epochs_with_source_ids/{key}_{source}_xsum.json\"\n",
    "        with open(path, \"r\") as f:\n",
    "            data.append(json.load(f))\n",
    "    output_csv = f\"../annotations/v3/{key}.csv\"\n",
    "    pd.DataFrame([{\"data\": html.escape(json.dumps(x))} for x in data]).to_csv(output_csv, index=False)    \n",
    "    "
   ]
  },
  {
   "cell_type": "code",
   "execution_count": null,
   "metadata": {},
   "outputs": [],
   "source": []
  },
  {
   "cell_type": "code",
   "execution_count": 33,
   "metadata": {},
   "outputs": [],
   "source": [
    "data = []\n",
    "for key in keys:\n",
    "    with open(f\"../src/data/cliff_flan_t5_xl_5_epochs_with_source_ids/{key}.json\", \"r\") as f:\n",
    "        data.append(json.load(f))"
   ]
  },
  {
   "cell_type": "code",
   "execution_count": 35,
   "metadata": {},
   "outputs": [],
   "source": [
    "output_csv = \"../annotations/input_for_mturk.csv\"\n",
    "# html.escape(x)\n",
    "# data = html.escape(json.dumps(x)) for x in data]\n",
    "df = pd.DataFrame([{\"data\": html.escape(json.dumps(x))} for x in data]).to_csv(output_csv, index=False)"
   ]
  },
  {
   "cell_type": "code",
   "execution_count": 28,
   "metadata": {},
   "outputs": [],
   "source": [
    "df = pd.DataFrame([{\"data\": data[0]}]).to_csv(output_csv, index=False)"
   ]
  },
  {
   "cell_type": "code",
   "execution_count": null,
   "metadata": {},
   "outputs": [],
   "source": []
  }
 ],
 "metadata": {
  "kernelspec": {
   "display_name": "loc-unfaith",
   "language": "python",
   "name": "python3"
  },
  "language_info": {
   "codemirror_mode": {
    "name": "ipython",
    "version": 3
   },
   "file_extension": ".py",
   "mimetype": "text/x-python",
   "name": "python",
   "nbconvert_exporter": "python",
   "pygments_lexer": "ipython3",
   "version": "3.8.13"
  }
 },
 "nbformat": 4,
 "nbformat_minor": 2
}
