{
 "cells": [
  {
   "cell_type": "code",
   "execution_count": 1,
   "metadata": {},
   "outputs": [],
   "source": [
    "import pandas as pd \n",
    "import html \n",
    "import json \n",
    "import os "
   ]
  },
  {
   "cell_type": "code",
   "execution_count": 2,
   "metadata": {},
   "outputs": [
    {
     "data": {
      "text/plain": [
       "['104.json', '148.json', '127.json', '100.json']"
      ]
     },
     "execution_count": 2,
     "metadata": {},
     "output_type": "execute_result"
    }
   ],
   "source": [
    "# keys = [8, 17, 22, 20, 118, 112]\n",
    "keys = [104,148,127,100]\n",
    "keys = [f\"{x}.json\" for x in keys]\n",
    "keys"
   ]
  },
  {
   "cell_type": "code",
   "execution_count": 4,
   "metadata": {},
   "outputs": [],
   "source": [
    "data_path = \"../src/data/qasem_verification/v6\""
   ]
  },
  {
   "cell_type": "code",
   "execution_count": 22,
   "metadata": {},
   "outputs": [],
   "source": [
    "# keys = [8, 17, 22, 20, 118]\n",
    "# keys = [8, 17, 143]\n",
    "# keys = [8, 17]\n",
    "# keys = [20, 22, 118, 8, 17, 143]\n",
    "# keys = [10, 58, 145, 127, 120, 97, 100, 114, 132, 79]\n",
    "# keys = [66, 130, 89, 132, 121, 100, 75, 127, 79, 36, 58, 28, 70, 80, 10, 102, 145, 120, 97, 114]\n",
    "# dir_path = \"../src/data/cliff_multiple_summaries\"\n",
    "# dir_path = \"../src/data/qasem_verification/v2\"\n",
    "# ids = [112, 148, 61, 71, 2, 104, 52, 74, 27, 63, 64, 76]\n",
    "# keys_v2 = [x for x in os.listdir(\"../src/data/qasem_verification/v2\") if x.endswith(\"json\") and int(x[:-5]) not in ids]\n",
    "# keys_v3 = [x for x in os.listdir(\"../src/data/qasem_verification/v3\") if x.endswith(\"json\")]\n",
    "# keys = keys_v2 + keys_v3\n",
    "\n",
    "keys = [x for x in os.listdir(data_path) if x.endswith(\"json\") and not x.startswith(\"CNN-134470_Government Bailout\")]\n",
    "# keys = [x for x in os.listdir(dir_path) if x.endswith(\"json\") and int(x.split(\".\")[0]) in ids]\n",
    "\n",
    "# keys = [x for x in os.listdir(dir_path) if x.endswith(\"json\")]\n",
    "output_dir = \"../annotations/v16\"\n",
    "if not os.path.exists(output_dir):\n",
    "    os.makedirs(output_dir)"
   ]
  },
  {
   "cell_type": "code",
   "execution_count": 7,
   "metadata": {},
   "outputs": [
    {
     "data": {
      "text/plain": [
       "17"
      ]
     },
     "execution_count": 7,
     "metadata": {},
     "output_type": "execute_result"
    }
   ],
   "source": [
    "len(keys)"
   ]
  },
  {
   "cell_type": "code",
   "execution_count": 8,
   "metadata": {},
   "outputs": [
    {
     "data": {
      "text/plain": [
       "['NPR-41366_Influence of Iran in Iraq.json',\n",
       " 'NPR-8010_Anti-Semitic incidents in schools.json',\n",
       " 'CNN-139946_Minnesota Senate Race.json',\n",
       " \"CNN-50484_Iraq's preparations for a potential US assault.json\",\n",
       " 'CNN-164885_Cuban celebration and government gathering.json',\n",
       " 'CNN-62362_Illegal immigration.json',\n",
       " 'NPR-18547_Problems with diaper changes for disabled adults.json',\n",
       " 'CNN-388107_Shadow foreign policy.json',\n",
       " 'NPR-9336_Improvements in addressing cyberattacks.json',\n",
       " \"CNN-340132_Trump administration's peace plan.json\",\n",
       " \"CNN-25553_Airlines' commitment to service improvements.json\",\n",
       " 'NPR-41366_Control and decision-making in Tehran.json',\n",
       " 'NPR-5615_Presidential helicopter cost.json',\n",
       " \"CNN-262980_Jeb Bush and Trump's immigration stance.json\",\n",
       " 'CNN-104129_Decline of American automobile industry.json',\n",
       " \"CNN-7972_Federal Reserve's policy.json\",\n",
       " 'NPR-38350_Immigration debate.json']"
      ]
     },
     "execution_count": 8,
     "metadata": {},
     "output_type": "execute_result"
    }
   ],
   "source": [
    "keys"
   ]
  },
  {
   "cell_type": "code",
   "execution_count": 31,
   "metadata": {},
   "outputs": [],
   "source": [
    "with open(\"../src/data/factscore_filtered/Doug Sheehan.json\", \"r\") as f:\n",
    "    doug = json.load(f)\n",
    "\n",
    "source = doug[\"source\"]"
   ]
  },
  {
   "cell_type": "code",
   "execution_count": 7,
   "metadata": {},
   "outputs": [
    {
     "data": {
      "text/plain": [
       "['Roselyn Sánchez.json',\n",
       " 'Doug Sheehan.json',\n",
       " 'Elsa Pataky.json',\n",
       " 'Cha Seung-won.json',\n",
       " 'Lauren London.json',\n",
       " 'Dacre Montgomery.json',\n",
       " 'Alma Katsu.json',\n",
       " 'Robert Smith, Baron Smith of Kelvin.json',\n",
       " 'Jonathan Tucker.json']"
      ]
     },
     "execution_count": 7,
     "metadata": {},
     "output_type": "execute_result"
    }
   ],
   "source": [
    "keys"
   ]
  },
  {
   "cell_type": "code",
   "execution_count": 9,
   "metadata": {},
   "outputs": [],
   "source": [
    "def clean_source(source):\n",
    "    return [{\n",
    "        \"id\": s[\"id\"],\n",
    "        \"text\": s[\"text\"]\n",
    "    } for s in source]\n",
    "\n",
    "def clean_summary_tokens(tokens):\n",
    "    return [{\n",
    "        \"id\": tok[\"id\"],\n",
    "        \"text\": tok[\"text\"],\n",
    "        \"spans\": tok[\"spans\"]\n",
    "    } for tok in tokens]"
   ]
  },
  {
   "cell_type": "code",
   "execution_count": 11,
   "metadata": {},
   "outputs": [],
   "source": [
    "output_dir = \"../src/data/tofueval_mediasum\"\n",
    "if not os.path.exists(output_dir):\n",
    "    os.makedirs(output_dir)"
   ]
  },
  {
   "cell_type": "code",
   "execution_count": 12,
   "metadata": {},
   "outputs": [],
   "source": [
    "data = []\n",
    "for key in keys:\n",
    "    path = os.path.join(data_path, key)\n",
    "    with open(path, \"r\") as f:\n",
    "        hit_content = json.load(f)\n",
    "    # for i, token in enumerate(hit_content[\"source\"]):\n",
    "    #     before, after = token[\"text\"], ensure_utf8_text(token[\"text\"])\n",
    "    #     before_lemma, after_lemma = token[\"lemma\"], ensure_utf8_text(token[\"lemma\"])\n",
    "    #     hit_content[\"source\"][i][\"text\"] = after\n",
    "    #     hit_content[\"source\"][i][\"lemma\"] = after_lemma\n",
    "    #     if before != after or before_lemma != after_lemma:\n",
    "    #         print(i)\n",
    "    # hit_content[\"source\"] = hit_content[\"source\"][:400]\n",
    "    # hit_content[\"summaries\"] = [hit_content[\"summaries\"][0]]\n",
    "    # hit_content[\"source\"] = hit_content[\"source\"][:700]\n",
    "    hit_content[\"source\"] = clean_source(hit_content[\"source\"])\n",
    "    for i, summary in enumerate(hit_content[\"summaries\"]):\n",
    "        hit_content[\"summaries\"][i][\"tokens\"] = clean_summary_tokens(summary[\"tokens\"])\n",
    "    hit_content[\"local\"] = False\n",
    "\n",
    "    with open(os.path.join(output_dir, key), \"w\") as f:\n",
    "        json.dump(hit_content, f)\n",
    "\n",
    "    data.append(hit_content) \n",
    "    # break\n"
   ]
  },
  {
   "cell_type": "code",
   "execution_count": 14,
   "metadata": {},
   "outputs": [
    {
     "data": {
      "text/plain": [
       "dict_keys(['sourceId', 'source', 'summaries', 'datasource', 'dataset', 'local'])"
      ]
     },
     "execution_count": 14,
     "metadata": {},
     "output_type": "execute_result"
    }
   ],
   "source": [
    "data[0].keys()"
   ]
  },
  {
   "cell_type": "code",
   "execution_count": 15,
   "metadata": {},
   "outputs": [
    {
     "data": {
      "text/plain": [
       "dict_keys(['tokens', 'spans', 'qas', 'label', 'summaryId', 'predicates'])"
      ]
     },
     "execution_count": 15,
     "metadata": {},
     "output_type": "execute_result"
    }
   ],
   "source": [
    "data[0][\"summaries\"][1].keys()"
   ]
  },
  {
   "cell_type": "code",
   "execution_count": 16,
   "metadata": {},
   "outputs": [
    {
     "data": {
      "text/plain": [
       "[1, 3, 5, 6, 9]"
      ]
     },
     "execution_count": 16,
     "metadata": {},
     "output_type": "execute_result"
    }
   ],
   "source": [
    "data[0][\"summaries\"][0][\"predicates\"]"
   ]
  },
  {
   "cell_type": "code",
   "execution_count": 17,
   "metadata": {},
   "outputs": [
    {
     "data": {
      "text/plain": [
       "2"
      ]
     },
     "execution_count": 17,
     "metadata": {},
     "output_type": "execute_result"
    }
   ],
   "source": [
    "len(data[0][\"summaries\"])"
   ]
  },
  {
   "cell_type": "code",
   "execution_count": 18,
   "metadata": {},
   "outputs": [],
   "source": [
    "df = pd.DataFrame([{\"data\": x[\"sourceId\"]} for x in data])"
   ]
  },
  {
   "cell_type": "code",
   "execution_count": 19,
   "metadata": {},
   "outputs": [
    {
     "data": {
      "text/html": [
       "<div>\n",
       "<style scoped>\n",
       "    .dataframe tbody tr th:only-of-type {\n",
       "        vertical-align: middle;\n",
       "    }\n",
       "\n",
       "    .dataframe tbody tr th {\n",
       "        vertical-align: top;\n",
       "    }\n",
       "\n",
       "    .dataframe thead th {\n",
       "        text-align: right;\n",
       "    }\n",
       "</style>\n",
       "<table border=\"1\" class=\"dataframe\">\n",
       "  <thead>\n",
       "    <tr style=\"text-align: right;\">\n",
       "      <th></th>\n",
       "      <th>data</th>\n",
       "    </tr>\n",
       "  </thead>\n",
       "  <tbody>\n",
       "    <tr>\n",
       "      <th>0</th>\n",
       "      <td>NPR-41366_Influence of Iran in Iraq</td>\n",
       "    </tr>\n",
       "    <tr>\n",
       "      <th>1</th>\n",
       "      <td>NPR-8010_Anti-Semitic incidents in schools</td>\n",
       "    </tr>\n",
       "    <tr>\n",
       "      <th>2</th>\n",
       "      <td>CNN-139946_Minnesota Senate Race</td>\n",
       "    </tr>\n",
       "    <tr>\n",
       "      <th>3</th>\n",
       "      <td>CNN-50484_Iraq's preparations for a potential ...</td>\n",
       "    </tr>\n",
       "    <tr>\n",
       "      <th>4</th>\n",
       "      <td>CNN-164885_Cuban celebration and government ga...</td>\n",
       "    </tr>\n",
       "    <tr>\n",
       "      <th>5</th>\n",
       "      <td>CNN-62362_Illegal immigration</td>\n",
       "    </tr>\n",
       "    <tr>\n",
       "      <th>6</th>\n",
       "      <td>NPR-18547_Problems with diaper changes for dis...</td>\n",
       "    </tr>\n",
       "    <tr>\n",
       "      <th>7</th>\n",
       "      <td>CNN-388107_Shadow foreign policy</td>\n",
       "    </tr>\n",
       "    <tr>\n",
       "      <th>8</th>\n",
       "      <td>NPR-9336_Improvements in addressing cyberattacks</td>\n",
       "    </tr>\n",
       "    <tr>\n",
       "      <th>9</th>\n",
       "      <td>CNN-340132_Trump administration's peace plan</td>\n",
       "    </tr>\n",
       "    <tr>\n",
       "      <th>10</th>\n",
       "      <td>CNN-25553_Airlines' commitment to service impr...</td>\n",
       "    </tr>\n",
       "    <tr>\n",
       "      <th>11</th>\n",
       "      <td>NPR-41366_Control and decision-making in Tehran</td>\n",
       "    </tr>\n",
       "    <tr>\n",
       "      <th>12</th>\n",
       "      <td>NPR-5615_Presidential helicopter cost</td>\n",
       "    </tr>\n",
       "    <tr>\n",
       "      <th>13</th>\n",
       "      <td>CNN-262980_Jeb Bush and Trump's immigration st...</td>\n",
       "    </tr>\n",
       "    <tr>\n",
       "      <th>14</th>\n",
       "      <td>CNN-104129_Decline of American automobile indu...</td>\n",
       "    </tr>\n",
       "    <tr>\n",
       "      <th>15</th>\n",
       "      <td>CNN-7972_Federal Reserve's policy</td>\n",
       "    </tr>\n",
       "    <tr>\n",
       "      <th>16</th>\n",
       "      <td>NPR-38350_Immigration debate</td>\n",
       "    </tr>\n",
       "  </tbody>\n",
       "</table>\n",
       "</div>"
      ],
      "text/plain": [
       "                                                 data\n",
       "0                 NPR-41366_Influence of Iran in Iraq\n",
       "1          NPR-8010_Anti-Semitic incidents in schools\n",
       "2                    CNN-139946_Minnesota Senate Race\n",
       "3   CNN-50484_Iraq's preparations for a potential ...\n",
       "4   CNN-164885_Cuban celebration and government ga...\n",
       "5                       CNN-62362_Illegal immigration\n",
       "6   NPR-18547_Problems with diaper changes for dis...\n",
       "7                    CNN-388107_Shadow foreign policy\n",
       "8    NPR-9336_Improvements in addressing cyberattacks\n",
       "9        CNN-340132_Trump administration's peace plan\n",
       "10  CNN-25553_Airlines' commitment to service impr...\n",
       "11    NPR-41366_Control and decision-making in Tehran\n",
       "12              NPR-5615_Presidential helicopter cost\n",
       "13  CNN-262980_Jeb Bush and Trump's immigration st...\n",
       "14  CNN-104129_Decline of American automobile indu...\n",
       "15                  CNN-7972_Federal Reserve's policy\n",
       "16                       NPR-38350_Immigration debate"
      ]
     },
     "execution_count": 19,
     "metadata": {},
     "output_type": "execute_result"
    }
   ],
   "source": [
    "# df = pd.DataFrame([{\"data\": html.escape(json.dumps(x))} for x in data])\n",
    "df\n"
   ]
  },
  {
   "cell_type": "code",
   "execution_count": 23,
   "metadata": {},
   "outputs": [
    {
     "data": {
      "text/plain": [
       "'../annotations/v16/batch_ids.csv'"
      ]
     },
     "execution_count": 23,
     "metadata": {},
     "output_type": "execute_result"
    }
   ],
   "source": [
    "output_csv = f\"{output_dir}/batch_ids.csv\"\n",
    "output_csv"
   ]
  },
  {
   "cell_type": "code",
   "execution_count": 24,
   "metadata": {},
   "outputs": [],
   "source": [
    "df.to_csv(output_csv, index=False)"
   ]
  },
  {
   "cell_type": "code",
   "execution_count": 39,
   "metadata": {},
   "outputs": [
    {
     "data": {
      "text/plain": [
       "'Roselyn Sánchez'"
      ]
     },
     "execution_count": 39,
     "metadata": {},
     "output_type": "execute_result"
    }
   ],
   "source": [
    "json.loads(html.unescape(df.iloc[0][\"data\"]))[\"sourceId\"]"
   ]
  },
  {
   "cell_type": "code",
   "execution_count": 78,
   "metadata": {},
   "outputs": [
    {
     "data": {
      "text/plain": [
       "data    {\"source\": [{\"id\": 0, \"text\": \"Roselyn\", \"lemm...\n",
       "Name: 0, dtype: object"
      ]
     },
     "execution_count": 78,
     "metadata": {},
     "output_type": "execute_result"
    }
   ],
   "source": [
    "a = df.iloc[0]\n",
    "a\n"
   ]
  },
  {
   "cell_type": "code",
   "execution_count": 82,
   "metadata": {},
   "outputs": [],
   "source": [
    "escape = html.escape(a[\"data\"])\n",
    "origin = json.loads(html.unescape(escape))"
   ]
  },
  {
   "cell_type": "code",
   "execution_count": 85,
   "metadata": {},
   "outputs": [
    {
     "data": {
      "text/plain": [
       "True"
      ]
     },
     "execution_count": 85,
     "metadata": {},
     "output_type": "execute_result"
    }
   ],
   "source": [
    "origin == json.loads(a[\"data\"])"
   ]
  },
  {
   "cell_type": "markdown",
   "metadata": {},
   "source": [
    "# playground"
   ]
  },
  {
   "cell_type": "code",
   "execution_count": 148,
   "metadata": {},
   "outputs": [],
   "source": [
    "df_yes = pd.read_csv(\"/Users/arie/Downloads/batch.csv\")\n",
    "df_no = pd.read_csv(\"../annotations/v15/batch.csv\")"
   ]
  },
  {
   "cell_type": "code",
   "execution_count": 152,
   "metadata": {},
   "outputs": [
    {
     "data": {
      "text/html": [
       "<div>\n",
       "<style scoped>\n",
       "    .dataframe tbody tr th:only-of-type {\n",
       "        vertical-align: middle;\n",
       "    }\n",
       "\n",
       "    .dataframe tbody tr th {\n",
       "        vertical-align: top;\n",
       "    }\n",
       "\n",
       "    .dataframe thead th {\n",
       "        text-align: right;\n",
       "    }\n",
       "</style>\n",
       "<table border=\"1\" class=\"dataframe\">\n",
       "  <thead>\n",
       "    <tr style=\"text-align: right;\">\n",
       "      <th></th>\n",
       "      <th>data</th>\n",
       "    </tr>\n",
       "  </thead>\n",
       "  <tbody>\n",
       "    <tr>\n",
       "      <th>0</th>\n",
       "      <td>True</td>\n",
       "    </tr>\n",
       "    <tr>\n",
       "      <th>1</th>\n",
       "      <td>True</td>\n",
       "    </tr>\n",
       "    <tr>\n",
       "      <th>2</th>\n",
       "      <td>True</td>\n",
       "    </tr>\n",
       "    <tr>\n",
       "      <th>3</th>\n",
       "      <td>True</td>\n",
       "    </tr>\n",
       "    <tr>\n",
       "      <th>4</th>\n",
       "      <td>True</td>\n",
       "    </tr>\n",
       "    <tr>\n",
       "      <th>5</th>\n",
       "      <td>True</td>\n",
       "    </tr>\n",
       "    <tr>\n",
       "      <th>6</th>\n",
       "      <td>True</td>\n",
       "    </tr>\n",
       "    <tr>\n",
       "      <th>7</th>\n",
       "      <td>True</td>\n",
       "    </tr>\n",
       "    <tr>\n",
       "      <th>8</th>\n",
       "      <td>True</td>\n",
       "    </tr>\n",
       "  </tbody>\n",
       "</table>\n",
       "</div>"
      ],
      "text/plain": [
       "   data\n",
       "0  True\n",
       "1  True\n",
       "2  True\n",
       "3  True\n",
       "4  True\n",
       "5  True\n",
       "6  True\n",
       "7  True\n",
       "8  True"
      ]
     },
     "execution_count": 152,
     "metadata": {},
     "output_type": "execute_result"
    }
   ],
   "source": []
  },
  {
   "cell_type": "code",
   "execution_count": 151,
   "metadata": {},
   "outputs": [
    {
     "data": {
      "text/plain": [
       "(9, 1)"
      ]
     },
     "execution_count": 151,
     "metadata": {},
     "output_type": "execute_result"
    }
   ],
   "source": []
  },
  {
   "cell_type": "code",
   "execution_count": null,
   "metadata": {},
   "outputs": [],
   "source": []
  },
  {
   "cell_type": "code",
   "execution_count": 57,
   "metadata": {},
   "outputs": [],
   "source": [
    "df_3 = pd.read_csv(\"../annotations/v13/batch.csv\")\n",
    "df_5 = pd.read_csv(\"../annotations/v15/batch.csv\")"
   ]
  },
  {
   "cell_type": "code",
   "execution_count": 58,
   "metadata": {},
   "outputs": [
    {
     "data": {
      "text/html": [
       "<div>\n",
       "<style scoped>\n",
       "    .dataframe tbody tr th:only-of-type {\n",
       "        vertical-align: middle;\n",
       "    }\n",
       "\n",
       "    .dataframe tbody tr th {\n",
       "        vertical-align: top;\n",
       "    }\n",
       "\n",
       "    .dataframe thead th {\n",
       "        text-align: right;\n",
       "    }\n",
       "</style>\n",
       "<table border=\"1\" class=\"dataframe\">\n",
       "  <thead>\n",
       "    <tr style=\"text-align: right;\">\n",
       "      <th></th>\n",
       "      <th>data</th>\n",
       "    </tr>\n",
       "  </thead>\n",
       "  <tbody>\n",
       "    <tr>\n",
       "      <th>0</th>\n",
       "      <td>{&amp;quot;source&amp;quot;: [{&amp;quot;id&amp;quot;: 0, &amp;quo...</td>\n",
       "    </tr>\n",
       "    <tr>\n",
       "      <th>1</th>\n",
       "      <td>{&amp;quot;source&amp;quot;: [{&amp;quot;id&amp;quot;: 0, &amp;quo...</td>\n",
       "    </tr>\n",
       "    <tr>\n",
       "      <th>2</th>\n",
       "      <td>{&amp;quot;source&amp;quot;: [{&amp;quot;id&amp;quot;: 0, &amp;quo...</td>\n",
       "    </tr>\n",
       "    <tr>\n",
       "      <th>3</th>\n",
       "      <td>{&amp;quot;source&amp;quot;: [{&amp;quot;id&amp;quot;: 0, &amp;quo...</td>\n",
       "    </tr>\n",
       "    <tr>\n",
       "      <th>4</th>\n",
       "      <td>{&amp;quot;source&amp;quot;: [{&amp;quot;id&amp;quot;: 0, &amp;quo...</td>\n",
       "    </tr>\n",
       "    <tr>\n",
       "      <th>5</th>\n",
       "      <td>{&amp;quot;source&amp;quot;: [{&amp;quot;id&amp;quot;: 0, &amp;quo...</td>\n",
       "    </tr>\n",
       "    <tr>\n",
       "      <th>6</th>\n",
       "      <td>{&amp;quot;source&amp;quot;: [{&amp;quot;id&amp;quot;: 0, &amp;quo...</td>\n",
       "    </tr>\n",
       "    <tr>\n",
       "      <th>7</th>\n",
       "      <td>{&amp;quot;source&amp;quot;: [{&amp;quot;id&amp;quot;: 0, &amp;quo...</td>\n",
       "    </tr>\n",
       "    <tr>\n",
       "      <th>8</th>\n",
       "      <td>{&amp;quot;source&amp;quot;: [{&amp;quot;id&amp;quot;: 0, &amp;quo...</td>\n",
       "    </tr>\n",
       "    <tr>\n",
       "      <th>9</th>\n",
       "      <td>{&amp;quot;source&amp;quot;: [{&amp;quot;id&amp;quot;: 0, &amp;quo...</td>\n",
       "    </tr>\n",
       "    <tr>\n",
       "      <th>10</th>\n",
       "      <td>{&amp;quot;source&amp;quot;: [{&amp;quot;id&amp;quot;: 0, &amp;quo...</td>\n",
       "    </tr>\n",
       "    <tr>\n",
       "      <th>11</th>\n",
       "      <td>{&amp;quot;source&amp;quot;: [{&amp;quot;id&amp;quot;: 0, &amp;quo...</td>\n",
       "    </tr>\n",
       "    <tr>\n",
       "      <th>12</th>\n",
       "      <td>{&amp;quot;source&amp;quot;: [{&amp;quot;id&amp;quot;: 0, &amp;quo...</td>\n",
       "    </tr>\n",
       "    <tr>\n",
       "      <th>13</th>\n",
       "      <td>{&amp;quot;source&amp;quot;: [{&amp;quot;id&amp;quot;: 0, &amp;quo...</td>\n",
       "    </tr>\n",
       "    <tr>\n",
       "      <th>14</th>\n",
       "      <td>{&amp;quot;source&amp;quot;: [{&amp;quot;id&amp;quot;: 0, &amp;quo...</td>\n",
       "    </tr>\n",
       "    <tr>\n",
       "      <th>15</th>\n",
       "      <td>{&amp;quot;source&amp;quot;: [{&amp;quot;id&amp;quot;: 0, &amp;quo...</td>\n",
       "    </tr>\n",
       "    <tr>\n",
       "      <th>16</th>\n",
       "      <td>{&amp;quot;source&amp;quot;: [{&amp;quot;id&amp;quot;: 0, &amp;quo...</td>\n",
       "    </tr>\n",
       "    <tr>\n",
       "      <th>17</th>\n",
       "      <td>{&amp;quot;source&amp;quot;: [{&amp;quot;id&amp;quot;: 0, &amp;quo...</td>\n",
       "    </tr>\n",
       "    <tr>\n",
       "      <th>18</th>\n",
       "      <td>{&amp;quot;source&amp;quot;: [{&amp;quot;id&amp;quot;: 0, &amp;quo...</td>\n",
       "    </tr>\n",
       "    <tr>\n",
       "      <th>19</th>\n",
       "      <td>{&amp;quot;source&amp;quot;: [{&amp;quot;id&amp;quot;: 0, &amp;quo...</td>\n",
       "    </tr>\n",
       "  </tbody>\n",
       "</table>\n",
       "</div>"
      ],
      "text/plain": [
       "                                                 data\n",
       "0   {&quot;source&quot;: [{&quot;id&quot;: 0, &quo...\n",
       "1   {&quot;source&quot;: [{&quot;id&quot;: 0, &quo...\n",
       "2   {&quot;source&quot;: [{&quot;id&quot;: 0, &quo...\n",
       "3   {&quot;source&quot;: [{&quot;id&quot;: 0, &quo...\n",
       "4   {&quot;source&quot;: [{&quot;id&quot;: 0, &quo...\n",
       "5   {&quot;source&quot;: [{&quot;id&quot;: 0, &quo...\n",
       "6   {&quot;source&quot;: [{&quot;id&quot;: 0, &quo...\n",
       "7   {&quot;source&quot;: [{&quot;id&quot;: 0, &quo...\n",
       "8   {&quot;source&quot;: [{&quot;id&quot;: 0, &quo...\n",
       "9   {&quot;source&quot;: [{&quot;id&quot;: 0, &quo...\n",
       "10  {&quot;source&quot;: [{&quot;id&quot;: 0, &quo...\n",
       "11  {&quot;source&quot;: [{&quot;id&quot;: 0, &quo...\n",
       "12  {&quot;source&quot;: [{&quot;id&quot;: 0, &quo...\n",
       "13  {&quot;source&quot;: [{&quot;id&quot;: 0, &quo...\n",
       "14  {&quot;source&quot;: [{&quot;id&quot;: 0, &quo...\n",
       "15  {&quot;source&quot;: [{&quot;id&quot;: 0, &quo...\n",
       "16  {&quot;source&quot;: [{&quot;id&quot;: 0, &quo...\n",
       "17  {&quot;source&quot;: [{&quot;id&quot;: 0, &quo...\n",
       "18  {&quot;source&quot;: [{&quot;id&quot;: 0, &quo...\n",
       "19  {&quot;source&quot;: [{&quot;id&quot;: 0, &quo..."
      ]
     },
     "execution_count": 58,
     "metadata": {},
     "output_type": "execute_result"
    }
   ],
   "source": [
    "df_3"
   ]
  },
  {
   "cell_type": "code",
   "execution_count": 59,
   "metadata": {},
   "outputs": [
    {
     "data": {
      "text/plain": [
       "'{&quot;source&quot;: [{&quot;id&quot;: 0, &quot;text&quot;: &quot;It&quot;, &quot;lemma&quot;: &quot;it&quot;}, {&quot;id&quot;: 1, &quot;text&quot;: &quot;would&quot;, &quot;lemma&quot;: &quot;would&quot;}, {&quot;id&quot;: 2, &quot;text&quot;: &quot;make&quot;, &quot;lemma&quot;: &quot;make&quot;}, {&quot;id&quot;: 3, &quot;text&quot;: &quot;the&quot;, &quot;lemma&quot;: &quot;the&quot;}, {&quot;id&quot;: 4, &quot;text&quot;: &quot;disused&quot;, &quot;lemma&quot;: &quot;disused&quot;}, {&quot;id&quot;: 5, &quot;text&quot;: &quot;Fawley&quot;, &quot;lemma&quot;: &quot;Fawley&quot;}, {&quot;id&quot;: 6, &quot;text&quot;: &quot;power&quot;, &quot;lemma&quot;: &quot;power&quot;}, {&quot;id&quot;: 7, &quot;text&quot;: &quot;station&quot;, &quot;lemma&quot;: &quot;station&quot;}, {&quot;id&quot;: 8, &quot;text&quot;: &quot;chimney&quot;, &quot;lemma&quot;: &quot;chimney&quot;}, {&quot;id&quot;: 9, &quot;text&quot;: &quot;the&quot;, &quot;lemma&quot;: &quot;the&quot;}, {&quot;id&quot;: 10, &quot;text&quot;: &quot;tallest&quot;, &quot;lemma&quot;: &quot;tall&quot;}, {&quot;id&quot;: 11, &quot;text&quot;: &quot;such&quot;, &quot;lemma&quot;: &quot;such&quot;}, {&quot;id&quot;: 12, &quot;text&quot;: &quot;attraction&quot;, &quot;lemma&quot;: &quot;attraction&quot;}, {&quot;id&quot;: 13, &quot;text&quot;: &quot;south&quot;, &quot;lemma&quot;: &quot;south&quot;}, {&quot;id&quot;: 14, &quot;text&quot;: &quot;of&quot;, &quot;lemma&quot;: &quot;of&quot;}, {&quot;id&quot;: 15, &quot;text&quot;: &quot;London&quot;, &quot;lemma&quot;: &quot;London&quot;}, {&quot;id&quot;: 16, &quot;text&quot;: &quot;&#x27;s&quot;, &quot;lemma&quot;: &quot;&#x27;s&quot;}, {&quot;id&quot;: 17, &quot;text&quot;: &quot;Shard&quot;, &quot;lemma&quot;: &quot;Shard&quot;}, {&quot;id&quot;: 18, &quot;text&quot;: &quot;.&quot;, &quot;lemma&quot;: &quot;.&quot;}, {&quot;id&quot;: 19, &quot;text&quot;: &quot;Developers&quot;, &quot;lemma&quot;: &quot;Developers&quot;}, {&quot;id&quot;: 20, &quot;text&quot;: &quot;Fawley&quot;, &quot;lemma&quot;: &quot;Fawley&quot;}, {&quot;id&quot;: 21, &quot;text&quot;: &quot;Waterside&quot;, &quot;lemma&quot;: &quot;Waterside&quot;}, {&quot;id&quot;: 22, &quot;text&quot;: &quot;said&quot;, &quot;lemma&quot;: &quot;say&quot;}, {&quot;id&quot;: 23, &quot;text&quot;: &quot;it&quot;, &quot;lemma&quot;: &quot;it&quot;}, {&quot;id&quot;: 24, &quot;text&quot;: &quot;would&quot;, &quot;lemma&quot;: &quot;would&quot;}, {&quot;id&quot;: 25, &quot;text&quot;: &quot;be&quot;, &quot;lemma&quot;: &quot;be&quot;}, {&quot;id&quot;: 26, &quot;text&quot;: &quot;the&quot;, &quot;lemma&quot;: &quot;the&quot;}, {&quot;id&quot;: 27, &quot;text&quot;: &quot;centrepiece&quot;, &quot;lemma&quot;: &quot;centrepiece&quot;}, {&quot;id&quot;: 28, &quot;text&quot;: &quot;of&quot;, &quot;lemma&quot;: &quot;of&quot;}, {&quot;id&quot;: 29, &quot;text&quot;: &quot;a&quot;, &quot;lemma&quot;: &quot;a&quot;}, {&quot;id&quot;: 30, &quot;text&quot;: &quot;\\\\&quot;&quot;, &quot;lemma&quot;: &quot;\\\\&quot;&quot;}, {&quot;id&quot;: 31, &quot;text&quot;: &quot;merchant&quot;, &quot;lemma&quot;: &quot;merchant&quot;}, {&quot;id&quot;: 32, &quot;text&quot;: &quot;city&quot;, &quot;lemma&quot;: &quot;city&quot;}, {&quot;id&quot;: 33, &quot;text&quot;: &quot;\\\\&quot;&quot;, &quot;lemma&quot;: &quot;\\\\&quot;&quot;}, {&quot;id&quot;: 34, &quot;text&quot;: &quot;development&quot;, &quot;lemma&quot;: &quot;development&quot;}, {&quot;id&quot;: 35, &quot;text&quot;: &quot;.&quot;, &quot;lemma&quot;: &quot;.&quot;}, {&quot;id&quot;: 36, &quot;text&quot;: &quot;The&quot;, &quot;lemma&quot;: &quot;the&quot;}, {&quot;id&quot;: 37, &quot;text&quot;: &quot;power&quot;, &quot;lemma&quot;: &quot;power&quot;}, {&quot;id&quot;: 38, &quot;text&quot;: &quot;station&quot;, &quot;lemma&quot;: &quot;station&quot;}, {&quot;id&quot;: 39, &quot;text&quot;: &quot;closed&quot;, &quot;lemma&quot;: &quot;close&quot;}, {&quot;id&quot;: 40, &quot;text&quot;: &quot;in&quot;, &quot;lemma&quot;: &quot;in&quot;}, {&quot;id&quot;: 41, &quot;text&quot;: &quot;2013&quot;, &quot;lemma&quot;: &quot;2013&quot;}, {&quot;id&quot;: 42, &quot;text&quot;: &quot;after&quot;, &quot;lemma&quot;: &quot;after&quot;}, {&quot;id&quot;: 43, &quot;text&quot;: &quot;more&quot;, &quot;lemma&quot;: &quot;more&quot;}, {&quot;id&quot;: 44, &quot;text&quot;: &quot;than&quot;, &quot;lemma&quot;: &quot;than&quot;}, {&quot;id&quot;: 45, &quot;text&quot;: &quot;40&quot;, &quot;lemma&quot;: &quot;40&quot;}, {&quot;id&quot;: 46, &quot;text&quot;: &quot;years&quot;, &quot;lemma&quot;: &quot;year&quot;}, {&quot;id&quot;: 47, &quot;text&quot;: &quot;in&quot;, &quot;lemma&quot;: &quot;in&quot;}, {&quot;id&quot;: 48, &quot;text&quot;: &quot;operation&quot;, &quot;lemma&quot;: &quot;operation&quot;}, {&quot;id&quot;: 49, &quot;text&quot;: &quot;.&quot;, &quot;lemma&quot;: &quot;.&quot;}, {&quot;id&quot;: 50, &quot;text&quot;: &quot;Architects&quot;, &quot;lemma&quot;: &quot;architect&quot;}, {&quot;id&quot;: 51, &quot;text&quot;: &quot;plans&quot;, &quot;lemma&quot;: &quot;plan&quot;}, {&quot;id&quot;: 52, &quot;text&quot;: &quot;show&quot;, &quot;lemma&quot;: &quot;show&quot;}, {&quot;id&quot;: 53, &quot;text&quot;: &quot;a&quot;, &quot;lemma&quot;: &quot;a&quot;}, {&quot;id&quot;: 54, &quot;text&quot;: &quot;petal&quot;, &quot;lemma&quot;: &quot;petal&quot;}, {&quot;id&quot;: 55, &quot;text&quot;: &quot;-&quot;, &quot;lemma&quot;: &quot;-&quot;}, {&quot;id&quot;: 56, &quot;text&quot;: &quot;shaped&quot;, &quot;lemma&quot;: &quot;shape&quot;}, {&quot;id&quot;: 57, &quot;text&quot;: &quot;glass&quot;, &quot;lemma&quot;: &quot;glass&quot;}, {&quot;id&quot;: 58, &quot;text&quot;: &quot;structure&quot;, &quot;lemma&quot;: &quot;structure&quot;}, {&quot;id&quot;: 59, &quot;text&quot;: &quot;at&quot;, &quot;lemma&quot;: &quot;at&quot;}, {&quot;id&quot;: 60, &quot;text&quot;: &quot;the&quot;, &quot;lemma&quot;: &quot;the&quot;}, {&quot;id&quot;: 61, &quot;text&quot;: &quot;centre&quot;, &quot;lemma&quot;: &quot;centre&quot;}, {&quot;id&quot;: 62, &quot;text&quot;: &quot;of&quot;, &quot;lemma&quot;: &quot;of&quot;}, {&quot;id&quot;: 63, &quot;text&quot;: &quot;a&quot;, &quot;lemma&quot;: &quot;a&quot;}, {&quot;id&quot;: 64, &quot;text&quot;: &quot;\\\\u00c2\\\\u00a31bn&quot;, &quot;lemma&quot;: &quot;\\\\u00e2\\\\u00a31bn&quot;}, {&quot;id&quot;: 65, &quot;text&quot;: &quot;development&quot;, &quot;lemma&quot;: &quot;development&quot;}, {&quot;id&quot;: 66, &quot;text&quot;: &quot;featuring&quot;, &quot;lemma&quot;: &quot;feature&quot;}, {&quot;id&quot;: 67, &quot;text&quot;: &quot;a&quot;, &quot;lemma&quot;: &quot;a&quot;}, {&quot;id&quot;: 68, &quot;text&quot;: &quot;marina&quot;, &quot;lemma&quot;: &quot;marina&quot;}, {&quot;id&quot;: 69, &quot;text&quot;: &quot;,&quot;, &quot;lemma&quot;: &quot;,&quot;}, {&quot;id&quot;: 70, &quot;text&quot;: &quot;housing&quot;, &quot;lemma&quot;: &quot;housing&quot;}, {&quot;id&quot;: 71, &quot;text&quot;: &quot;and&quot;, &quot;lemma&quot;: &quot;and&quot;}, {&quot;id&quot;: 72, &quot;text&quot;: &quot;restaurants&quot;, &quot;lemma&quot;: &quot;restaurant&quot;}, {&quot;id&quot;: 73, &quot;text&quot;: &quot;.&quot;, &quot;lemma&quot;: &quot;.&quot;}, {&quot;id&quot;: 74, &quot;text&quot;: &quot;It&quot;, &quot;lemma&quot;: &quot;it&quot;}, {&quot;id&quot;: 75, &quot;text&quot;: &quot;also&quot;, &quot;lemma&quot;: &quot;also&quot;}, {&quot;id&quot;: 76, &quot;text&quot;: &quot;includes&quot;, &quot;lemma&quot;: &quot;include&quot;}, {&quot;id&quot;: 77, &quot;text&quot;: &quot;fast&quot;, &quot;lemma&quot;: &quot;fast&quot;}, {&quot;id&quot;: 78, &quot;text&quot;: &quot;ferry&quot;, &quot;lemma&quot;: &quot;ferry&quot;}, {&quot;id&quot;: 79, &quot;text&quot;: &quot;links&quot;, &quot;lemma&quot;: &quot;link&quot;}, {&quot;id&quot;: 80, &quot;text&quot;: &quot;to&quot;, &quot;lemma&quot;: &quot;to&quot;}, {&quot;id&quot;: 81, &quot;text&quot;: &quot;Southampton&quot;, &quot;lemma&quot;: &quot;Southampton&quot;}, {&quot;id&quot;: 82, &quot;text&quot;: &quot;and&quot;, &quot;lemma&quot;: &quot;and&quot;}, {&quot;id&quot;: 83, &quot;text&quot;: &quot;Portsmouth&quot;, &quot;lemma&quot;: &quot;Portsmouth&quot;}, {&quot;id&quot;: 84, &quot;text&quot;: &quot;.&quot;, &quot;lemma&quot;: &quot;.&quot;}, {&quot;id&quot;: 85, &quot;text&quot;: &quot;With&quot;, &quot;lemma&quot;: &quot;with&quot;}, {&quot;id&quot;: 86, &quot;text&quot;: &quot;an&quot;, &quot;lemma&quot;: &quot;an&quot;}, {&quot;id&quot;: 87, &quot;text&quot;: &quot;application&quot;, &quot;lemma&quot;: &quot;application&quot;}, {&quot;id&quot;: 88, &quot;text&quot;: &quot;for&quot;, &quot;lemma&quot;: &quot;for&quot;}, {&quot;id&quot;: 89, &quot;text&quot;: &quot;outline&quot;, &quot;lemma&quot;: &quot;outline&quot;}, {&quot;id&quot;: 90, &quot;text&quot;: &quot;planning&quot;, &quot;lemma&quot;: &quot;planning&quot;}, {&quot;id&quot;: 91, &quot;text&quot;: &quot;permission&quot;, &quot;lemma&quot;: &quot;permission&quot;}, {&quot;id&quot;: 92, &quot;text&quot;: &quot;due&quot;, &quot;lemma&quot;: &quot;due&quot;}, {&quot;id&quot;: 93, &quot;text&quot;: &quot;later&quot;, &quot;lemma&quot;: &quot;later&quot;}, {&quot;id&quot;: 94, &quot;text&quot;: &quot;this&quot;, &quot;lemma&quot;: &quot;this&quot;}, {&quot;id&quot;: 95, &quot;text&quot;: &quot;year&quot;, &quot;lemma&quot;: &quot;year&quot;}, {&quot;id&quot;: 96, &quot;text&quot;: &quot;,&quot;, &quot;lemma&quot;: &quot;,&quot;}, {&quot;id&quot;: 97, &quot;text&quot;: &quot;building&quot;, &quot;lemma&quot;: &quot;building&quot;}, {&quot;id&quot;: 98, &quot;text&quot;: &quot;could&quot;, &quot;lemma&quot;: &quot;could&quot;}, {&quot;id&quot;: 99, &quot;text&quot;: &quot;start&quot;, &quot;lemma&quot;: &quot;start&quot;}, {&quot;id&quot;: 100, &quot;text&quot;: &quot;in&quot;, &quot;lemma&quot;: &quot;in&quot;}, {&quot;id&quot;: 101, &quot;text&quot;: &quot;2018&quot;, &quot;lemma&quot;: &quot;2018&quot;}, {&quot;id&quot;: 102, &quot;text&quot;: &quot;.&quot;, &quot;lemma&quot;: &quot;.&quot;}, {&quot;id&quot;: 103, &quot;text&quot;: &quot;The&quot;, &quot;lemma&quot;: &quot;the&quot;}, {&quot;id&quot;: 104, &quot;text&quot;: &quot;oil&quot;, &quot;lemma&quot;: &quot;oil&quot;}, {&quot;id&quot;: 105, &quot;text&quot;: &quot;-&quot;, &quot;lemma&quot;: &quot;-&quot;}, {&quot;id&quot;: 106, &quot;text&quot;: &quot;fired&quot;, &quot;lemma&quot;: &quot;fire&quot;}, {&quot;id&quot;: 107, &quot;text&quot;: &quot;Fawley&quot;, &quot;lemma&quot;: &quot;Fawley&quot;}, {&quot;id&quot;: 108, &quot;text&quot;: &quot;Power&quot;, &quot;lemma&quot;: &quot;Power&quot;}, {&quot;id&quot;: 109, &quot;text&quot;: &quot;Station&quot;, &quot;lemma&quot;: &quot;Station&quot;}, {&quot;id&quot;: 110, &quot;text&quot;: &quot;,&quot;, &quot;lemma&quot;: &quot;,&quot;}, {&quot;id&quot;: 111, &quot;text&quot;: &quot;on&quot;, &quot;lemma&quot;: &quot;on&quot;}, {&quot;id&quot;: 112, &quot;text&quot;: &quot;the&quot;, &quot;lemma&quot;: &quot;the&quot;}, {&quot;id&quot;: 113, &quot;text&quot;: &quot;western&quot;, &quot;lemma&quot;: &quot;western&quot;}, {&quot;id&quot;: 114, &quot;text&quot;: &quot;side&quot;, &quot;lemma&quot;: &quot;side&quot;}, {&quot;id&quot;: 115, &quot;text&quot;: &quot;of&quot;, &quot;lemma&quot;: &quot;of&quot;}, {&quot;id&quot;: 116, &quot;text&quot;: &quot;Southampton&quot;, &quot;lemma&quot;: &quot;Southampton&quot;}, {&quot;id&quot;: 117, &quot;text&quot;: &quot;Water&quot;, &quot;lemma&quot;: &quot;Water&quot;}, {&quot;id&quot;: 118, &quot;text&quot;: &quot;,&quot;, &quot;lemma&quot;: &quot;,&quot;}, {&quot;id&quot;: 119, &quot;text&quot;: &quot;was&quot;, &quot;lemma&quot;: &quot;be&quot;}, {&quot;id&quot;: 120, &quot;text&quot;: &quot;commissioned&quot;, &quot;lemma&quot;: &quot;commission&quot;}, {&quot;id&quot;: 121, &quot;text&quot;: &quot;in&quot;, &quot;lemma&quot;: &quot;in&quot;}, {&quot;id&quot;: 122, &quot;text&quot;: &quot;1971&quot;, &quot;lemma&quot;: &quot;1971&quot;}, {&quot;id&quot;: 123, &quot;text&quot;: &quot;and&quot;, &quot;lemma&quot;: &quot;and&quot;}, {&quot;id&quot;: 124, &quot;text&quot;: &quot;was&quot;, &quot;lemma&quot;: &quot;be&quot;}, {&quot;id&quot;: 125, &quot;text&quot;: &quot;capable&quot;, &quot;lemma&quot;: &quot;capable&quot;}, {&quot;id&quot;: 126, &quot;text&quot;: &quot;of&quot;, &quot;lemma&quot;: &quot;of&quot;}, {&quot;id&quot;: 127, &quot;text&quot;: &quot;powering&quot;, &quot;lemma&quot;: &quot;power&quot;}, {&quot;id&quot;: 128, &quot;text&quot;: &quot;one&quot;, &quot;lemma&quot;: &quot;one&quot;}, {&quot;id&quot;: 129, &quot;text&quot;: &quot;million&quot;, &quot;lemma&quot;: &quot;million&quot;}, {&quot;id&quot;: 130, &quot;text&quot;: &quot;homes&quot;, &quot;lemma&quot;: &quot;home&quot;}, {&quot;id&quot;: 131, &quot;text&quot;: &quot;.&quot;, &quot;lemma&quot;: &quot;.&quot;}, {&quot;id&quot;: 132, &quot;text&quot;: &quot;The&quot;, &quot;lemma&quot;: &quot;the&quot;}, {&quot;id&quot;: 133, &quot;text&quot;: &quot;300&quot;, &quot;lemma&quot;: &quot;300&quot;}, {&quot;id&quot;: 134, &quot;text&quot;: &quot;-&quot;, &quot;lemma&quot;: &quot;-&quot;}, {&quot;id&quot;: 135, &quot;text&quot;: &quot;acre&quot;, &quot;lemma&quot;: &quot;acre&quot;}, {&quot;id&quot;: 136, &quot;text&quot;: &quot;site&quot;, &quot;lemma&quot;: &quot;site&quot;}, {&quot;id&quot;: 137, &quot;text&quot;: &quot;was&quot;, &quot;lemma&quot;: &quot;be&quot;}, {&quot;id&quot;: 138, &quot;text&quot;: &quot;sold&quot;, &quot;lemma&quot;: &quot;sell&quot;}, {&quot;id&quot;: 139, &quot;text&quot;: &quot;to&quot;, &quot;lemma&quot;: &quot;to&quot;}, {&quot;id&quot;: 140, &quot;text&quot;: &quot;Fawley&quot;, &quot;lemma&quot;: &quot;Fawley&quot;}, {&quot;id&quot;: 141, &quot;text&quot;: &quot;Waterside&quot;, &quot;lemma&quot;: &quot;Waterside&quot;}, {&quot;id&quot;: 142, &quot;text&quot;: &quot;developers&quot;, &quot;lemma&quot;: &quot;developer&quot;}, {&quot;id&quot;: 143, &quot;text&quot;: &quot;in&quot;, &quot;lemma&quot;: &quot;in&quot;}, {&quot;id&quot;: 144, &quot;text&quot;: &quot;2016&quot;, &quot;lemma&quot;: &quot;2016&quot;}, {&quot;id&quot;: 145, &quot;text&quot;: &quot;.&quot;, &quot;lemma&quot;: &quot;.&quot;}, {&quot;id&quot;: 146, &quot;text&quot;: &quot;Aldred&quot;, &quot;lemma&quot;: &quot;Aldred&quot;}, {&quot;id&quot;: 147, &quot;text&quot;: &quot;Drummond&quot;, &quot;lemma&quot;: &quot;Drummond&quot;}, {&quot;id&quot;: 148, &quot;text&quot;: &quot;of&quot;, &quot;lemma&quot;: &quot;of&quot;}, {&quot;id&quot;: 149, &quot;text&quot;: &quot;the&quot;, &quot;lemma&quot;: &quot;the&quot;}, {&quot;id&quot;: 150, &quot;text&quot;: &quot;company&quot;, &quot;lemma&quot;: &quot;company&quot;}, {&quot;id&quot;: 151, &quot;text&quot;: &quot;said&quot;, &quot;lemma&quot;: &quot;say&quot;}, {&quot;id&quot;: 152, &quot;text&quot;: &quot;:&quot;, &quot;lemma&quot;: &quot;:&quot;}, {&quot;id&quot;: 153, &quot;text&quot;: &quot;\\\\&quot;&quot;, &quot;lemma&quot;: &quot;\\\\&quot;&quot;}, {&quot;id&quot;: 154, &quot;text&quot;: &quot;We&quot;, &quot;lemma&quot;: &quot;we&quot;}, {&quot;id&quot;: 155, &quot;text&quot;: &quot;&#x27;d&quot;, &quot;lemma&quot;: &quot;would&quot;}, {&quot;id&quot;: 156, &quot;text&quot;: &quot;be&quot;, &quot;lemma&quot;: &quot;be&quot;}, {&quot;id&quot;: 157, &quot;text&quot;: &quot;mad&quot;, &quot;lemma&quot;: &quot;mad&quot;}, {&quot;id&quot;: 158, &quot;text&quot;: &quot;to&quot;, &quot;lemma&quot;: &quot;to&quot;}, {&quot;id&quot;: 159, &quot;text&quot;: &quot;knock&quot;, &quot;lemma&quot;: &quot;knock&quot;}, {&quot;id&quot;: 160, &quot;text&quot;: &quot;the&quot;, &quot;lemma&quot;: &quot;the&quot;}, {&quot;id&quot;: 161, &quot;text&quot;: &quot;chimney&quot;, &quot;lemma&quot;: &quot;chimney&quot;}, {&quot;id&quot;: 162, &quot;text&quot;: &quot;down&quot;, &quot;lemma&quot;: &quot;down&quot;}, {&quot;id&quot;: 163, &quot;text&quot;: &quot;-&quot;, &quot;lemma&quot;: &quot;-&quot;}, {&quot;id&quot;: 164, &quot;text&quot;: &quot;its&quot;, &quot;lemma&quot;: &quot;its&quot;}, {&quot;id&quot;: 165, &quot;text&quot;: &quot;our&quot;, &quot;lemma&quot;: &quot;our&quot;}, {&quot;id&quot;: 166, &quot;text&quot;: &quot;signature&quot;, &quot;lemma&quot;: &quot;signature&quot;}, {&quot;id&quot;: 167, &quot;text&quot;: &quot;piece&quot;, &quot;lemma&quot;: &quot;piece&quot;}, {&quot;id&quot;: 168, &quot;text&quot;: &quot;of&quot;, &quot;lemma&quot;: &quot;of&quot;}, {&quot;id&quot;: 169, &quot;text&quot;: &quot;infrastructure&quot;, &quot;lemma&quot;: &quot;infrastructure&quot;}, {&quot;id&quot;: 170, &quot;text&quot;: &quot;.&quot;, &quot;lemma&quot;: &quot;.&quot;}, {&quot;id&quot;: 171, &quot;text&quot;: &quot;\\\\&quot;&quot;, &quot;lemma&quot;: &quot;\\\\&quot;&quot;}, {&quot;id&quot;: 172, &quot;text&quot;: &quot;If&quot;, &quot;lemma&quot;: &quot;if&quot;}, {&quot;id&quot;: 173, &quot;text&quot;: &quot;you&quot;, &quot;lemma&quot;: &quot;you&quot;}, {&quot;id&quot;: 174, &quot;text&quot;: &quot;think&quot;, &quot;lemma&quot;: &quot;think&quot;}, {&quot;id&quot;: 175, &quot;text&quot;: &quot;of&quot;, &quot;lemma&quot;: &quot;of&quot;}, {&quot;id&quot;: 176, &quot;text&quot;: &quot;the&quot;, &quot;lemma&quot;: &quot;the&quot;}, {&quot;id&quot;: 177, &quot;text&quot;: &quot;money&quot;, &quot;lemma&quot;: &quot;money&quot;}, {&quot;id&quot;: 178, &quot;text&quot;: &quot;spent&quot;, &quot;lemma&quot;: &quot;spend&quot;}, {&quot;id&quot;: 179, &quot;text&quot;: &quot;building&quot;, &quot;lemma&quot;: &quot;build&quot;}, {&quot;id&quot;: 180, &quot;text&quot;: &quot;the&quot;, &quot;lemma&quot;: &quot;the&quot;}, {&quot;id&quot;: 181, &quot;text&quot;: &quot;i360&quot;, &quot;lemma&quot;: &quot;i360&quot;}, {&quot;id&quot;: 182, &quot;text&quot;: &quot;in&quot;, &quot;lemma&quot;: &quot;in&quot;}, {&quot;id&quot;: 183, &quot;text&quot;: &quot;Brighton&quot;, &quot;lemma&quot;: &quot;Brighton&quot;}, {&quot;id&quot;: 184, &quot;text&quot;: &quot;,&quot;, &quot;lemma&quot;: &quot;,&quot;}, {&quot;id&quot;: 185, &quot;text&quot;: &quot;or&quot;, &quot;lemma&quot;: &quot;or&quot;}, {&quot;id&quot;: 186, &quot;text&quot;: &quot;the&quot;, &quot;lemma&quot;: &quot;the&quot;}, {&quot;id&quot;: 187, &quot;text&quot;: &quot;Spinnaker&quot;, &quot;lemma&quot;: &quot;Spinnaker&quot;}, {&quot;id&quot;: 188, &quot;text&quot;: &quot;Tower&quot;, &quot;lemma&quot;: &quot;Tower&quot;}, {&quot;id&quot;: 189, &quot;text&quot;: &quot;in&quot;, &quot;lemma&quot;: &quot;in&quot;}, {&quot;id&quot;: 190, &quot;text&quot;: &quot;Portsmouth&quot;, &quot;lemma&quot;: &quot;Portsmouth&quot;}, {&quot;id&quot;: 191, &quot;text&quot;: &quot;,&quot;, &quot;lemma&quot;: &quot;,&quot;}, {&quot;id&quot;: 192, &quot;text&quot;: &quot;this&quot;, &quot;lemma&quot;: &quot;this&quot;}, {&quot;id&quot;: 193, &quot;text&quot;: &quot;building&quot;, &quot;lemma&quot;: &quot;building&quot;}, {&quot;id&quot;: 194, &quot;text&quot;: &quot;is&quot;, &quot;lemma&quot;: &quot;be&quot;}, {&quot;id&quot;: 195, &quot;text&quot;: &quot;already&quot;, &quot;lemma&quot;: &quot;already&quot;}, {&quot;id&quot;: 196, &quot;text&quot;: &quot;there&quot;, &quot;lemma&quot;: &quot;there&quot;}, {&quot;id&quot;: 197, &quot;text&quot;: &quot;so&quot;, &quot;lemma&quot;: &quot;so&quot;}, {&quot;id&quot;: 198, &quot;text&quot;: &quot;with&quot;, &quot;lemma&quot;: &quot;with&quot;}, {&quot;id&quot;: 199, &quot;text&quot;: &quot;relatively&quot;, &quot;lemma&quot;: &quot;relatively&quot;}, {&quot;id&quot;: 200, &quot;text&quot;: &quot;little&quot;, &quot;lemma&quot;: &quot;little&quot;}, {&quot;id&quot;: 201, &quot;text&quot;: &quot;investment&quot;, &quot;lemma&quot;: &quot;investment&quot;}, {&quot;id&quot;: 202, &quot;text&quot;: &quot;we&quot;, &quot;lemma&quot;: &quot;we&quot;}, {&quot;id&quot;: 203, &quot;text&quot;: &quot;can&quot;, &quot;lemma&quot;: &quot;can&quot;}, {&quot;id&quot;: 204, &quot;text&quot;: &quot;do&quot;, &quot;lemma&quot;: &quot;do&quot;}, {&quot;id&quot;: 205, &quot;text&quot;: &quot;something&quot;, &quot;lemma&quot;: &quot;something&quot;}, {&quot;id&quot;: 206, &quot;text&quot;: &quot;very&quot;, &quot;lemma&quot;: &quot;very&quot;}, {&quot;id&quot;: 207, &quot;text&quot;: &quot;spectacular&quot;, &quot;lemma&quot;: &quot;spectacular&quot;}, {&quot;id&quot;: 208, &quot;text&quot;: &quot;.&quot;, &quot;lemma&quot;: &quot;.&quot;}, {&quot;id&quot;: 209, &quot;text&quot;: &quot;\\\\&quot;&quot;, &quot;lemma&quot;: &quot;\\\\&quot;&quot;}, {&quot;id&quot;: 210, &quot;text&quot;: &quot;1971&quot;, &quot;lemma&quot;: &quot;1971&quot;}, {&quot;id&quot;: 211, &quot;text&quot;: &quot;Commissioned&quot;, &quot;lemma&quot;: &quot;commission&quot;}, {&quot;id&quot;: 212, &quot;text&quot;: &quot;on&quot;, &quot;lemma&quot;: &quot;on&quot;}, {&quot;id&quot;: 213, &quot;text&quot;: &quot;the&quot;, &quot;lemma&quot;: &quot;the&quot;}, {&quot;id&quot;: 214, &quot;text&quot;: &quot;western&quot;, &quot;lemma&quot;: &quot;western&quot;}, {&quot;id&quot;: 215, &quot;text&quot;: &quot;shore&quot;, &quot;lemma&quot;: &quot;shore&quot;}, {&quot;id&quot;: 216, &quot;text&quot;: &quot;of&quot;, &quot;lemma&quot;: &quot;of&quot;}, {&quot;id&quot;: 217, &quot;text&quot;: &quot;Southampton&quot;, &quot;lemma&quot;: &quot;Southampton&quot;}, {&quot;id&quot;: 218, &quot;text&quot;: &quot;Water&quot;, &quot;lemma&quot;: &quot;Water&quot;}, {&quot;id&quot;: 219, &quot;text&quot;: &quot;2,000&quot;, &quot;lemma&quot;: &quot;2,000&quot;}, {&quot;id&quot;: 220, &quot;text&quot;: &quot;megawatt&quot;, &quot;lemma&quot;: &quot;megawatt&quot;}, {&quot;id&quot;: 221, &quot;text&quot;: &quot;oil&quot;, &quot;lemma&quot;: &quot;oil&quot;}, {&quot;id&quot;: 222, &quot;text&quot;: &quot;-&quot;, &quot;lemma&quot;: &quot;-&quot;}, {&quot;id&quot;: 223, &quot;text&quot;: &quot;fired&quot;, &quot;lemma&quot;: &quot;fire&quot;}, {&quot;id&quot;: 224, &quot;text&quot;: &quot;power&quot;, &quot;lemma&quot;: &quot;power&quot;}, {&quot;id&quot;: 225, &quot;text&quot;: &quot;station&quot;, &quot;lemma&quot;: &quot;station&quot;}, {&quot;id&quot;: 226, &quot;text&quot;: &quot;fuelled&quot;, &quot;lemma&quot;: &quot;fuel&quot;}, {&quot;id&quot;: 227, &quot;text&quot;: &quot;by&quot;, &quot;lemma&quot;: &quot;by&quot;}, {&quot;id&quot;: 228, &quot;text&quot;: &quot;nearby&quot;, &quot;lemma&quot;: &quot;nearby&quot;}, {&quot;id&quot;: 229, &quot;text&quot;: &quot;Esso&quot;, &quot;lemma&quot;: &quot;Esso&quot;}, {&quot;id&quot;: 230, &quot;text&quot;: &quot;refinery&quot;, &quot;lemma&quot;: &quot;refinery&quot;}, {&quot;id&quot;: 231, &quot;text&quot;: &quot;198&quot;, &quot;lemma&quot;: &quot;198&quot;}, {&quot;id&quot;: 232, &quot;text&quot;: &quot;metre&quot;, &quot;lemma&quot;: &quot;metre&quot;}, {&quot;id&quot;: 233, &quot;text&quot;: &quot;-&quot;, &quot;lemma&quot;: &quot;-&quot;}, {&quot;id&quot;: 234, &quot;text&quot;: &quot;high&quot;, &quot;lemma&quot;: &quot;high&quot;}, {&quot;id&quot;: 235, &quot;text&quot;: &quot;chimney&quot;, &quot;lemma&quot;: &quot;chimney&quot;}, {&quot;id&quot;: 236, &quot;text&quot;: &quot;dominates&quot;, &quot;lemma&quot;: &quot;dominate&quot;}, {&quot;id&quot;: 237, &quot;text&quot;: &quot;the&quot;, &quot;lemma&quot;: &quot;the&quot;}, {&quot;id&quot;: 238, &quot;text&quot;: &quot;Solent&quot;, &quot;lemma&quot;: &quot;solent&quot;}, {&quot;id&quot;: 239, &quot;text&quot;: &quot;sykline&quot;, &quot;lemma&quot;: &quot;sykline&quot;}, {&quot;id&quot;: 240, &quot;text&quot;: &quot;1,100&quot;, &quot;lemma&quot;: &quot;1,100&quot;}, {&quot;id&quot;: 241, &quot;text&quot;: &quot; &quot;, &quot;lemma&quot;: &quot; &quot;}, {&quot;id&quot;: 242, &quot;text&quot;: &quot;miles&quot;, &quot;lemma&quot;: &quot;mile&quot;}, {&quot;id&quot;: 243, &quot;text&quot;: &quot;of&quot;, &quot;lemma&quot;: &quot;of&quot;}, {&quot;id&quot;: 244, &quot;text&quot;: &quot;cable&quot;, &quot;lemma&quot;: &quot;cable&quot;}, {&quot;id&quot;: 245, &quot;text&quot;: &quot;were&quot;, &quot;lemma&quot;: &quot;be&quot;}, {&quot;id&quot;: 246, &quot;text&quot;: &quot;laid&quot;, &quot;lemma&quot;: &quot;lay&quot;}, {&quot;id&quot;: 247, &quot;text&quot;: &quot;within&quot;, &quot;lemma&quot;: &quot;within&quot;}, {&quot;id&quot;: 248, &quot;text&quot;: &quot;the&quot;, &quot;lemma&quot;: &quot;the&quot;}, {&quot;id&quot;: 249, &quot;text&quot;: &quot;power&quot;, &quot;lemma&quot;: &quot;power&quot;}, {&quot;id&quot;: 250, &quot;text&quot;: &quot;station&quot;, &quot;lemma&quot;: &quot;station&quot;}, {&quot;id&quot;: 251, &quot;text&quot;: &quot;One&quot;, &quot;lemma&quot;: &quot;one&quot;}, {&quot;id&quot;: 252, &quot;text&quot;: &quot;million&quot;, &quot;lemma&quot;: &quot;million&quot;}, {&quot;id&quot;: 253, &quot;text&quot;: &quot;homes&quot;, &quot;lemma&quot;: &quot;home&quot;}, {&quot;id&quot;: 254, &quot;text&quot;: &quot;were&quot;, &quot;lemma&quot;: &quot;be&quot;}, {&quot;id&quot;: 255, &quot;text&quot;: &quot;powered&quot;, &quot;lemma&quot;: &quot;power&quot;}, {&quot;id&quot;: 256, &quot;text&quot;: &quot;by&quot;, &quot;lemma&quot;: &quot;by&quot;}, {&quot;id&quot;: 257, &quot;text&quot;: &quot;Fawley&quot;, &quot;lemma&quot;: &quot;Fawley&quot;}], &quot;summaries&quot;: [{&quot;tokens&quot;: [{&quot;id&quot;: 0, &quot;text&quot;: &quot;Plans&quot;, &quot;lemma&quot;: &quot;plan&quot;, &quot;spans&quot;: [], &quot;class&quot;: &quot;mention&quot;, &quot;label&quot;: &quot;correct&quot;}, {&quot;id&quot;: 1, &quot;text&quot;: &quot;have&quot;, &quot;lemma&quot;: &quot;have&quot;, &quot;spans&quot;: [], &quot;class&quot;: &quot;token&quot;, &quot;label&quot;: &quot;correct&quot;}, {&quot;id&quot;: 2, &quot;text&quot;: &quot;been&quot;, &quot;lemma&quot;: &quot;be&quot;, &quot;spans&quot;: [], &quot;class&quot;: &quot;token&quot;, &quot;label&quot;: &quot;correct&quot;}, {&quot;id&quot;: 3, &quot;text&quot;: &quot;unveiled&quot;, &quot;lemma&quot;: &quot;unveil&quot;, &quot;spans&quot;: [], &quot;class&quot;: &quot;mention&quot;, &quot;label&quot;: &quot;correct&quot;}, {&quot;id&quot;: 4, &quot;text&quot;: &quot;for&quot;, &quot;lemma&quot;: &quot;for&quot;, &quot;spans&quot;: [], &quot;class&quot;: &quot;token&quot;, &quot;label&quot;: &quot;correct&quot;}, {&quot;id&quot;: 5, &quot;text&quot;: &quot;a&quot;, &quot;lemma&quot;: &quot;a&quot;, &quot;spans&quot;: [], &quot;class&quot;: &quot;token&quot;, &quot;label&quot;: &quot;correct&quot;}, {&quot;id&quot;: 6, &quot;text&quot;: &quot;\\\\u00a3&quot;, &quot;lemma&quot;: &quot;\\\\u00a3&quot;, &quot;spans&quot;: [], &quot;class&quot;: &quot;mention&quot;, &quot;label&quot;: &quot;correct&quot;}, {&quot;id&quot;: 7, &quot;text&quot;: &quot;1bn&quot;, &quot;lemma&quot;: &quot;1bn&quot;, &quot;spans&quot;: [], &quot;class&quot;: &quot;mention&quot;, &quot;label&quot;: &quot;correct&quot;}, {&quot;id&quot;: 8, &quot;text&quot;: &quot;glass&quot;, &quot;lemma&quot;: &quot;glass&quot;, &quot;spans&quot;: [], &quot;class&quot;: &quot;mention&quot;, &quot;label&quot;: &quot;intrinsic&quot;}, {&quot;id&quot;: 9, &quot;text&quot;: &quot;tower&quot;, &quot;lemma&quot;: &quot;tower&quot;, &quot;spans&quot;: [], &quot;class&quot;: &quot;mention&quot;, &quot;label&quot;: &quot;intrinsic&quot;}, {&quot;id&quot;: 10, &quot;text&quot;: &quot;on&quot;, &quot;lemma&quot;: &quot;on&quot;, &quot;spans&quot;: [], &quot;class&quot;: &quot;token&quot;, &quot;label&quot;: &quot;correct&quot;}, {&quot;id&quot;: 11, &quot;text&quot;: &quot;the&quot;, &quot;lemma&quot;: &quot;the&quot;, &quot;spans&quot;: [], &quot;class&quot;: &quot;token&quot;, &quot;label&quot;: &quot;correct&quot;}, {&quot;id&quot;: 12, &quot;text&quot;: &quot;banks&quot;, &quot;lemma&quot;: &quot;bank&quot;, &quot;spans&quot;: [], &quot;class&quot;: &quot;mention&quot;, &quot;label&quot;: &quot;correct&quot;}, {&quot;id&quot;: 13, &quot;text&quot;: &quot;of&quot;, &quot;lemma&quot;: &quot;of&quot;, &quot;spans&quot;: [], &quot;class&quot;: &quot;mention&quot;, &quot;label&quot;: &quot;correct&quot;}, {&quot;id&quot;: 14, &quot;text&quot;: &quot;Southampton&quot;, &quot;lemma&quot;: &quot;Southampton&quot;, &quot;spans&quot;: [], &quot;class&quot;: &quot;mention&quot;, &quot;label&quot;: &quot;correct&quot;}, {&quot;id&quot;: 15, &quot;text&quot;: &quot;Water&quot;, &quot;lemma&quot;: &quot;Water&quot;, &quot;spans&quot;: [], &quot;class&quot;: &quot;mention&quot;, &quot;label&quot;: &quot;correct&quot;}, {&quot;id&quot;: 16, &quot;text&quot;: &quot;that&quot;, &quot;lemma&quot;: &quot;that&quot;, &quot;spans&quot;: [], &quot;class&quot;: &quot;token&quot;, &quot;label&quot;: &quot;correct&quot;}, {&quot;id&quot;: 17, &quot;text&quot;: &quot;would&quot;, &quot;lemma&quot;: &quot;would&quot;, &quot;spans&quot;: [], &quot;class&quot;: &quot;token&quot;, &quot;label&quot;: &quot;correct&quot;}, {&quot;id&quot;: 18, &quot;text&quot;: &quot;rise&quot;, &quot;lemma&quot;: &quot;rise&quot;, &quot;spans&quot;: [], &quot;class&quot;: &quot;mention&quot;, &quot;label&quot;: &quot;correct&quot;}, {&quot;id&quot;: 19, &quot;text&quot;: &quot;more&quot;, &quot;lemma&quot;: &quot;more&quot;, &quot;spans&quot;: [], &quot;class&quot;: &quot;mention&quot;, &quot;label&quot;: &quot;correct&quot;}, {&quot;id&quot;: 20, &quot;text&quot;: &quot;than&quot;, &quot;lemma&quot;: &quot;than&quot;, &quot;spans&quot;: [], &quot;class&quot;: &quot;mention&quot;, &quot;label&quot;: &quot;correct&quot;}, {&quot;id&quot;: 21, &quot;text&quot;: &quot;200&quot;, &quot;lemma&quot;: &quot;200&quot;, &quot;spans&quot;: [], &quot;class&quot;: &quot;mention&quot;, &quot;label&quot;: &quot;extrinsic&quot;}, {&quot;id&quot;: 22, &quot;text&quot;: &quot;m&quot;, &quot;lemma&quot;: &quot;m&quot;, &quot;spans&quot;: [], &quot;class&quot;: &quot;mention&quot;, &quot;label&quot;: &quot;extrinsic&quot;}, {&quot;id&quot;: 23, &quot;text&quot;: &quot;(&quot;, &quot;lemma&quot;: &quot;(&quot;, &quot;spans&quot;: [], &quot;class&quot;: &quot;mention&quot;, &quot;label&quot;: &quot;correct&quot;}, {&quot;id&quot;: 24, &quot;text&quot;: &quot;656&quot;, &quot;lemma&quot;: &quot;656&quot;, &quot;spans&quot;: [], &quot;class&quot;: &quot;mention&quot;, &quot;label&quot;: &quot;correct&quot;}, {&quot;id&quot;: 25, &quot;text&quot;: &quot;ft&quot;, &quot;lemma&quot;: &quot;ft&quot;, &quot;spans&quot;: [], &quot;class&quot;: &quot;mention&quot;, &quot;label&quot;: &quot;correct&quot;}, {&quot;id&quot;: 26, &quot;text&quot;: &quot;)&quot;, &quot;lemma&quot;: &quot;)&quot;, &quot;spans&quot;: [], &quot;class&quot;: &quot;mention&quot;, &quot;label&quot;: &quot;correct&quot;}, {&quot;id&quot;: 27, &quot;text&quot;: &quot;into&quot;, &quot;lemma&quot;: &quot;into&quot;, &quot;spans&quot;: [], &quot;class&quot;: &quot;mention&quot;, &quot;label&quot;: &quot;correct&quot;}, {&quot;id&quot;: 28, &quot;text&quot;: &quot;the&quot;, &quot;lemma&quot;: &quot;the&quot;, &quot;spans&quot;: [], &quot;class&quot;: &quot;mention&quot;, &quot;label&quot;: &quot;correct&quot;}, {&quot;id&quot;: 29, &quot;text&quot;: &quot;sky&quot;, &quot;lemma&quot;: &quot;sky&quot;, &quot;spans&quot;: [], &quot;class&quot;: &quot;mention&quot;, &quot;label&quot;: &quot;correct&quot;}, {&quot;id&quot;: 30, &quot;text&quot;: &quot;.&quot;, &quot;lemma&quot;: &quot;.&quot;, &quot;spans&quot;: [], &quot;class&quot;: &quot;token&quot;, &quot;label&quot;: &quot;correct&quot;}], &quot;spans&quot;: [{&quot;start&quot;: 0, &quot;end&quot;: 1, &quot;qaIds&quot;: [4], &quot;predicate&quot;: true, &quot;include_predicate&quot;: true, &quot;id&quot;: 0, &quot;sourceIds&quot;: [51]}, {&quot;start&quot;: 0, &quot;end&quot;: 1, &quot;qaIds&quot;: [0], &quot;predicate&quot;: false, &quot;include_predicate&quot;: true, &quot;id&quot;: 1, &quot;sourceIds&quot;: [51]}, {&quot;start&quot;: 3, &quot;end&quot;: 4, &quot;qaIds&quot;: [0, 1], &quot;predicate&quot;: true, &quot;include_predicate&quot;: true, &quot;id&quot;: 2, &quot;sourceIds&quot;: []}, {&quot;start&quot;: 6, &quot;end&quot;: 10, &quot;qaIds&quot;: [4, 2, 1], &quot;predicate&quot;: false, &quot;include_predicate&quot;: false, &quot;id&quot;: 3, &quot;sourceIds&quot;: [57, 188]}, {&quot;start&quot;: 12, &quot;end&quot;: 16, &quot;qaIds&quot;: [3], &quot;predicate&quot;: false, &quot;include_predicate&quot;: false, &quot;id&quot;: 4, &quot;sourceIds&quot;: [81, 115, 116, 117, 216, 217, 218]}, {&quot;start&quot;: 18, &quot;end&quot;: 19, &quot;qaIds&quot;: [2, 3], &quot;predicate&quot;: true, &quot;include_predicate&quot;: true, &quot;id&quot;: 5, &quot;sourceIds&quot;: []}], &quot;qas&quot;: [{&quot;sentId&quot;: 0, &quot;predicateId&quot;: &quot;3-4&quot;, &quot;predicate&quot;: &quot;unveiled&quot;, &quot;predicatePos&quot;: &quot;VERB&quot;, &quot;question&quot;: &quot;what has been unveiled?&quot;, &quot;answer&quot;: &quot;Plans&quot;, &quot;answerStartToken&quot;: [0], &quot;answerEndToken&quot;: [1], &quot;answerId&quot;: &quot;0-1&quot;, &quot;cleanAnswerId&quot;: &quot;0-1&quot;, &quot;verbTokenId&quot;: 2, &quot;sourceIds&quot;: [51], &quot;questionId&quot;: 0}, {&quot;sentId&quot;: 0, &quot;predicateId&quot;: &quot;3-4&quot;, &quot;predicate&quot;: &quot;unveiled&quot;, &quot;predicatePos&quot;: &quot;VERB&quot;, &quot;question&quot;: &quot;what has something been unveiled for?&quot;, &quot;answer&quot;: &quot;a \\\\u00a3 1bn glass tower&quot;, &quot;answerStartToken&quot;: [5], &quot;answerEndToken&quot;: [10], &quot;answerId&quot;: &quot;5-10&quot;, &quot;cleanAnswerId&quot;: &quot;6-10&quot;, &quot;verbTokenId&quot;: 3, &quot;sourceIds&quot;: [57, 188], &quot;questionId&quot;: 1}, {&quot;sentId&quot;: 0, &quot;predicateId&quot;: &quot;18-19&quot;, &quot;predicate&quot;: &quot;rise&quot;, &quot;predicatePos&quot;: &quot;VERB&quot;, &quot;question&quot;: &quot;what would rise somewhere?&quot;, &quot;answer&quot;: &quot;a \\\\u00a3 1bn glass tower&quot;, &quot;answerStartToken&quot;: [5], &quot;answerEndToken&quot;: [10], &quot;answerId&quot;: &quot;5-10&quot;, &quot;cleanAnswerId&quot;: &quot;6-10&quot;, &quot;verbTokenId&quot;: 2, &quot;sourceIds&quot;: [57, 188], &quot;questionId&quot;: 2}, {&quot;sentId&quot;: 0, &quot;predicateId&quot;: &quot;18-19&quot;, &quot;predicate&quot;: &quot;rise&quot;, &quot;predicatePos&quot;: &quot;VERB&quot;, &quot;question&quot;: &quot;where would something rise?&quot;, &quot;answer&quot;: &quot;on the banks of Southampton Water&quot;, &quot;answerStartToken&quot;: [10], &quot;answerEndToken&quot;: [16], &quot;answerId&quot;: &quot;10-16&quot;, &quot;cleanAnswerId&quot;: &quot;12-16&quot;, &quot;verbTokenId&quot;: 3, &quot;sourceIds&quot;: [81, 115, 116, 117, 216, 217, 218], &quot;questionId&quot;: 3}, {&quot;sentId&quot;: 0, &quot;predicateId&quot;: &quot;0-1&quot;, &quot;predicate&quot;: &quot;Plans&quot;, &quot;predicatePos&quot;: &quot;NOUN&quot;, &quot;question&quot;: &quot;what was planned?&quot;, &quot;answer&quot;: &quot;a \\\\u00a3 1bn glass tower&quot;, &quot;answerStartToken&quot;: [5], &quot;answerEndToken&quot;: [10], &quot;answerId&quot;: &quot;5-10&quot;, &quot;cleanAnswerId&quot;: &quot;6-10&quot;, &quot;verbTokenId&quot;: 2, &quot;sourceIds&quot;: [57, 188], &quot;questionId&quot;: 4}], &quot;label&quot;: 0, &quot;summaryId&quot;: &quot;bart&quot;, &quot;predicates&quot;: [0, 5, 2]}, {&quot;tokens&quot;: [{&quot;id&quot;: 0, &quot;text&quot;: &quot;Plans&quot;, &quot;lemma&quot;: &quot;plan&quot;, &quot;spans&quot;: [], &quot;class&quot;: &quot;mention&quot;, &quot;label&quot;: &quot;correct&quot;}, {&quot;id&quot;: 1, &quot;text&quot;: &quot;have&quot;, &quot;lemma&quot;: &quot;have&quot;, &quot;spans&quot;: [], &quot;class&quot;: &quot;token&quot;, &quot;label&quot;: &quot;correct&quot;}, {&quot;id&quot;: 2, &quot;text&quot;: &quot;been&quot;, &quot;lemma&quot;: &quot;be&quot;, &quot;spans&quot;: [], &quot;class&quot;: &quot;token&quot;, &quot;label&quot;: &quot;correct&quot;}, {&quot;id&quot;: 3, &quot;text&quot;: &quot;unveiled&quot;, &quot;lemma&quot;: &quot;unveil&quot;, &quot;spans&quot;: [], &quot;class&quot;: &quot;mention&quot;, &quot;label&quot;: &quot;correct&quot;}, {&quot;id&quot;: 4, &quot;text&quot;: &quot;for&quot;, &quot;lemma&quot;: &quot;for&quot;, &quot;spans&quot;: [], &quot;class&quot;: &quot;token&quot;, &quot;label&quot;: &quot;correct&quot;}, {&quot;id&quot;: 5, &quot;text&quot;: &quot;a&quot;, &quot;lemma&quot;: &quot;a&quot;, &quot;spans&quot;: [], &quot;class&quot;: &quot;token&quot;, &quot;label&quot;: &quot;correct&quot;}, {&quot;id&quot;: 6, &quot;text&quot;: &quot;198&quot;, &quot;lemma&quot;: &quot;198&quot;, &quot;spans&quot;: [], &quot;class&quot;: &quot;mention&quot;, &quot;label&quot;: &quot;correct&quot;}, {&quot;id&quot;: 7, &quot;text&quot;: &quot;metre&quot;, &quot;lemma&quot;: &quot;metre&quot;, &quot;spans&quot;: [], &quot;class&quot;: &quot;mention&quot;, &quot;label&quot;: &quot;correct&quot;}, {&quot;id&quot;: 8, &quot;text&quot;: &quot;-&quot;, &quot;lemma&quot;: &quot;-&quot;, &quot;spans&quot;: [], &quot;class&quot;: &quot;mention&quot;, &quot;label&quot;: &quot;correct&quot;}, {&quot;id&quot;: 9, &quot;text&quot;: &quot;high&quot;, &quot;lemma&quot;: &quot;high&quot;, &quot;spans&quot;: [], &quot;class&quot;: &quot;mention&quot;, &quot;label&quot;: &quot;correct&quot;}, {&quot;id&quot;: 10, &quot;text&quot;: &quot;(&quot;, &quot;lemma&quot;: &quot;(&quot;, &quot;spans&quot;: [], &quot;class&quot;: &quot;mention&quot;, &quot;label&quot;: &quot;extrinsic&quot;}, {&quot;id&quot;: 11, &quot;text&quot;: &quot;656&quot;, &quot;lemma&quot;: &quot;656&quot;, &quot;spans&quot;: [], &quot;class&quot;: &quot;mention&quot;, &quot;label&quot;: &quot;extrinsic&quot;}, {&quot;id&quot;: 12, &quot;text&quot;: &quot;ft&quot;, &quot;lemma&quot;: &quot;ft&quot;, &quot;spans&quot;: [], &quot;class&quot;: &quot;mention&quot;, &quot;label&quot;: &quot;extrinsic&quot;}, {&quot;id&quot;: 13, &quot;text&quot;: &quot;)&quot;, &quot;lemma&quot;: &quot;)&quot;, &quot;spans&quot;: [], &quot;class&quot;: &quot;mention&quot;, &quot;label&quot;: &quot;extrinsic&quot;}, {&quot;id&quot;: 14, &quot;text&quot;: &quot;glass&quot;, &quot;lemma&quot;: &quot;glass&quot;, &quot;spans&quot;: [], &quot;class&quot;: &quot;mention&quot;, &quot;label&quot;: &quot;extrinsic&quot;}, {&quot;id&quot;: 15, &quot;text&quot;: &quot;chimney&quot;, &quot;lemma&quot;: &quot;chimney&quot;, &quot;spans&quot;: [], &quot;class&quot;: &quot;mention&quot;, &quot;label&quot;: &quot;extrinsic&quot;}, {&quot;id&quot;: 16, &quot;text&quot;: &quot;at&quot;, &quot;lemma&quot;: &quot;at&quot;, &quot;spans&quot;: [], &quot;class&quot;: &quot;token&quot;, &quot;label&quot;: &quot;correct&quot;}, {&quot;id&quot;: 17, &quot;text&quot;: &quot;a&quot;, &quot;lemma&quot;: &quot;a&quot;, &quot;spans&quot;: [], &quot;class&quot;: &quot;token&quot;, &quot;label&quot;: &quot;correct&quot;}, {&quot;id&quot;: 18, &quot;text&quot;: &quot;former&quot;, &quot;lemma&quot;: &quot;former&quot;, &quot;spans&quot;: [], &quot;class&quot;: &quot;mention&quot;, &quot;label&quot;: &quot;correct&quot;}, {&quot;id&quot;: 19, &quot;text&quot;: &quot;power&quot;, &quot;lemma&quot;: &quot;power&quot;, &quot;spans&quot;: [], &quot;class&quot;: &quot;mention&quot;, &quot;label&quot;: &quot;correct&quot;}, {&quot;id&quot;: 20, &quot;text&quot;: &quot;station&quot;, &quot;lemma&quot;: &quot;station&quot;, &quot;spans&quot;: [], &quot;class&quot;: &quot;mention&quot;, &quot;label&quot;: &quot;correct&quot;}, {&quot;id&quot;: 21, &quot;text&quot;: &quot;site&quot;, &quot;lemma&quot;: &quot;site&quot;, &quot;spans&quot;: [], &quot;class&quot;: &quot;mention&quot;, &quot;label&quot;: &quot;correct&quot;}, {&quot;id&quot;: 22, &quot;text&quot;: &quot;in&quot;, &quot;lemma&quot;: &quot;in&quot;, &quot;spans&quot;: [], &quot;class&quot;: &quot;mention&quot;, &quot;label&quot;: &quot;correct&quot;}, {&quot;id&quot;: 23, &quot;text&quot;: &quot;Southampton&quot;, &quot;lemma&quot;: &quot;Southampton&quot;, &quot;spans&quot;: [], &quot;class&quot;: &quot;mention&quot;, &quot;label&quot;: &quot;correct&quot;}, {&quot;id&quot;: 24, &quot;text&quot;: &quot;.&quot;, &quot;lemma&quot;: &quot;.&quot;, &quot;spans&quot;: [], &quot;class&quot;: &quot;token&quot;, &quot;label&quot;: &quot;correct&quot;}], &quot;spans&quot;: [{&quot;start&quot;: 0, &quot;end&quot;: 1, &quot;qaIds&quot;: [2], &quot;predicate&quot;: true, &quot;include_predicate&quot;: true, &quot;id&quot;: 0, &quot;sourceIds&quot;: [51]}, {&quot;start&quot;: 0, &quot;end&quot;: 1, &quot;qaIds&quot;: [0], &quot;predicate&quot;: false, &quot;include_predicate&quot;: true, &quot;id&quot;: 1, &quot;sourceIds&quot;: [51]}, {&quot;start&quot;: 3, &quot;end&quot;: 4, &quot;qaIds&quot;: [0, 1], &quot;predicate&quot;: true, &quot;include_predicate&quot;: true, &quot;id&quot;: 2, &quot;sourceIds&quot;: []}, {&quot;start&quot;: 6, &quot;end&quot;: 16, &quot;qaIds&quot;: [2, 1], &quot;predicate&quot;: false, &quot;include_predicate&quot;: false, &quot;id&quot;: 3, &quot;sourceIds&quot;: [161, 231, 8, 233, 232, 234, 235, 57]}], &quot;qas&quot;: [{&quot;sentId&quot;: 0, &quot;predicateId&quot;: &quot;3-4&quot;, &quot;predicate&quot;: &quot;unveiled&quot;, &quot;predicatePos&quot;: &quot;VERB&quot;, &quot;question&quot;: &quot;what has been unveiled?&quot;, &quot;answer&quot;: &quot;Plans&quot;, &quot;answerStartToken&quot;: [0], &quot;answerEndToken&quot;: [1], &quot;answerId&quot;: &quot;0-1&quot;, &quot;cleanAnswerId&quot;: &quot;0-1&quot;, &quot;verbTokenId&quot;: 2, &quot;sourceIds&quot;: [51], &quot;questionId&quot;: 0}, {&quot;sentId&quot;: 0, &quot;predicateId&quot;: &quot;3-4&quot;, &quot;predicate&quot;: &quot;unveiled&quot;, &quot;predicatePos&quot;: &quot;VERB&quot;, &quot;question&quot;: &quot;what has something been unveiled for?&quot;, &quot;answer&quot;: &quot;a 198 metre - high ( 656 ft ) glass chimney&quot;, &quot;answerStartToken&quot;: [5], &quot;answerEndToken&quot;: [16], &quot;answerId&quot;: &quot;5-16&quot;, &quot;cleanAnswerId&quot;: &quot;6-16&quot;, &quot;verbTokenId&quot;: 3, &quot;sourceIds&quot;: [161, 231, 8, 233, 232, 234, 235, 57], &quot;questionId&quot;: 1}, {&quot;sentId&quot;: 0, &quot;predicateId&quot;: &quot;0-1&quot;, &quot;predicate&quot;: &quot;Plans&quot;, &quot;predicatePos&quot;: &quot;NOUN&quot;, &quot;question&quot;: &quot;what was planned?&quot;, &quot;answer&quot;: &quot;a 198 metre - high ( 656 ft ) glass chimney&quot;, &quot;answerStartToken&quot;: [5], &quot;answerEndToken&quot;: [16], &quot;answerId&quot;: &quot;5-16&quot;, &quot;cleanAnswerId&quot;: &quot;6-16&quot;, &quot;verbTokenId&quot;: 2, &quot;sourceIds&quot;: [161, 231, 8, 233, 232, 234, 235, 57], &quot;questionId&quot;: 2}], &quot;label&quot;: 0, &quot;summaryId&quot;: &quot;pegasus&quot;, &quot;predicates&quot;: [0, 2]}], &quot;sourceId&quot;: 98, &quot;datasource&quot;: &quot;xsum&quot;, &quot;dataset&quot;: &quot;cliff&quot;, &quot;local&quot;: false}'"
      ]
     },
     "execution_count": 59,
     "metadata": {},
     "output_type": "execute_result"
    }
   ],
   "source": [
    "df_3.iloc[0][\"data\"]"
   ]
  },
  {
   "cell_type": "code",
   "execution_count": 60,
   "metadata": {},
   "outputs": [
    {
     "data": {
      "text/plain": [
       "[{'id': 0,\n",
       "  'text': 'Roselyn',\n",
       "  'lemma': 'Roselyn',\n",
       "  'spans': [],\n",
       "  'class': 'token'},\n",
       " {'id': 1,\n",
       "  'text': 'Sánchez',\n",
       "  'lemma': 'Sánchez',\n",
       "  'spans': [],\n",
       "  'class': 'token'},\n",
       " {'id': 2, 'text': 'is', 'lemma': 'be', 'spans': [], 'class': 'token'},\n",
       " {'id': 3, 'text': 'a', 'lemma': 'a', 'spans': [], 'class': 'token'},\n",
       " {'id': 4, 'text': 'Puerto', 'lemma': 'Puerto', 'spans': [], 'class': 'token'},\n",
       " {'id': 5, 'text': 'Rican', 'lemma': 'rican', 'spans': [], 'class': 'token'},\n",
       " {'id': 6,\n",
       "  'text': 'actress',\n",
       "  'lemma': 'actress',\n",
       "  'spans': [],\n",
       "  'class': 'token'},\n",
       " {'id': 7, 'text': ',', 'lemma': ',', 'spans': [], 'class': 'token'},\n",
       " {'id': 8, 'text': 'singer', 'lemma': 'singer', 'spans': [], 'class': 'token'},\n",
       " {'id': 9, 'text': '-', 'lemma': '-', 'spans': [], 'class': 'token'},\n",
       " {'id': 10,\n",
       "  'text': 'songwriter',\n",
       "  'lemma': 'songwriter',\n",
       "  'spans': [],\n",
       "  'class': 'token'},\n",
       " {'id': 11, 'text': ',', 'lemma': ',', 'spans': [], 'class': 'token'},\n",
       " {'id': 12, 'text': 'model', 'lemma': 'model', 'spans': [], 'class': 'token'},\n",
       " {'id': 13, 'text': ',', 'lemma': ',', 'spans': [], 'class': 'token'},\n",
       " {'id': 14, 'text': 'and', 'lemma': 'and', 'spans': [], 'class': 'token'},\n",
       " {'id': 15,\n",
       "  'text': 'producer',\n",
       "  'lemma': 'producer',\n",
       "  'spans': [],\n",
       "  'class': 'token'},\n",
       " {'id': 16, 'text': '.', 'lemma': '.', 'spans': [], 'class': 'token'},\n",
       " {'id': 17, 'text': 'She', 'lemma': 'she', 'spans': [], 'class': 'mention'},\n",
       " {'id': 18, 'text': 'was', 'lemma': 'be', 'spans': [], 'class': 'token'},\n",
       " {'id': 19, 'text': 'born', 'lemma': 'bear', 'spans': [], 'class': 'mention'},\n",
       " {'id': 20, 'text': 'on', 'lemma': 'on', 'spans': [], 'class': 'token'},\n",
       " {'id': 21,\n",
       "  'text': 'April',\n",
       "  'lemma': 'April',\n",
       "  'spans': [],\n",
       "  'class': 'mention'},\n",
       " {'id': 22, 'text': '2', 'lemma': '2', 'spans': [], 'class': 'mention'},\n",
       " {'id': 23, 'text': ',', 'lemma': ',', 'spans': [], 'class': 'mention'},\n",
       " {'id': 24, 'text': '1973', 'lemma': '1973', 'spans': [], 'class': 'mention'},\n",
       " {'id': 25, 'text': ',', 'lemma': ',', 'spans': [], 'class': 'token'},\n",
       " {'id': 26, 'text': 'in', 'lemma': 'in', 'spans': [], 'class': 'token'},\n",
       " {'id': 27, 'text': 'San', 'lemma': 'San', 'spans': [], 'class': 'mention'},\n",
       " {'id': 28, 'text': 'Juan', 'lemma': 'Juan', 'spans': [], 'class': 'mention'},\n",
       " {'id': 29, 'text': ',', 'lemma': ',', 'spans': [], 'class': 'mention'},\n",
       " {'id': 30,\n",
       "  'text': 'Puerto',\n",
       "  'lemma': 'Puerto',\n",
       "  'spans': [],\n",
       "  'class': 'mention'},\n",
       " {'id': 31, 'text': 'Rico', 'lemma': 'Rico', 'spans': [], 'class': 'mention'},\n",
       " {'id': 32, 'text': '.', 'lemma': '.', 'spans': [], 'class': 'token'},\n",
       " {'id': 33, 'text': 'She', 'lemma': 'she', 'spans': [], 'class': 'mention'},\n",
       " {'id': 34,\n",
       "  'text': 'began',\n",
       "  'lemma': 'begin',\n",
       "  'spans': [],\n",
       "  'class': 'mention'},\n",
       " {'id': 35, 'text': 'her', 'lemma': 'her', 'spans': [], 'class': 'mention'},\n",
       " {'id': 36,\n",
       "  'text': 'career',\n",
       "  'lemma': 'career',\n",
       "  'spans': [],\n",
       "  'class': 'mention'},\n",
       " {'id': 37, 'text': 'as', 'lemma': 'as', 'spans': [], 'class': 'token'},\n",
       " {'id': 38, 'text': 'a', 'lemma': 'a', 'spans': [], 'class': 'token'},\n",
       " {'id': 39,\n",
       "  'text': 'dancer',\n",
       "  'lemma': 'dancer',\n",
       "  'spans': [],\n",
       "  'class': 'mention'},\n",
       " {'id': 40, 'text': 'and', 'lemma': 'and', 'spans': [], 'class': 'token'},\n",
       " {'id': 41,\n",
       "  'text': 'later',\n",
       "  'lemma': 'later',\n",
       "  'spans': [],\n",
       "  'class': 'mention'},\n",
       " {'id': 42, 'text': 'moved', 'lemma': 'move', 'spans': [], 'class': 'mention'},\n",
       " {'id': 43, 'text': 'into', 'lemma': 'into', 'spans': [], 'class': 'token'},\n",
       " {'id': 44,\n",
       "  'text': 'acting',\n",
       "  'lemma': 'acting',\n",
       "  'spans': [],\n",
       "  'class': 'mention'},\n",
       " {'id': 45, 'text': '.', 'lemma': '.', 'spans': [], 'class': 'token'},\n",
       " {'id': 46,\n",
       "  'text': 'Sánchez',\n",
       "  'lemma': 'Sánchez',\n",
       "  'spans': [],\n",
       "  'class': 'mention'},\n",
       " {'id': 47, 'text': 'is', 'lemma': 'be', 'spans': [], 'class': 'token'},\n",
       " {'id': 48, 'text': 'best', 'lemma': 'well', 'spans': [], 'class': 'token'},\n",
       " {'id': 49, 'text': 'known', 'lemma': 'know', 'spans': [], 'class': 'mention'},\n",
       " {'id': 50, 'text': 'for', 'lemma': 'for', 'spans': [], 'class': 'token'},\n",
       " {'id': 51, 'text': 'her', 'lemma': 'her', 'spans': [], 'class': 'mention'},\n",
       " {'id': 52, 'text': 'roles', 'lemma': 'role', 'spans': [], 'class': 'mention'},\n",
       " {'id': 53, 'text': 'in', 'lemma': 'in', 'spans': [], 'class': 'mention'},\n",
       " {'id': 54, 'text': 'the', 'lemma': 'the', 'spans': [], 'class': 'mention'},\n",
       " {'id': 55, 'text': 'TV', 'lemma': 'tv', 'spans': [], 'class': 'mention'},\n",
       " {'id': 56,\n",
       "  'text': 'series',\n",
       "  'lemma': 'series',\n",
       "  'spans': [],\n",
       "  'class': 'mention'},\n",
       " {'id': 57, 'text': '\"', 'lemma': '\"', 'spans': [], 'class': 'token'},\n",
       " {'id': 58,\n",
       "  'text': 'Without',\n",
       "  'lemma': 'without',\n",
       "  'spans': [],\n",
       "  'class': 'token'},\n",
       " {'id': 59, 'text': 'a', 'lemma': 'a', 'spans': [], 'class': 'token'},\n",
       " {'id': 60, 'text': 'Trace', 'lemma': 'trace', 'spans': [], 'class': 'token'},\n",
       " {'id': 61, 'text': '\"', 'lemma': '\"', 'spans': [], 'class': 'token'},\n",
       " {'id': 62, 'text': 'and', 'lemma': 'and', 'spans': [], 'class': 'token'},\n",
       " {'id': 63, 'text': '\"', 'lemma': '\"', 'spans': [], 'class': 'token'},\n",
       " {'id': 64,\n",
       "  'text': 'Devious',\n",
       "  'lemma': 'Devious',\n",
       "  'spans': [],\n",
       "  'class': 'token'},\n",
       " {'id': 65, 'text': 'Maids', 'lemma': 'Maids', 'spans': [], 'class': 'token'},\n",
       " {'id': 66, 'text': '\"', 'lemma': '\"', 'spans': [], 'class': 'token'},\n",
       " {'id': 67, 'text': ',', 'lemma': ',', 'spans': [], 'class': 'token'},\n",
       " {'id': 68, 'text': 'as', 'lemma': 'as', 'spans': [], 'class': 'token'},\n",
       " {'id': 69, 'text': 'well', 'lemma': 'well', 'spans': [], 'class': 'token'},\n",
       " {'id': 70, 'text': 'as', 'lemma': 'as', 'spans': [], 'class': 'token'},\n",
       " {'id': 71, 'text': 'the', 'lemma': 'the', 'spans': [], 'class': 'token'},\n",
       " {'id': 72, 'text': 'films', 'lemma': 'film', 'spans': [], 'class': 'token'},\n",
       " {'id': 73, 'text': '\"', 'lemma': '\"', 'spans': [], 'class': 'token'},\n",
       " {'id': 74, 'text': 'Rush', 'lemma': 'Rush', 'spans': [], 'class': 'mention'},\n",
       " {'id': 75, 'text': 'Hour', 'lemma': 'Hour', 'spans': [], 'class': 'mention'},\n",
       " {'id': 76, 'text': '2', 'lemma': '2', 'spans': [], 'class': 'mention'},\n",
       " {'id': 77, 'text': '\"', 'lemma': '\"', 'spans': [], 'class': 'token'},\n",
       " {'id': 78, 'text': ',', 'lemma': ',', 'spans': [], 'class': 'token'},\n",
       " {'id': 79, 'text': '\"', 'lemma': '\"', 'spans': [], 'class': 'token'},\n",
       " {'id': 80, 'text': 'The', 'lemma': 'the', 'spans': [], 'class': 'token'},\n",
       " {'id': 81, 'text': 'Game', 'lemma': 'Game', 'spans': [], 'class': 'mention'},\n",
       " {'id': 82, 'text': 'Plan', 'lemma': 'Plan', 'spans': [], 'class': 'mention'},\n",
       " {'id': 83, 'text': '\"', 'lemma': '\"', 'spans': [], 'class': 'token'},\n",
       " {'id': 84, 'text': ',', 'lemma': ',', 'spans': [], 'class': 'token'},\n",
       " {'id': 85, 'text': 'and', 'lemma': 'and', 'spans': [], 'class': 'token'},\n",
       " {'id': 86, 'text': '\"', 'lemma': '\"', 'spans': [], 'class': 'token'},\n",
       " {'id': 87, 'text': 'Act', 'lemma': 'Act', 'spans': [], 'class': 'mention'},\n",
       " {'id': 88, 'text': 'of', 'lemma': 'of', 'spans': [], 'class': 'mention'},\n",
       " {'id': 89,\n",
       "  'text': 'Valor',\n",
       "  'lemma': 'Valor',\n",
       "  'spans': [],\n",
       "  'class': 'mention'},\n",
       " {'id': 90, 'text': '\"', 'lemma': '\"', 'spans': [], 'class': 'token'},\n",
       " {'id': 91, 'text': '.', 'lemma': '.', 'spans': [], 'class': 'token'},\n",
       " {'id': 92, 'text': 'She', 'lemma': 'she', 'spans': [], 'class': 'mention'},\n",
       " {'id': 93, 'text': 'has', 'lemma': 'have', 'spans': [], 'class': 'token'},\n",
       " {'id': 94, 'text': 'also', 'lemma': 'also', 'spans': [], 'class': 'token'},\n",
       " {'id': 95,\n",
       "  'text': 'released',\n",
       "  'lemma': 'release',\n",
       "  'spans': [],\n",
       "  'class': 'mention'},\n",
       " {'id': 96,\n",
       "  'text': 'several',\n",
       "  'lemma': 'several',\n",
       "  'spans': [],\n",
       "  'class': 'mention'},\n",
       " {'id': 97,\n",
       "  'text': 'albums',\n",
       "  'lemma': 'album',\n",
       "  'spans': [],\n",
       "  'class': 'mention'},\n",
       " {'id': 98, 'text': 'and', 'lemma': 'and', 'spans': [], 'class': 'token'},\n",
       " {'id': 99, 'text': 'has', 'lemma': 'have', 'spans': [], 'class': 'token'},\n",
       " {'id': 100, 'text': 'been', 'lemma': 'be', 'spans': [], 'class': 'token'},\n",
       " {'id': 101,\n",
       "  'text': 'nominated',\n",
       "  'lemma': 'nominate',\n",
       "  'spans': [],\n",
       "  'class': 'mention'},\n",
       " {'id': 102, 'text': 'for', 'lemma': 'for', 'spans': [], 'class': 'token'},\n",
       " {'id': 103,\n",
       "  'text': 'multiple',\n",
       "  'lemma': 'multiple',\n",
       "  'spans': [],\n",
       "  'class': 'mention'},\n",
       " {'id': 104,\n",
       "  'text': 'awards',\n",
       "  'lemma': 'award',\n",
       "  'spans': [],\n",
       "  'class': 'mention'},\n",
       " {'id': 105,\n",
       "  'text': 'throughout',\n",
       "  'lemma': 'throughout',\n",
       "  'spans': [],\n",
       "  'class': 'token'},\n",
       " {'id': 106, 'text': 'her', 'lemma': 'her', 'spans': [], 'class': 'mention'},\n",
       " {'id': 107,\n",
       "  'text': 'career',\n",
       "  'lemma': 'career',\n",
       "  'spans': [],\n",
       "  'class': 'mention'},\n",
       " {'id': 108, 'text': '.', 'lemma': '.', 'spans': [], 'class': 'token'},\n",
       " {'id': 109, 'text': 'Aside', 'lemma': 'aside', 'spans': [], 'class': 'token'},\n",
       " {'id': 110, 'text': 'from', 'lemma': 'from', 'spans': [], 'class': 'token'},\n",
       " {'id': 111, 'text': 'her', 'lemma': 'her', 'spans': [], 'class': 'token'},\n",
       " {'id': 112,\n",
       "  'text': 'entertainment',\n",
       "  'lemma': 'entertainment',\n",
       "  'spans': [],\n",
       "  'class': 'token'},\n",
       " {'id': 113,\n",
       "  'text': 'career',\n",
       "  'lemma': 'career',\n",
       "  'spans': [],\n",
       "  'class': 'token'},\n",
       " {'id': 114, 'text': ',', 'lemma': ',', 'spans': [], 'class': 'token'},\n",
       " {'id': 115,\n",
       "  'text': 'Sánchez',\n",
       "  'lemma': 'Sánchez',\n",
       "  'spans': [],\n",
       "  'class': 'mention'},\n",
       " {'id': 116, 'text': 'is', 'lemma': 'be', 'spans': [], 'class': 'token'},\n",
       " {'id': 117, 'text': 'also', 'lemma': 'also', 'spans': [], 'class': 'token'},\n",
       " {'id': 118,\n",
       "  'text': 'actively',\n",
       "  'lemma': 'actively',\n",
       "  'spans': [],\n",
       "  'class': 'mention'},\n",
       " {'id': 119,\n",
       "  'text': 'involved',\n",
       "  'lemma': 'involve',\n",
       "  'spans': [],\n",
       "  'class': 'mention'},\n",
       " {'id': 120, 'text': 'in', 'lemma': 'in', 'spans': [], 'class': 'token'},\n",
       " {'id': 121,\n",
       "  'text': 'philanthropy',\n",
       "  'lemma': 'philanthropy',\n",
       "  'spans': [],\n",
       "  'class': 'mention'},\n",
       " {'id': 122, 'text': 'work', 'lemma': 'work', 'spans': [], 'class': 'mention'},\n",
       " {'id': 123, 'text': '.', 'lemma': '.', 'spans': [], 'class': 'token'},\n",
       " {'id': 124, 'text': 'She', 'lemma': 'she', 'spans': [], 'class': 'mention'},\n",
       " {'id': 125, 'text': 'has', 'lemma': 'have', 'spans': [], 'class': 'token'},\n",
       " {'id': 126,\n",
       "  'text': 'supported',\n",
       "  'lemma': 'support',\n",
       "  'spans': [],\n",
       "  'class': 'mention'},\n",
       " {'id': 127,\n",
       "  'text': 'organizations',\n",
       "  'lemma': 'organization',\n",
       "  'spans': [],\n",
       "  'class': 'mention'},\n",
       " {'id': 128, 'text': 'such', 'lemma': 'such', 'spans': [], 'class': 'mention'},\n",
       " {'id': 129, 'text': 'as', 'lemma': 'as', 'spans': [], 'class': 'mention'},\n",
       " {'id': 130, 'text': 'St.', 'lemma': 'St.', 'spans': [], 'class': 'mention'},\n",
       " {'id': 131, 'text': 'Jude', 'lemma': 'Jude', 'spans': [], 'class': 'mention'},\n",
       " {'id': 132,\n",
       "  'text': 'Children',\n",
       "  'lemma': 'Children',\n",
       "  'spans': [],\n",
       "  'class': 'mention'},\n",
       " {'id': 133, 'text': \"'s\", 'lemma': \"'s\", 'spans': [], 'class': 'mention'},\n",
       " {'id': 134,\n",
       "  'text': 'Research',\n",
       "  'lemma': 'Research',\n",
       "  'spans': [],\n",
       "  'class': 'mention'},\n",
       " {'id': 135,\n",
       "  'text': 'Hospital',\n",
       "  'lemma': 'Hospital',\n",
       "  'spans': [],\n",
       "  'class': 'mention'},\n",
       " {'id': 136, 'text': ',', 'lemma': ',', 'spans': [], 'class': 'mention'},\n",
       " {'id': 137, 'text': 'The', 'lemma': 'the', 'spans': [], 'class': 'mention'},\n",
       " {'id': 138,\n",
       "  'text': 'National',\n",
       "  'lemma': 'National',\n",
       "  'spans': [],\n",
       "  'class': 'mention'},\n",
       " {'id': 139,\n",
       "  'text': 'Alliance',\n",
       "  'lemma': 'Alliance',\n",
       "  'spans': [],\n",
       "  'class': 'mention'},\n",
       " {'id': 140, 'text': 'on', 'lemma': 'on', 'spans': [], 'class': 'mention'},\n",
       " {'id': 141,\n",
       "  'text': 'Mental',\n",
       "  'lemma': 'Mental',\n",
       "  'spans': [],\n",
       "  'class': 'mention'},\n",
       " {'id': 142,\n",
       "  'text': 'Illness',\n",
       "  'lemma': 'Illness',\n",
       "  'spans': [],\n",
       "  'class': 'mention'},\n",
       " {'id': 143, 'text': ',', 'lemma': ',', 'spans': [], 'class': 'mention'},\n",
       " {'id': 144, 'text': 'and', 'lemma': 'and', 'spans': [], 'class': 'mention'},\n",
       " {'id': 145, 'text': 'The', 'lemma': 'the', 'spans': [], 'class': 'mention'},\n",
       " {'id': 146,\n",
       "  'text': 'National',\n",
       "  'lemma': 'National',\n",
       "  'spans': [],\n",
       "  'class': 'mention'},\n",
       " {'id': 147,\n",
       "  'text': 'Foundation',\n",
       "  'lemma': 'Foundation',\n",
       "  'spans': [],\n",
       "  'class': 'mention'},\n",
       " {'id': 148, 'text': 'for', 'lemma': 'for', 'spans': [], 'class': 'mention'},\n",
       " {'id': 149,\n",
       "  'text': 'Autism',\n",
       "  'lemma': 'Autism',\n",
       "  'spans': [],\n",
       "  'class': 'mention'},\n",
       " {'id': 150,\n",
       "  'text': 'Research',\n",
       "  'lemma': 'Research',\n",
       "  'spans': [],\n",
       "  'class': 'mention'},\n",
       " {'id': 151, 'text': '.', 'lemma': '.', 'spans': [], 'class': 'token'},\n",
       " {'id': 152,\n",
       "  'text': 'Sánchez',\n",
       "  'lemma': 'Sánchez',\n",
       "  'spans': [],\n",
       "  'class': 'mention'},\n",
       " {'id': 153, 'text': 'is', 'lemma': 'be', 'spans': [], 'class': 'token'},\n",
       " {'id': 154,\n",
       "  'text': 'married',\n",
       "  'lemma': 'married',\n",
       "  'spans': [],\n",
       "  'class': 'token'},\n",
       " {'id': 155, 'text': 'to', 'lemma': 'to', 'spans': [], 'class': 'token'},\n",
       " {'id': 156,\n",
       "  'text': 'actor',\n",
       "  'lemma': 'actor',\n",
       "  'spans': [],\n",
       "  'class': 'mention'},\n",
       " {'id': 157, 'text': 'Eric', 'lemma': 'Eric', 'spans': [], 'class': 'mention'},\n",
       " {'id': 158,\n",
       "  'text': 'Winter',\n",
       "  'lemma': 'Winter',\n",
       "  'spans': [],\n",
       "  'class': 'mention'},\n",
       " {'id': 159, 'text': 'and', 'lemma': 'and', 'spans': [], 'class': 'token'},\n",
       " {'id': 160, 'text': 'they', 'lemma': 'they', 'spans': [], 'class': 'mention'},\n",
       " {'id': 161, 'text': 'have', 'lemma': 'have', 'spans': [], 'class': 'mention'},\n",
       " {'id': 162, 'text': 'two', 'lemma': 'two', 'spans': [], 'class': 'mention'},\n",
       " {'id': 163,\n",
       "  'text': 'children',\n",
       "  'lemma': 'child',\n",
       "  'spans': [],\n",
       "  'class': 'mention'},\n",
       " {'id': 164,\n",
       "  'text': 'together',\n",
       "  'lemma': 'together',\n",
       "  'spans': [],\n",
       "  'class': 'mention'},\n",
       " {'id': 165, 'text': '.', 'lemma': '.', 'spans': [], 'class': 'token'}]"
      ]
     },
     "execution_count": 60,
     "metadata": {},
     "output_type": "execute_result"
    }
   ],
   "source": [
    "json.loads(html.unescape(df_5.iloc[0][\"data\"]))[\"summaries\"][0][\"tokens\"]"
   ]
  },
  {
   "cell_type": "code",
   "execution_count": 61,
   "metadata": {},
   "outputs": [
    {
     "data": {
      "text/plain": [
       "[1, 5, 7, 10, 11, 14, 17, 22, 23, 26]"
      ]
     },
     "execution_count": 61,
     "metadata": {},
     "output_type": "execute_result"
    }
   ],
   "source": [
    "json.loads(html.unescape(df_5.iloc[0][\"data\"]))[\"summaries\"][1][\"predicates\"]"
   ]
  },
  {
   "cell_type": "code",
   "execution_count": null,
   "metadata": {},
   "outputs": [],
   "source": []
  },
  {
   "cell_type": "code",
   "execution_count": 6,
   "metadata": {},
   "outputs": [],
   "source": [
    "keys = [8, 20, 118, 120]\n",
    "sources = [\"bart\", \"pegasus\"]"
   ]
  },
  {
   "cell_type": "code",
   "execution_count": 7,
   "metadata": {},
   "outputs": [],
   "source": [
    "for key in keys:\n",
    "    data = []\n",
    "    for source in sources:\n",
    "        path = f\"../src/data/cliff_flan_t5_xl_5_epochs_with_source_ids/{key}_{source}_xsum.json\"\n",
    "        with open(path, \"r\") as f:\n",
    "            data.append(json.load(f))\n",
    "    output_csv = f\"../annotations/v3/{key}.csv\"\n",
    "    pd.DataFrame([{\"data\": html.escape(json.dumps(x))} for x in data]).to_csv(output_csv, index=False)    \n",
    "    "
   ]
  },
  {
   "cell_type": "code",
   "execution_count": null,
   "metadata": {},
   "outputs": [],
   "source": []
  },
  {
   "cell_type": "code",
   "execution_count": 33,
   "metadata": {},
   "outputs": [],
   "source": [
    "data = []\n",
    "for key in keys:\n",
    "    with open(f\"../src/data/cliff_flan_t5_xl_5_epochs_with_source_ids/{key}.json\", \"r\") as f:\n",
    "        data.append(json.load(f))"
   ]
  },
  {
   "cell_type": "code",
   "execution_count": 35,
   "metadata": {},
   "outputs": [],
   "source": [
    "output_csv = \"../annotations/input_for_mturk.csv\"\n",
    "# html.escape(x)\n",
    "# data = html.escape(json.dumps(x)) for x in data]\n",
    "df = pd.DataFrame([{\"data\": html.escape(json.dumps(x))} for x in data]).to_csv(output_csv, index=False)"
   ]
  },
  {
   "cell_type": "code",
   "execution_count": 28,
   "metadata": {},
   "outputs": [],
   "source": [
    "df = pd.DataFrame([{\"data\": data[0]}]).to_csv(output_csv, index=False)"
   ]
  },
  {
   "cell_type": "code",
   "execution_count": null,
   "metadata": {},
   "outputs": [],
   "source": []
  }
 ],
 "metadata": {
  "kernelspec": {
   "display_name": "loc-unfaith",
   "language": "python",
   "name": "python3"
  },
  "language_info": {
   "codemirror_mode": {
    "name": "ipython",
    "version": 3
   },
   "file_extension": ".py",
   "mimetype": "text/x-python",
   "name": "python",
   "nbconvert_exporter": "python",
   "pygments_lexer": "ipython3",
   "version": "3.8.13"
  }
 },
 "nbformat": 4,
 "nbformat_minor": 2
}
