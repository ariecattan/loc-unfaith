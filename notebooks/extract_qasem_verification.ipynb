{
 "cells": [
  {
   "cell_type": "code",
   "execution_count": 73,
   "metadata": {},
   "outputs": [],
   "source": [
    "import os \n",
    "import pandas as pd \n",
    "import json \n",
    "from tqdm import tqdm \n",
    "import collections \n",
    "import random"
   ]
  },
  {
   "cell_type": "code",
   "execution_count": 26,
   "metadata": {},
   "outputs": [],
   "source": [
    "# xsum_dir_path = \"../src/data/cliff_multiple_summaries\""
   ]
  },
  {
   "cell_type": "markdown",
   "metadata": {},
   "source": [
    "# Json to CSV"
   ]
  },
  {
   "cell_type": "code",
   "execution_count": 27,
   "metadata": {},
   "outputs": [],
   "source": [
    "xsum_dir_path = \"../src/data/cliff_multiple_summaries\"\n",
    "\n",
    "# xsum_topics = [8, 17, 22, 20, 118, 58, 145, 127, 100, 114, 132, 79]\n",
    "# xsum_topics = [112, 148, 104, 61, 71, 27, 2, 0, 34, 64, 52, 139, 76, 74, 50, 63, 98]\n",
    "xsum_topics = [30, 75, 46, 94, 116, 149, 84, 126, 6, 109, 37, 141, 135, 3, 4]"
   ]
  },
  {
   "cell_type": "code",
   "execution_count": 28,
   "metadata": {},
   "outputs": [],
   "source": [
    "factscore_dir_path = \"../src/data/factscore_filtered\"\n",
    "factscore_topics = [x[:-5] for x in os.listdir(factscore_dir_path) if x.endswith(\"json\")]\n"
   ]
  },
  {
   "cell_type": "code",
   "execution_count": 29,
   "metadata": {},
   "outputs": [],
   "source": [
    "tofueval_mediasum = \"../src/data/tofueval_chosen/mediasum\"\n",
    "mediasum_topics = [x[:-5] for x in os.listdir(tofueval_mediasum) if x.endswith(\"json\")]"
   ]
  },
  {
   "cell_type": "code",
   "execution_count": 44,
   "metadata": {},
   "outputs": [],
   "source": [
    "verifiability_path = \"../src/data/verifiability\"\n",
    "# verifiability_topics = [x[:-5] for x in os.listdir(verifiability_path) if x.endswith(\"json\")]\n",
    "verifiability_topics = ['608ef52ca6dc3ea33dfd78c2014987a7efd23785a6b87363ffb7c4dbccfe5b75-perplexity',\n",
    "                 '608ef52ca6dc3ea33dfd78c2014987a7efd23785a6b87363ffb7c4dbccfe5b75-neeva',\n",
    " '5f70135447f685d2cfb0b6e41b00f2ac787f50611adfde29dd60e9d10a1df831-perplexity',\n",
    " '9befc3bbc7fe5614a69a577553195d42cb7f9468e74d996337a4e67993effa44-perplexity',\n",
    " '9befc3bbc7fe5614a69a577553195d42cb7f9468e74d996337a4e67993effa44-neeva',\n",
    " 'b4f9e9e26e0fd56b0bd5899ce85c75299d6dc5a89c8ce4878bab2c98e752376f-perplexity',\n",
    " 'b4f9e9e26e0fd56b0bd5899ce85c75299d6dc5a89c8ce4878bab2c98e752376f-neeva',\n",
    " 'deae1a7412a8eb9c480322daaed12652bdb50d789d09a393a93348350a4febc1-perplexity',\n",
    " 'ebb3be87f4929f116372109e6e2f166d5ce21d378f61eee6db33e8b306a96ff5-neeva',\n",
    " '308bc8aafa9e96c8ef2c67a01024067171ef6ba93e6479c0d2caaabf50a0fc4b-perplexity',\n",
    " 'affec3fdd0e64a10e1ebf080072586eb4ab38b6f1449502ebf4ba839fd434429-neeva',\n",
    " '1dfb92efea40d15b76af074cf37b9b990d50feb10efdaac6636d788f2b0b0e6b-neeva',\n",
    " 'afa4a5de3563cabb30e68722419064cf4ce932e0cb5024d2bb96b3991f2399f9-perplexity',\n",
    "'67247a4db1b0891fc049618dee77f53ebf388b9b97aacaa9bfd41864de874853-perplexity']"
   ]
  },
  {
   "cell_type": "code",
   "execution_count": 45,
   "metadata": {},
   "outputs": [
    {
     "data": {
      "text/plain": [
       "14"
      ]
     },
     "execution_count": 45,
     "metadata": {},
     "output_type": "execute_result"
    }
   ],
   "source": [
    "len(verifiability_topics)"
   ]
  },
  {
   "cell_type": "code",
   "execution_count": null,
   "metadata": {},
   "outputs": [],
   "source": []
  },
  {
   "cell_type": "code",
   "execution_count": 64,
   "metadata": {},
   "outputs": [],
   "source": [
    "all_qas = pd.DataFrame()\n",
    "for example_topic in verifiability_topics: #factscore_topics[10:]: # xsum_topics:\n",
    "    with open(os.path.join(verifiability_path, f\"{example_topic}.json\"), \"r\") as f:\n",
    "        data = json.load(f)\n",
    "    for i, summary in enumerate(data[\"summaries\"]):\n",
    "        df_tokens = pd.DataFrame(summary[\"tokens\"])\n",
    "        sentence_mapping = df_tokens[[\"sent_id\", \"text\"]].groupby(\"sent_id\")[\"text\"].apply(lambda group: \" \".join(group)).to_dict()\n",
    "\n",
    "        df = pd.DataFrame(summary[\"qas\"])\n",
    "\n",
    "        df[\"sentence\"] = df[\"sentId\"].apply(lambda x: sentence_mapping[x])\n",
    "        df[\"source_id\"] = data[\"sourceId\"]\n",
    "        df[\"summary_id\"] = i\n",
    "        df[\"model\"] = summary[\"summaryId\"]\n",
    "        df[\"origin_id\"] = df[\"source_id\"].apply(lambda x: x.split(\"-\")[0])\n",
    "        all_qas = pd.concat([all_qas, df[[\"origin_id\", \"source_id\", \"summary_id\", \"model\", \"questionId\", \"sentId\", \"sentence\", \"predicate\", \"question\", \"answer\"]]])\n"
   ]
  },
  {
   "cell_type": "code",
   "execution_count": 65,
   "metadata": {},
   "outputs": [
    {
     "data": {
      "text/plain": [
       "dict_keys(['tokens', 'spans', 'qas', 'predicates', 'label', 'summaryId'])"
      ]
     },
     "execution_count": 65,
     "metadata": {},
     "output_type": "execute_result"
    }
   ],
   "source": [
    "summary.keys()"
   ]
  },
  {
   "cell_type": "code",
   "execution_count": null,
   "metadata": {},
   "outputs": [],
   "source": []
  },
  {
   "cell_type": "code",
   "execution_count": 66,
   "metadata": {},
   "outputs": [
    {
     "data": {
      "text/plain": [
       "{0: 'It is also recommended to stay hydrated and avoid caffeine .'}"
      ]
     },
     "execution_count": 66,
     "metadata": {},
     "output_type": "execute_result"
    }
   ],
   "source": [
    "df_tokens[[\"sent_id\", \"text\"]].groupby(\"sent_id\")[\"text\"].apply(lambda group: \" \".join(group)).to_dict()"
   ]
  },
  {
   "cell_type": "code",
   "execution_count": 67,
   "metadata": {},
   "outputs": [
    {
     "data": {
      "text/html": [
       "<div>\n",
       "<style scoped>\n",
       "    .dataframe tbody tr th:only-of-type {\n",
       "        vertical-align: middle;\n",
       "    }\n",
       "\n",
       "    .dataframe tbody tr th {\n",
       "        vertical-align: top;\n",
       "    }\n",
       "\n",
       "    .dataframe thead th {\n",
       "        text-align: right;\n",
       "    }\n",
       "</style>\n",
       "<table border=\"1\" class=\"dataframe\">\n",
       "  <thead>\n",
       "    <tr style=\"text-align: right;\">\n",
       "      <th></th>\n",
       "      <th>sentId</th>\n",
       "      <th>predicateId</th>\n",
       "      <th>predicate</th>\n",
       "      <th>predicatePos</th>\n",
       "      <th>question</th>\n",
       "      <th>answer</th>\n",
       "      <th>answerStartToken</th>\n",
       "      <th>answerEndToken</th>\n",
       "      <th>answerId</th>\n",
       "      <th>cleanAnswerId</th>\n",
       "      <th>verbTokenId</th>\n",
       "      <th>sourceIds</th>\n",
       "      <th>questionId</th>\n",
       "      <th>sentence</th>\n",
       "      <th>source_id</th>\n",
       "      <th>summary_id</th>\n",
       "      <th>model</th>\n",
       "      <th>origin_id</th>\n",
       "    </tr>\n",
       "  </thead>\n",
       "  <tbody>\n",
       "    <tr>\n",
       "      <th>0</th>\n",
       "      <td>0</td>\n",
       "      <td>3-4</td>\n",
       "      <td>recommended</td>\n",
       "      <td>VERB</td>\n",
       "      <td>what is recommended?</td>\n",
       "      <td>It</td>\n",
       "      <td>[0]</td>\n",
       "      <td>[1]</td>\n",
       "      <td>0-1</td>\n",
       "      <td>0-1</td>\n",
       "      <td>2</td>\n",
       "      <td>[129, 261, 777, 142, 399, 16, 1173, 406, 918, ...</td>\n",
       "      <td>0</td>\n",
       "      <td>It is also recommended to stay hydrated and av...</td>\n",
       "      <td>67247a4db1b0891fc049618dee77f53ebf388b9b97aaca...</td>\n",
       "      <td>3</td>\n",
       "      <td>67247a4db1b0891fc049618dee77f53ebf388b9b97aaca...</td>\n",
       "      <td>67247a4db1b0891fc049618dee77f53ebf388b9b97aaca...</td>\n",
       "    </tr>\n",
       "    <tr>\n",
       "      <th>1</th>\n",
       "      <td>0</td>\n",
       "      <td>3-4</td>\n",
       "      <td>recommended</td>\n",
       "      <td>VERB</td>\n",
       "      <td>what is recommended?</td>\n",
       "      <td>to stay hydrated and avoid caffeine</td>\n",
       "      <td>[4]</td>\n",
       "      <td>[10]</td>\n",
       "      <td>4-10</td>\n",
       "      <td>5-10</td>\n",
       "      <td>2</td>\n",
       "      <td>[771, 712, 713, 232, 847, 848, 657, 306, 307, ...</td>\n",
       "      <td>1</td>\n",
       "      <td>It is also recommended to stay hydrated and av...</td>\n",
       "      <td>67247a4db1b0891fc049618dee77f53ebf388b9b97aaca...</td>\n",
       "      <td>3</td>\n",
       "      <td>67247a4db1b0891fc049618dee77f53ebf388b9b97aaca...</td>\n",
       "      <td>67247a4db1b0891fc049618dee77f53ebf388b9b97aaca...</td>\n",
       "    </tr>\n",
       "    <tr>\n",
       "      <th>2</th>\n",
       "      <td>0</td>\n",
       "      <td>5-6</td>\n",
       "      <td>stay</td>\n",
       "      <td>VERB</td>\n",
       "      <td>why should someone stay?</td>\n",
       "      <td>It is also recommended</td>\n",
       "      <td>[0]</td>\n",
       "      <td>[4]</td>\n",
       "      <td>0-4</td>\n",
       "      <td>0-4</td>\n",
       "      <td>3</td>\n",
       "      <td>[129, 643, 261, 777, 142, 399, 16, 1173, 406, ...</td>\n",
       "      <td>2</td>\n",
       "      <td>It is also recommended to stay hydrated and av...</td>\n",
       "      <td>67247a4db1b0891fc049618dee77f53ebf388b9b97aaca...</td>\n",
       "      <td>3</td>\n",
       "      <td>67247a4db1b0891fc049618dee77f53ebf388b9b97aaca...</td>\n",
       "      <td>67247a4db1b0891fc049618dee77f53ebf388b9b97aaca...</td>\n",
       "    </tr>\n",
       "    <tr>\n",
       "      <th>3</th>\n",
       "      <td>0</td>\n",
       "      <td>5-6</td>\n",
       "      <td>stay</td>\n",
       "      <td>VERB</td>\n",
       "      <td>how should someone stay?</td>\n",
       "      <td>hydrated</td>\n",
       "      <td>[6]</td>\n",
       "      <td>[7]</td>\n",
       "      <td>6-7</td>\n",
       "      <td>6-7</td>\n",
       "      <td>3</td>\n",
       "      <td>[848, 771]</td>\n",
       "      <td>3</td>\n",
       "      <td>It is also recommended to stay hydrated and av...</td>\n",
       "      <td>67247a4db1b0891fc049618dee77f53ebf388b9b97aaca...</td>\n",
       "      <td>3</td>\n",
       "      <td>67247a4db1b0891fc049618dee77f53ebf388b9b97aaca...</td>\n",
       "      <td>67247a4db1b0891fc049618dee77f53ebf388b9b97aaca...</td>\n",
       "    </tr>\n",
       "    <tr>\n",
       "      <th>4</th>\n",
       "      <td>0</td>\n",
       "      <td>8-9</td>\n",
       "      <td>avoid</td>\n",
       "      <td>VERB</td>\n",
       "      <td>what should be avoided?</td>\n",
       "      <td>caffeine</td>\n",
       "      <td>[9]</td>\n",
       "      <td>[10]</td>\n",
       "      <td>9-10</td>\n",
       "      <td>9-10</td>\n",
       "      <td>2</td>\n",
       "      <td>[712, 657, 727]</td>\n",
       "      <td>4</td>\n",
       "      <td>It is also recommended to stay hydrated and av...</td>\n",
       "      <td>67247a4db1b0891fc049618dee77f53ebf388b9b97aaca...</td>\n",
       "      <td>3</td>\n",
       "      <td>67247a4db1b0891fc049618dee77f53ebf388b9b97aaca...</td>\n",
       "      <td>67247a4db1b0891fc049618dee77f53ebf388b9b97aaca...</td>\n",
       "    </tr>\n",
       "  </tbody>\n",
       "</table>\n",
       "</div>"
      ],
      "text/plain": [
       "   sentId predicateId    predicate predicatePos                  question  \\\n",
       "0       0         3-4  recommended         VERB      what is recommended?   \n",
       "1       0         3-4  recommended         VERB      what is recommended?   \n",
       "2       0         5-6         stay         VERB  why should someone stay?   \n",
       "3       0         5-6         stay         VERB  how should someone stay?   \n",
       "4       0         8-9        avoid         VERB   what should be avoided?   \n",
       "\n",
       "                                answer answerStartToken answerEndToken  \\\n",
       "0                                   It              [0]            [1]   \n",
       "1  to stay hydrated and avoid caffeine              [4]           [10]   \n",
       "2               It is also recommended              [0]            [4]   \n",
       "3                             hydrated              [6]            [7]   \n",
       "4                             caffeine              [9]           [10]   \n",
       "\n",
       "  answerId cleanAnswerId  verbTokenId  \\\n",
       "0      0-1           0-1            2   \n",
       "1     4-10          5-10            2   \n",
       "2      0-4           0-4            3   \n",
       "3      6-7           6-7            3   \n",
       "4     9-10          9-10            2   \n",
       "\n",
       "                                           sourceIds  questionId  \\\n",
       "0  [129, 261, 777, 142, 399, 16, 1173, 406, 918, ...           0   \n",
       "1  [771, 712, 713, 232, 847, 848, 657, 306, 307, ...           1   \n",
       "2  [129, 643, 261, 777, 142, 399, 16, 1173, 406, ...           2   \n",
       "3                                         [848, 771]           3   \n",
       "4                                    [712, 657, 727]           4   \n",
       "\n",
       "                                            sentence  \\\n",
       "0  It is also recommended to stay hydrated and av...   \n",
       "1  It is also recommended to stay hydrated and av...   \n",
       "2  It is also recommended to stay hydrated and av...   \n",
       "3  It is also recommended to stay hydrated and av...   \n",
       "4  It is also recommended to stay hydrated and av...   \n",
       "\n",
       "                                           source_id  summary_id  \\\n",
       "0  67247a4db1b0891fc049618dee77f53ebf388b9b97aaca...           3   \n",
       "1  67247a4db1b0891fc049618dee77f53ebf388b9b97aaca...           3   \n",
       "2  67247a4db1b0891fc049618dee77f53ebf388b9b97aaca...           3   \n",
       "3  67247a4db1b0891fc049618dee77f53ebf388b9b97aaca...           3   \n",
       "4  67247a4db1b0891fc049618dee77f53ebf388b9b97aaca...           3   \n",
       "\n",
       "                                               model  \\\n",
       "0  67247a4db1b0891fc049618dee77f53ebf388b9b97aaca...   \n",
       "1  67247a4db1b0891fc049618dee77f53ebf388b9b97aaca...   \n",
       "2  67247a4db1b0891fc049618dee77f53ebf388b9b97aaca...   \n",
       "3  67247a4db1b0891fc049618dee77f53ebf388b9b97aaca...   \n",
       "4  67247a4db1b0891fc049618dee77f53ebf388b9b97aaca...   \n",
       "\n",
       "                                           origin_id  \n",
       "0  67247a4db1b0891fc049618dee77f53ebf388b9b97aaca...  \n",
       "1  67247a4db1b0891fc049618dee77f53ebf388b9b97aaca...  \n",
       "2  67247a4db1b0891fc049618dee77f53ebf388b9b97aaca...  \n",
       "3  67247a4db1b0891fc049618dee77f53ebf388b9b97aaca...  \n",
       "4  67247a4db1b0891fc049618dee77f53ebf388b9b97aaca...  "
      ]
     },
     "execution_count": 67,
     "metadata": {},
     "output_type": "execute_result"
    }
   ],
   "source": [
    "df.head()"
   ]
  },
  {
   "cell_type": "code",
   "execution_count": null,
   "metadata": {},
   "outputs": [],
   "source": []
  },
  {
   "cell_type": "code",
   "execution_count": 68,
   "metadata": {},
   "outputs": [
    {
     "data": {
      "text/plain": [
       "(696, 10)"
      ]
     },
     "execution_count": 68,
     "metadata": {},
     "output_type": "execute_result"
    }
   ],
   "source": [
    "all_qas.shape"
   ]
  },
  {
   "cell_type": "code",
   "execution_count": 69,
   "metadata": {},
   "outputs": [
    {
     "data": {
      "text/html": [
       "<div>\n",
       "<style scoped>\n",
       "    .dataframe tbody tr th:only-of-type {\n",
       "        vertical-align: middle;\n",
       "    }\n",
       "\n",
       "    .dataframe tbody tr th {\n",
       "        vertical-align: top;\n",
       "    }\n",
       "\n",
       "    .dataframe thead th {\n",
       "        text-align: right;\n",
       "    }\n",
       "</style>\n",
       "<table border=\"1\" class=\"dataframe\">\n",
       "  <thead>\n",
       "    <tr style=\"text-align: right;\">\n",
       "      <th></th>\n",
       "      <th>origin_id</th>\n",
       "      <th>source_id</th>\n",
       "      <th>summary_id</th>\n",
       "      <th>model</th>\n",
       "      <th>questionId</th>\n",
       "      <th>sentId</th>\n",
       "      <th>sentence</th>\n",
       "      <th>predicate</th>\n",
       "      <th>question</th>\n",
       "      <th>answer</th>\n",
       "    </tr>\n",
       "  </thead>\n",
       "  <tbody>\n",
       "    <tr>\n",
       "      <th>0</th>\n",
       "      <td>608ef52ca6dc3ea33dfd78c2014987a7efd23785a6b873...</td>\n",
       "      <td>608ef52ca6dc3ea33dfd78c2014987a7efd23785a6b873...</td>\n",
       "      <td>0</td>\n",
       "      <td>608ef52ca6dc3ea33dfd78c2014987a7efd23785a6b873...</td>\n",
       "      <td>0</td>\n",
       "      <td>0</td>\n",
       "      <td>Alfred Hitchcock once said \" Actors are cattle...</td>\n",
       "      <td>said</td>\n",
       "      <td>who said something?</td>\n",
       "      <td>Alfred Hitchcock</td>\n",
       "    </tr>\n",
       "    <tr>\n",
       "      <th>1</th>\n",
       "      <td>608ef52ca6dc3ea33dfd78c2014987a7efd23785a6b873...</td>\n",
       "      <td>608ef52ca6dc3ea33dfd78c2014987a7efd23785a6b873...</td>\n",
       "      <td>0</td>\n",
       "      <td>608ef52ca6dc3ea33dfd78c2014987a7efd23785a6b873...</td>\n",
       "      <td>1</td>\n",
       "      <td>0</td>\n",
       "      <td>Alfred Hitchcock once said \" Actors are cattle...</td>\n",
       "      <td>said</td>\n",
       "      <td>when did someone say something?</td>\n",
       "      <td>once</td>\n",
       "    </tr>\n",
       "    <tr>\n",
       "      <th>2</th>\n",
       "      <td>608ef52ca6dc3ea33dfd78c2014987a7efd23785a6b873...</td>\n",
       "      <td>608ef52ca6dc3ea33dfd78c2014987a7efd23785a6b873...</td>\n",
       "      <td>0</td>\n",
       "      <td>608ef52ca6dc3ea33dfd78c2014987a7efd23785a6b873...</td>\n",
       "      <td>2</td>\n",
       "      <td>0</td>\n",
       "      <td>Alfred Hitchcock once said \" Actors are cattle...</td>\n",
       "      <td>said</td>\n",
       "      <td>what did someone say?</td>\n",
       "      <td>Actors are cattle</td>\n",
       "    </tr>\n",
       "    <tr>\n",
       "      <th>0</th>\n",
       "      <td>608ef52ca6dc3ea33dfd78c2014987a7efd23785a6b873...</td>\n",
       "      <td>608ef52ca6dc3ea33dfd78c2014987a7efd23785a6b873...</td>\n",
       "      <td>1</td>\n",
       "      <td>608ef52ca6dc3ea33dfd78c2014987a7efd23785a6b873...</td>\n",
       "      <td>0</td>\n",
       "      <td>0</td>\n",
       "      <td>Alfred Hitchcock once said \" Actors are cattle...</td>\n",
       "      <td>said</td>\n",
       "      <td>who said something?</td>\n",
       "      <td>Alfred Hitchcock</td>\n",
       "    </tr>\n",
       "    <tr>\n",
       "      <th>1</th>\n",
       "      <td>608ef52ca6dc3ea33dfd78c2014987a7efd23785a6b873...</td>\n",
       "      <td>608ef52ca6dc3ea33dfd78c2014987a7efd23785a6b873...</td>\n",
       "      <td>1</td>\n",
       "      <td>608ef52ca6dc3ea33dfd78c2014987a7efd23785a6b873...</td>\n",
       "      <td>1</td>\n",
       "      <td>0</td>\n",
       "      <td>Alfred Hitchcock once said \" Actors are cattle...</td>\n",
       "      <td>said</td>\n",
       "      <td>when did someone say something?</td>\n",
       "      <td>once</td>\n",
       "    </tr>\n",
       "  </tbody>\n",
       "</table>\n",
       "</div>"
      ],
      "text/plain": [
       "                                           origin_id  \\\n",
       "0  608ef52ca6dc3ea33dfd78c2014987a7efd23785a6b873...   \n",
       "1  608ef52ca6dc3ea33dfd78c2014987a7efd23785a6b873...   \n",
       "2  608ef52ca6dc3ea33dfd78c2014987a7efd23785a6b873...   \n",
       "0  608ef52ca6dc3ea33dfd78c2014987a7efd23785a6b873...   \n",
       "1  608ef52ca6dc3ea33dfd78c2014987a7efd23785a6b873...   \n",
       "\n",
       "                                           source_id  summary_id  \\\n",
       "0  608ef52ca6dc3ea33dfd78c2014987a7efd23785a6b873...           0   \n",
       "1  608ef52ca6dc3ea33dfd78c2014987a7efd23785a6b873...           0   \n",
       "2  608ef52ca6dc3ea33dfd78c2014987a7efd23785a6b873...           0   \n",
       "0  608ef52ca6dc3ea33dfd78c2014987a7efd23785a6b873...           1   \n",
       "1  608ef52ca6dc3ea33dfd78c2014987a7efd23785a6b873...           1   \n",
       "\n",
       "                                               model  questionId  sentId  \\\n",
       "0  608ef52ca6dc3ea33dfd78c2014987a7efd23785a6b873...           0       0   \n",
       "1  608ef52ca6dc3ea33dfd78c2014987a7efd23785a6b873...           1       0   \n",
       "2  608ef52ca6dc3ea33dfd78c2014987a7efd23785a6b873...           2       0   \n",
       "0  608ef52ca6dc3ea33dfd78c2014987a7efd23785a6b873...           0       0   \n",
       "1  608ef52ca6dc3ea33dfd78c2014987a7efd23785a6b873...           1       0   \n",
       "\n",
       "                                            sentence predicate  \\\n",
       "0  Alfred Hitchcock once said \" Actors are cattle...      said   \n",
       "1  Alfred Hitchcock once said \" Actors are cattle...      said   \n",
       "2  Alfred Hitchcock once said \" Actors are cattle...      said   \n",
       "0  Alfred Hitchcock once said \" Actors are cattle...      said   \n",
       "1  Alfred Hitchcock once said \" Actors are cattle...      said   \n",
       "\n",
       "                          question             answer  \n",
       "0              who said something?   Alfred Hitchcock  \n",
       "1  when did someone say something?               once  \n",
       "2            what did someone say?  Actors are cattle  \n",
       "0              who said something?   Alfred Hitchcock  \n",
       "1  when did someone say something?               once  "
      ]
     },
     "execution_count": 69,
     "metadata": {},
     "output_type": "execute_result"
    }
   ],
   "source": [
    "all_qas.head()"
   ]
  },
  {
   "cell_type": "code",
   "execution_count": 72,
   "metadata": {},
   "outputs": [
    {
     "data": {
      "text/plain": [
       "(433, 6)"
      ]
     },
     "execution_count": 72,
     "metadata": {},
     "output_type": "execute_result"
    }
   ],
   "source": [
    "all_qas[[\"origin_id\", \"sentId\", \"sentence\", \"question\", \"predicate\", \"answer\"]].drop_duplicates().shape"
   ]
  },
  {
   "cell_type": "code",
   "execution_count": null,
   "metadata": {},
   "outputs": [],
   "source": []
  },
  {
   "cell_type": "code",
   "execution_count": null,
   "metadata": {},
   "outputs": [],
   "source": []
  },
  {
   "cell_type": "code",
   "execution_count": null,
   "metadata": {},
   "outputs": [],
   "source": []
  },
  {
   "cell_type": "code",
   "execution_count": 84,
   "metadata": {},
   "outputs": [],
   "source": [
    "# remove duplicates because the same sentence can point to multiple sources and it's enough to verify each QA once \n",
    "all_qas[[\"origin_id\", \"sentId\", \"sentence\", \"question\", \"predicate\", \"answer\"]].drop_duplicates().to_csv(\"../src/data/qasem_verification/batch7.csv\", index=False)"
   ]
  },
  {
   "cell_type": "code",
   "execution_count": null,
   "metadata": {},
   "outputs": [],
   "source": []
  },
  {
   "cell_type": "markdown",
   "metadata": {},
   "source": [
    "# Update the QAs according to QASEm verification"
   ]
  },
  {
   "cell_type": "code",
   "execution_count": 48,
   "metadata": {},
   "outputs": [
    {
     "data": {
      "text/html": [
       "<div>\n",
       "<style scoped>\n",
       "    .dataframe tbody tr th:only-of-type {\n",
       "        vertical-align: middle;\n",
       "    }\n",
       "\n",
       "    .dataframe tbody tr th {\n",
       "        vertical-align: top;\n",
       "    }\n",
       "\n",
       "    .dataframe thead th {\n",
       "        text-align: right;\n",
       "    }\n",
       "</style>\n",
       "<table border=\"1\" class=\"dataframe\">\n",
       "  <thead>\n",
       "    <tr style=\"text-align: right;\">\n",
       "      <th></th>\n",
       "      <th>source_id</th>\n",
       "      <th>summary_id</th>\n",
       "      <th>model</th>\n",
       "      <th>questionId</th>\n",
       "      <th>sentId</th>\n",
       "      <th>sentence</th>\n",
       "      <th>predicate</th>\n",
       "      <th>question</th>\n",
       "      <th>answer</th>\n",
       "      <th>annotation</th>\n",
       "    </tr>\n",
       "  </thead>\n",
       "  <tbody>\n",
       "    <tr>\n",
       "      <th>0</th>\n",
       "      <td>NPR-41366_Influence of Iran in Iraq</td>\n",
       "      <td>0</td>\n",
       "      <td>C</td>\n",
       "      <td>0</td>\n",
       "      <td>1</td>\n",
       "      <td>They operate in Iraq , conducting military act...</td>\n",
       "      <td>operate</td>\n",
       "      <td>who operates somewhere?</td>\n",
       "      <td>They</td>\n",
       "      <td>Correct</td>\n",
       "    </tr>\n",
       "    <tr>\n",
       "      <th>1</th>\n",
       "      <td>NPR-41366_Influence of Iran in Iraq</td>\n",
       "      <td>0</td>\n",
       "      <td>C</td>\n",
       "      <td>1</td>\n",
       "      <td>1</td>\n",
       "      <td>They operate in Iraq , conducting military act...</td>\n",
       "      <td>operate</td>\n",
       "      <td>where does someone operate?</td>\n",
       "      <td>in Iraq</td>\n",
       "      <td>Correct</td>\n",
       "    </tr>\n",
       "    <tr>\n",
       "      <th>2</th>\n",
       "      <td>NPR-41366_Influence of Iran in Iraq</td>\n",
       "      <td>0</td>\n",
       "      <td>C</td>\n",
       "      <td>2</td>\n",
       "      <td>1</td>\n",
       "      <td>They operate in Iraq , conducting military act...</td>\n",
       "      <td>operate</td>\n",
       "      <td>how does someone operate somewhere?</td>\n",
       "      <td>conducting military activities and intelligenc...</td>\n",
       "      <td>Correct</td>\n",
       "    </tr>\n",
       "    <tr>\n",
       "      <th>3</th>\n",
       "      <td>NPR-41366_Influence of Iran in Iraq</td>\n",
       "      <td>0</td>\n",
       "      <td>C</td>\n",
       "      <td>3</td>\n",
       "      <td>1</td>\n",
       "      <td>They operate in Iraq , conducting military act...</td>\n",
       "      <td>conducting</td>\n",
       "      <td>who is conducting something?</td>\n",
       "      <td>They</td>\n",
       "      <td>Correct</td>\n",
       "    </tr>\n",
       "    <tr>\n",
       "      <th>4</th>\n",
       "      <td>NPR-41366_Influence of Iran in Iraq</td>\n",
       "      <td>0</td>\n",
       "      <td>C</td>\n",
       "      <td>4</td>\n",
       "      <td>1</td>\n",
       "      <td>They operate in Iraq , conducting military act...</td>\n",
       "      <td>conducting</td>\n",
       "      <td>where is someone conducting something?</td>\n",
       "      <td>in Iraq</td>\n",
       "      <td>Correct</td>\n",
       "    </tr>\n",
       "  </tbody>\n",
       "</table>\n",
       "</div>"
      ],
      "text/plain": [
       "                             source_id  summary_id model  questionId  sentId  \\\n",
       "0  NPR-41366_Influence of Iran in Iraq           0     C           0       1   \n",
       "1  NPR-41366_Influence of Iran in Iraq           0     C           1       1   \n",
       "2  NPR-41366_Influence of Iran in Iraq           0     C           2       1   \n",
       "3  NPR-41366_Influence of Iran in Iraq           0     C           3       1   \n",
       "4  NPR-41366_Influence of Iran in Iraq           0     C           4       1   \n",
       "\n",
       "                                            sentence   predicate  \\\n",
       "0  They operate in Iraq , conducting military act...     operate   \n",
       "1  They operate in Iraq , conducting military act...     operate   \n",
       "2  They operate in Iraq , conducting military act...     operate   \n",
       "3  They operate in Iraq , conducting military act...  conducting   \n",
       "4  They operate in Iraq , conducting military act...  conducting   \n",
       "\n",
       "                                 question  \\\n",
       "0                 who operates somewhere?   \n",
       "1             where does someone operate?   \n",
       "2     how does someone operate somewhere?   \n",
       "3            who is conducting something?   \n",
       "4  where is someone conducting something?   \n",
       "\n",
       "                                              answer annotation  \n",
       "0                                               They    Correct  \n",
       "1                                            in Iraq    Correct  \n",
       "2  conducting military activities and intelligenc...    Correct  \n",
       "3                                               They    Correct  \n",
       "4                                            in Iraq    Correct  "
      ]
     },
     "execution_count": 48,
     "metadata": {},
     "output_type": "execute_result"
    }
   ],
   "source": [
    "# load annotation \n",
    "df = pd.read_csv(\"../src/data/qasem_verification/batch6_with_annotations.csv\")\n",
    "df.head()"
   ]
  },
  {
   "cell_type": "code",
   "execution_count": 49,
   "metadata": {},
   "outputs": [
    {
     "data": {
      "text/plain": [
       "Correct          871\n",
       "Innapropriate    179\n",
       "Name: annotation, dtype: int64"
      ]
     },
     "execution_count": 49,
     "metadata": {},
     "output_type": "execute_result"
    }
   ],
   "source": [
    "df[\"annotation\"].value_counts()"
   ]
  },
  {
   "cell_type": "code",
   "execution_count": 50,
   "metadata": {},
   "outputs": [
    {
     "data": {
      "text/plain": [
       "'\\nfor topic in df, load json \\ncreate new question id \\ncreate mapping between old question Id and new question id \\nremove questions \\nremove spans \\n'"
      ]
     },
     "execution_count": 50,
     "metadata": {},
     "output_type": "execute_result"
    }
   ],
   "source": [
    "'''\n",
    "for topic in df, load json \n",
    "create new question id \n",
    "create mapping between old question Id and new question id \n",
    "remove questions \n",
    "remove spans \n",
    "'''\n"
   ]
  },
  {
   "cell_type": "code",
   "execution_count": 51,
   "metadata": {},
   "outputs": [
    {
     "data": {
      "text/plain": [
       "18"
      ]
     },
     "execution_count": 51,
     "metadata": {},
     "output_type": "execute_result"
    }
   ],
   "source": [
    "df[\"source_id\"].nunique()"
   ]
  },
  {
   "cell_type": "code",
   "execution_count": 52,
   "metadata": {},
   "outputs": [],
   "source": [
    "groups = df.groupby(\"source_id\")"
   ]
  },
  {
   "cell_type": "code",
   "execution_count": 9,
   "metadata": {},
   "outputs": [
    {
     "ename": "KeyError",
     "evalue": "20",
     "output_type": "error",
     "traceback": [
      "\u001b[0;31m---------------------------------------------------------------------------\u001b[0m",
      "\u001b[0;31mKeyError\u001b[0m                                  Traceback (most recent call last)",
      "Input \u001b[0;32mIn [9]\u001b[0m, in \u001b[0;36m<cell line: 2>\u001b[0;34m()\u001b[0m\n\u001b[1;32m      1\u001b[0m source_id \u001b[38;5;241m=\u001b[39m \u001b[38;5;241m20\u001b[39m\n\u001b[0;32m----> 2\u001b[0m source_qas \u001b[38;5;241m=\u001b[39m \u001b[43mgroups\u001b[49m\u001b[38;5;241;43m.\u001b[39;49m\u001b[43mget_group\u001b[49m\u001b[43m(\u001b[49m\u001b[43msource_id\u001b[49m\u001b[43m)\u001b[49m\n",
      "File \u001b[0;32m~/anaconda3/envs/loc-unfaith/lib/python3.8/site-packages/pandas/core/groupby/groupby.py:747\u001b[0m, in \u001b[0;36mBaseGroupBy.get_group\u001b[0;34m(self, name, obj)\u001b[0m\n\u001b[1;32m    745\u001b[0m inds \u001b[38;5;241m=\u001b[39m \u001b[38;5;28mself\u001b[39m\u001b[38;5;241m.\u001b[39m_get_index(name)\n\u001b[1;32m    746\u001b[0m \u001b[38;5;28;01mif\u001b[39;00m \u001b[38;5;129;01mnot\u001b[39;00m \u001b[38;5;28mlen\u001b[39m(inds):\n\u001b[0;32m--> 747\u001b[0m     \u001b[38;5;28;01mraise\u001b[39;00m \u001b[38;5;167;01mKeyError\u001b[39;00m(name)\n\u001b[1;32m    749\u001b[0m \u001b[38;5;28;01mreturn\u001b[39;00m obj\u001b[38;5;241m.\u001b[39m_take_with_is_copy(inds, axis\u001b[38;5;241m=\u001b[39m\u001b[38;5;28mself\u001b[39m\u001b[38;5;241m.\u001b[39maxis)\n",
      "\u001b[0;31mKeyError\u001b[0m: 20"
     ]
    }
   ],
   "source": [
    "source_id = 20\n",
    "source_qas = groups.get_group(source_id)"
   ]
  },
  {
   "cell_type": "code",
   "execution_count": 39,
   "metadata": {},
   "outputs": [],
   "source": [
    "def get_new_qa_id(qaIds, old_new_mapping):\n",
    "    new_qaIds = []\n",
    "    for qa_id in qaIds:\n",
    "        if qa_id in old_new_mapping:\n",
    "            new_qaIds.append(old_new_mapping[qa_id])\n",
    "\n",
    "    return new_qaIds"
   ]
  },
  {
   "cell_type": "code",
   "execution_count": 53,
   "metadata": {},
   "outputs": [],
   "source": [
    "output_dir = \"../src/data/qasem_verification/v6\"\n",
    "if not os.path.exists(output_dir):\n",
    "    os.makedirs(output_dir)"
   ]
  },
  {
   "cell_type": "code",
   "execution_count": 54,
   "metadata": {},
   "outputs": [],
   "source": [
    "json_files_path = \"../src/data/tofueval_chosen/mediasum\""
   ]
  },
  {
   "cell_type": "code",
   "execution_count": 55,
   "metadata": {},
   "outputs": [
    {
     "name": "stderr",
     "output_type": "stream",
     "text": [
      "  0%|          | 0/18 [00:00<?, ?it/s]"
     ]
    },
    {
     "name": "stderr",
     "output_type": "stream",
     "text": [
      " 22%|██▏       | 4/18 [00:00<00:00, 17.45it/s]"
     ]
    },
    {
     "name": "stdout",
     "output_type": "stream",
     "text": [
      "source_id: CNN-104129_Decline of American automobile industry, QA: 45\n",
      "source_id: CNN-134470_Government Bailout, QA: 11\n",
      "source_id: CNN-139946_Minnesota Senate Race, QA: 39\n",
      "source_id: CNN-164885_Cuban celebration and government gathering, QA: 46\n",
      "source_id: CNN-25553_Airlines' commitment to service improvements, QA: 56\n"
     ]
    },
    {
     "name": "stderr",
     "output_type": "stream",
     "text": [
      " 56%|█████▌    | 10/18 [00:00<00:00, 21.33it/s]"
     ]
    },
    {
     "name": "stdout",
     "output_type": "stream",
     "text": [
      "source_id: CNN-262980_Jeb Bush and Trump's immigration stance, QA: 51\n",
      "source_id: CNN-340132_Trump administration's peace plan, QA: 40\n",
      "source_id: CNN-388107_Shadow foreign policy, QA: 40\n",
      "source_id: CNN-50484_Iraq's preparations for a potential US assault, QA: 57\n",
      "source_id: CNN-62362_Illegal immigration, QA: 63\n"
     ]
    },
    {
     "name": "stderr",
     "output_type": "stream",
     "text": [
      " 72%|███████▏  | 13/18 [00:00<00:00, 21.50it/s]"
     ]
    },
    {
     "name": "stdout",
     "output_type": "stream",
     "text": [
      "source_id: CNN-7972_Federal Reserve's policy, QA: 51\n",
      "source_id: NPR-18547_Problems with diaper changes for disabled adults, QA: 61\n",
      "source_id: NPR-38350_Immigration debate, QA: 80\n",
      "source_id: NPR-41366_Control and decision-making in Tehran, QA: 33\n",
      "source_id: NPR-41366_Influence of Iran in Iraq, QA: 63\n"
     ]
    },
    {
     "name": "stderr",
     "output_type": "stream",
     "text": [
      "100%|██████████| 18/18 [00:00<00:00, 20.67it/s]"
     ]
    },
    {
     "name": "stdout",
     "output_type": "stream",
     "text": [
      "source_id: NPR-5615_Presidential helicopter cost, QA: 52\n",
      "source_id: NPR-8010_Anti-Semitic incidents in schools, QA: 36\n",
      "source_id: NPR-9336_Improvements in addressing cyberattacks, QA: 45\n"
     ]
    },
    {
     "name": "stderr",
     "output_type": "stream",
     "text": [
      "\n"
     ]
    }
   ],
   "source": [
    "for source_id, source_qas in tqdm(df.groupby(\"source_id\"), total=df[\"source_id\"].nunique()):\n",
    "  with open(f\"{json_files_path}/{source_id}.json\", \"r\") as f:\n",
    "      data = json.load(f)\n",
    "  for summary_id, summary_qas in source_qas.groupby(\"summary_id\"):\n",
    "    # remove qas\n",
    "    correct_qas = summary_qas[summary_qas[\"annotation\"] == \"Correct\"].copy() # get only correct\n",
    "    correct_qas['questionId'] = range(len(correct_qas)) # update qaId\n",
    "    old_new_mapping_qa = dict(zip(summary_qas[summary_qas['annotation'] == 'Correct']['questionId'], correct_qas['questionId'])) # mapping from old to new qaID to update span id \n",
    "    df_qas = pd.DataFrame(data[\"summaries\"][summary_id][\"qas\"]) \n",
    "    df_qas[\"questionId\"] = df_qas[\"questionId\"].apply(lambda x: old_new_mapping_qa.get(x, None))\n",
    "    df_qas = df_qas.dropna().copy()\n",
    "    df_qas[\"questionId\"] = df_qas[\"questionId\"].astype(int)\n",
    "    data[\"summaries\"][summary_id][\"qas\"] = df_qas.to_dict(orient=\"records\")\n",
    "\n",
    "    # remove spans \n",
    "    df_spans = pd.DataFrame(data[\"summaries\"][summary_id][\"spans\"])\n",
    "    df_spans[\"qaIds\"] = df_spans[\"qaIds\"].apply(lambda qaIds: get_new_qa_id(qaIds=qaIds, old_new_mapping=old_new_mapping_qa)) # remove spans from filtered qas \n",
    "    df_correct_spans = df_spans[df_spans[\"qaIds\"].apply(len) > 0].copy() # update spans according to the filtered qas \n",
    "    df_correct_spans[\"id\"] = range(len(df_correct_spans))\n",
    "    old_new_mapping_span = dict(zip(df_spans[df_spans[\"qaIds\"].apply(len) > 0][\"id\"], df_correct_spans[\"id\"])) # mapping from old to new spanID to update predicates\n",
    "    data[\"summaries\"][summary_id][\"spans\"] = df_correct_spans.to_dict(orient=\"records\")\n",
    "\n",
    "    # update predicates \n",
    "    predicates = data[\"summaries\"][summary_id][\"predicates\"]\n",
    "    updated_predicates = []\n",
    "    for pred in predicates:\n",
    "        if pred in old_new_mapping_span: # remove predicate if all its QAs were filtered \n",
    "            updated_predicates.append(old_new_mapping_span[pred])\n",
    "    data[\"summaries\"][summary_id][\"predicates\"] = updated_predicates\n",
    "\n",
    "    # remove spanIds in tokens \n",
    "    tokens = [{\n",
    "      'id': token[\"id\"],\n",
    "      'text': token[\"text\"],\n",
    "      'lemma': token[\"lemma\"],\n",
    "      'spans': [],\n",
    "      'class': token[\"class\"],\n",
    "      # 'label': token[\"label\"]\n",
    "    } for token in data[\"summaries\"][summary_id][\"tokens\"]]\n",
    "    data[\"summaries\"][summary_id][\"tokens\"] = tokens \n",
    "\n",
    "  \n",
    "  qa_num = len(data[\"summaries\"][0][\"qas\"]) + len(data[\"summaries\"][1][\"qas\"])\n",
    "  print(f\"source_id: {source_id}, QA: {qa_num}\")\n",
    "  with open(os.path.join(output_dir, f\"{source_id}.json\"), \"w\") as f:\n",
    "     json.dump(data, f, indent=4)\n",
    "\n"
   ]
  },
  {
   "cell_type": "code",
   "execution_count": null,
   "metadata": {},
   "outputs": [],
   "source": []
  },
  {
   "cell_type": "code",
   "execution_count": null,
   "metadata": {},
   "outputs": [],
   "source": []
  },
  {
   "cell_type": "code",
   "execution_count": null,
   "metadata": {},
   "outputs": [],
   "source": []
  }
 ],
 "metadata": {
  "kernelspec": {
   "display_name": "loc-unfaith",
   "language": "python",
   "name": "python3"
  },
  "language_info": {
   "codemirror_mode": {
    "name": "ipython",
    "version": 3
   },
   "file_extension": ".py",
   "mimetype": "text/x-python",
   "name": "python",
   "nbconvert_exporter": "python",
   "pygments_lexer": "ipython3",
   "version": "3.8.13"
  }
 },
 "nbformat": 4,
 "nbformat_minor": 2
}
